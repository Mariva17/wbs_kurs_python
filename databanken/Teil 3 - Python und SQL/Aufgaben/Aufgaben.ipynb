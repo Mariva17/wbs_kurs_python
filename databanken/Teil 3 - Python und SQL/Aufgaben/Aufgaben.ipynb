{
 "cells": [
  {
   "cell_type": "markdown",
   "metadata": {},
   "source": [
    "# Aufgaben\n",
    "\n",
    "## Aufgabe 1:\n",
    "\n",
    "Erweitern Sie Ihr Programm für den Warenkatalog um folgende Funktionen:\n",
    "\n",
    "- Produktliste anzeigen lassen\n",
    "- Produktdaten aktualisieren nach ID (Produkt ID)\n",
    "- Produkt löschen"
   ]
  },
  {
   "cell_type": "code",
   "metadata": {
    "ExecuteTime": {
     "end_time": "2024-04-25T11:35:33.222410Z",
     "start_time": "2024-04-25T11:35:33.073244Z"
    }
   },
   "source": [
    "import mysql.connector as mc\n",
    "import mysql\n",
    "try:\n",
    "    connection = mc.connect(\n",
    "        host='localhost',\n",
    "        user='root',\n",
    "        password='12345',\n",
    "    )\n",
    "except mc.errors.ProgrammingError as e:\n",
    "    print(\"Es ist folgende Fehler aufgetreten: \\n \", e)\n",
    "    \n",
    "c = connection.cursor()\n",
    "\n",
    "try:\n",
    "    c.execute(\"CREATE DATABASE IF NOT EXISTS warenkatalog\")\n",
    "    print(\"Datenbank wurde erfolgreich angelegt\")\n",
    "except mysql.connector.Error as e:\n",
    "    print(\"Es ist ein Fehler aufgetreten: \\n \", e)\n",
    "finally:\n",
    "    connection.close()\n",
    "\n"
   ],
   "outputs": [
    {
     "name": "stdout",
     "output_type": "stream",
     "text": [
      "Datenbank wurde erfolgreich angelegt\n"
     ]
    }
   ],
   "execution_count": 1
  },
  {
   "metadata": {
    "ExecuteTime": {
     "end_time": "2024-04-25T11:42:51.842798Z",
     "start_time": "2024-04-25T11:42:51.787257Z"
    }
   },
   "cell_type": "code",
   "source": [
    "import mysql.connector as mc\n",
    "import mysql\n",
    "from sys import exit\n",
    "\n",
    "try:\n",
    "    connection = mc.connect(\n",
    "        host='localhost',\n",
    "        user='root',\n",
    "        password='12345',\n",
    "        db='warenkatalog'\n",
    "    )\n",
    "except mc.errors.ProgrammingError as e:\n",
    "    print(\"Es ist folgende Fehler aufgetreten: \\n \", e)\n",
    "    exit(2)\n",
    "c = connection.cursor()\n",
    "\n",
    "sql = \"\"\"CREATE TABLE IF NOT EXISTS products (\n",
    "id INT(6) UNSIGNED AUTO_INCREMENT PRIMARY KEY,\n",
    "title VARCHAR(30) NOT NULL,\n",
    "company VARCHAR(30) NOT NULL,\n",
    "price VARCHAR(30) NOT NULL)\n",
    "\"\"\"\n",
    "try: \n",
    "    c.execute(sql)\n",
    "    \n",
    "except:\n",
    "    print(\"Es ist folgender Fehler aufgetreten\")\n",
    "    exit(1)"
   ],
   "outputs": [],
   "execution_count": 2
  },
  {
   "metadata": {
    "ExecuteTime": {
     "end_time": "2024-04-25T11:58:34.386486Z",
     "start_time": "2024-04-25T11:57:55.938853Z"
    }
   },
   "cell_type": "code",
   "source": [
    "import mysql.connector as mc\n",
    "import mysql\n",
    "from sys import exit\n",
    "\n",
    "try:\n",
    "    connection = mc.connect(\n",
    "        host='localhost',\n",
    "        user='root',\n",
    "        password='12345',\n",
    "        db='warenkatalog'\n",
    "    )\n",
    "    c = connection.cursor()\n",
    "except mc.errors.ProgrammingError as e:\n",
    "    print(\"Es ist folgende Fehler aufgetreten: \\n \", e)\n",
    "    exit(1)\n",
    "\n",
    "product = input(\"Please insert title of product: \")\n",
    "company = input(\"Please insert company of product: \")\n",
    "price = input(\"Please insert price of product: \")\n",
    "\n",
    "sql = \"\"\"INSERT INTO products (title, company, price) VALUES (%s, %s, %s)\"\"\"\n",
    "params = (product, company, price) \n",
    "\n",
    "c.execute(sql, params)\n",
    "connection.commit()\n",
    "connection.close()\n",
    "\n"
   ],
   "outputs": [],
   "execution_count": 3
  },
  {
   "metadata": {
    "ExecuteTime": {
     "end_time": "2024-04-25T12:12:22.676408Z",
     "start_time": "2024-04-25T12:12:22.661831Z"
    }
   },
   "cell_type": "code",
   "source": [
    "import mysql.connector as mc\n",
    "from sys import exit\n",
    "\n",
    "try:\n",
    "    connection = mc.connect(\n",
    "        host='localhost',\n",
    "        user='root',\n",
    "        password='12345',\n",
    "        db='warenkatalog'\n",
    "    )\n",
    "    c = connection.cursor()\n",
    "except mc.errors.ProgrammingError as e:\n",
    "    print(\"Es ist folgende Fehler aufgetreten: \\n \", e)\n",
    "    exit(1)\n",
    "    \n",
    "sql = \"\"\"SELECT * FROM products\"\"\"\n",
    "c.execute(sql)\n",
    "result = c.fetchall()\n",
    "connection.close()\n",
    "print(\"Ausgabe als Liste\")\n",
    "print(result)\n",
    "print(\"Iteration\")\n",
    "for i in result:\n",
    "    print(i)\n",
    "print(\"New Iteration\")\n",
    "for _, name, company, price in result:\n",
    "    print(name, company, price)\n"
   ],
   "outputs": [
    {
     "name": "stdout",
     "output_type": "stream",
     "text": [
      "Ausgabe als Liste\n",
      "[(1, 'milk', 'Danon', '1.5'), (2, 'butter', 'Danon', '2.5'), (3, 'meat', 'Burger', '8.9')]\n",
      "Iteration\n",
      "(1, 'milk', 'Danon', '1.5')\n",
      "(2, 'butter', 'Danon', '2.5')\n",
      "(3, 'meat', 'Burger', '8.9')\n",
      "New Iteration\n",
      "milk Danon 1.5\n",
      "butter Danon 2.5\n",
      "meat Burger 8.9\n"
     ]
    }
   ],
   "execution_count": 5
  },
  {
   "metadata": {
    "ExecuteTime": {
     "end_time": "2024-04-26T06:24:06.837110Z",
     "start_time": "2024-04-26T06:24:06.684946Z"
    }
   },
   "cell_type": "code",
   "source": [
    "import mysql.connector as mc\n",
    "from sys import exit\n",
    "\n",
    "try:\n",
    "    connection = mc.connect(\n",
    "        host='localhost',\n",
    "        user='root',\n",
    "        password='12345',\n",
    "        db='warenkatalog'\n",
    "    )\n",
    "    c = connection.cursor()\n",
    "except mc.errors.ProgrammingError as e:\n",
    "    print(\"Es ist folgende Fehler aufgetreten: \\n \", e)\n",
    "    exit(1)\n",
    "\n",
    "sql = \"\"\"SELECT * FROM products ORDER BY id DESC\"\"\"\n",
    "c.execute(sql)\n",
    "result = c.fetchall()\n",
    "connection.close()\n",
    "for i in result:\n",
    "    print(i)\n"
   ],
   "outputs": [
    {
     "name": "stdout",
     "output_type": "stream",
     "text": [
      "(8, \"table 'Circle'\", 'Kitchens', '241', '1', '1258-2568')\n",
      "(7, \"sofa 'Dream'\", 'Tree', '612', '2', '35-668')\n",
      "(6, \"chair 'Star'\", 'Big company', '187', '54', '25-65')\n",
      "(5, 'table', 'Tree', '470', '5', '2587-8741')\n",
      "(4, 'chair', 'Big company', '150', '21', '123-658')\n"
     ]
    }
   ],
   "execution_count": 1
  },
  {
   "metadata": {
    "ExecuteTime": {
     "end_time": "2024-04-25T12:30:13.676849Z",
     "start_time": "2024-04-25T12:30:13.659295Z"
    }
   },
   "cell_type": "code",
   "source": [
    "import mysql.connector as mc\n",
    "from sys import exit\n",
    "\n",
    "try:\n",
    "    connection = mc.connect(\n",
    "        host='localhost',\n",
    "        user='root',\n",
    "        password='12345',\n",
    "        db='warenkatalog'\n",
    "    )\n",
    "    c = connection.cursor()\n",
    "except mc.errors.ProgrammingError as e:\n",
    "    print(\"Es ist folgende Fehler aufgetreten: \\n \", e)\n",
    "    exit(1)\n",
    "    \n",
    "x = \"meat\"\n",
    "params = (x, )\n",
    "sql = \"\"\"DELETE FROM products WHERE title = %s\"\"\"\n",
    "c.execute(sql, params)\n",
    "connection.commit()\n",
    "connection.close()"
   ],
   "outputs": [],
   "execution_count": 12
  },
  {
   "cell_type": "markdown",
   "source": [
    "### Aufgabe 2:\n",
    "Erweitern Sie die Tabelle um einen Eintrag \"stock\".\n",
    "\n",
    "Verwandeln Sie ihren Warenkatalog in ein kleines Warenwirtschatfsystem, in dem Sie die Bestände erweitern oder verkleinern können. "
   ],
   "metadata": {
    "collapsed": false
   }
  },
  {
   "cell_type": "code",
   "source": [
    "import mysql.connector as mc\n",
    "from sys import exit\n",
    "\n",
    "try:\n",
    "    connection = mc.connect(\n",
    "        host='localhost',\n",
    "        user='root',\n",
    "        password='12345',\n",
    "        db='warenkatalog'\n",
    "    )\n",
    "    c = connection.cursor()\n",
    "except mc.errors.ProgrammingError as e:\n",
    "    print(\"Es ist folgende Fehler aufgetreten: \\n \", e)\n",
    "    exit(1)\n",
    "\n",
    "sql = \"\"\"ALTER TABLE products ADD COLUMN article VARCHAR(30)\"\"\"\n",
    "c.execute(sql)\n",
    "connection.commit()\n",
    "connection.close()\n",
    "\n"
   ],
   "metadata": {
    "collapsed": false,
    "ExecuteTime": {
     "end_time": "2024-04-25T12:48:54.651367Z",
     "start_time": "2024-04-25T12:48:54.622947Z"
    }
   },
   "outputs": [],
   "execution_count": 17
  },
  {
   "cell_type": "markdown",
   "source": [
    "### Aufgabe 3:\n",
    "Schreiben Sie ein kleines konsolenbasiertes Menü, um ihr Programm komfortabel zu bedienen. Außerdem sollten Sie beim Start überprüfen, ob die benötigte Datenbank existiert. Wenn nicht, soll eine passende Datenbank angelegt werden."
   ],
   "metadata": {
    "collapsed": false
   }
  },
  {
   "cell_type": "code",
   "source": [
    "import mysql.connector as mc\n",
    "import mysql\n",
    "from sys import exit\n",
    "\n",
    "\n",
    "def add_data(cursor, connection, name, nummer, price):\n",
    "    sql = \"\"\"INSERT INTO katalog (Produktname, Artikelnummer, Netto_Price) VALUES (%s, %s, %s)\"\"\"\n",
    "    params = (name, nummer, price)\n",
    "    cursor.execute(sql, params)\n",
    "    connection.commit()\n",
    "\n",
    "\n",
    "def show_data(cursor):\n",
    "    sql = \"\"\"SELECT * FROM katalog\"\"\"\n",
    "    cursor.execute(sql)\n",
    "    result = cursor.fetchall()\n",
    "    print(\"*\" * 40)\n",
    "    for id, name, nummer, price in result:\n",
    "        print(f\"{id} \\t {name} \\t{nummer} \\t{price}\")\n",
    "    print(\"*\" * 40)\n",
    "\n",
    "\n",
    "def menu():\n",
    "    print(\n",
    "        \"\\tA / a: Vorhandene Tabellen anzeigen\\n\",\n",
    "        \"\\tB / b: Daten hinzufügen\\n\"\n",
    "        \"\\tE / e: End\"\n",
    "    )\n",
    "\n",
    "\n",
    "def main():\n",
    "    try:\n",
    "        connection = mc.connect(\n",
    "            host='localhost',\n",
    "            user='root',\n",
    "            password='12345',\n",
    "        )\n",
    "\n",
    "    except mc.errors.ProgrammingError as e:\n",
    "        print(\"Es ist folgende Fehler aufgetreten: \\n \", e)\n",
    "\n",
    "    try:\n",
    "        cursor = connection.cursor()\n",
    "        cursor.execute(\"CREATE DATABASE IF NOT EXISTS store\")\n",
    "        cursor.execute(\"USE store\")\n",
    "        sql = \"\"\"CREATE TABLE IF NOT EXISTS katalog(\n",
    "        id INT AUTO_INCREMENT PRIMARY KEY,\n",
    "        Produktname VARCHAR(30) NOT NULL,\n",
    "        Artikelnummer VARCHAR(30) NOT NULL,\n",
    "        Netto_Price FLOAT (7, 2))\"\"\"\n",
    "        cursor.execute(sql)\n",
    "    except mc.errors.ProgrammingError as e:\n",
    "        print(\"Es ist folgende Fehler aufgetreten: \\n \", e)\n",
    "\n",
    "    while True:\n",
    "        menu()\n",
    "        ui = input(\"-> \").upper()\n",
    "        if ui == \"E\":\n",
    "            break\n",
    "        elif ui == \"A\":\n",
    "            show_data(cursor)\n",
    "        elif ui == \"B\":\n",
    "            name = input(\"Produktname: \")\n",
    "            nummer = input(\"Artikelnummer: \")\n",
    "            price = input(\"Netto_Price: \")\n",
    "            add_data(cursor, connection, name, nummer, price)\n",
    "\n",
    "    connection.close()\n",
    "\n",
    "\n",
    "if __name__ == \"__main__\":\n",
    "    main()\n",
    "\n"
   ],
   "metadata": {
    "collapsed": false,
    "ExecuteTime": {
     "end_time": "2024-04-26T12:34:27.640106Z",
     "start_time": "2024-04-26T12:33:32.430854Z"
    }
   },
   "outputs": [
    {
     "name": "stdout",
     "output_type": "stream",
     "text": [
      "\tA / a: Vorhandene Tabellen anzeigen\n",
      " \tB / b: Daten hinzufügen\n",
      "\tE / e: End\n",
      "****************************************\n",
      "1 \t table \t123-654 \t122.0\n",
      "2 \t chair \t325-895 \t57.33\n",
      "3 \t table-kitchen \t698-784 \t147.0\n",
      "****************************************\n",
      "\tA / a: Vorhandene Tabellen anzeigen\n",
      " \tB / b: Daten hinzufügen\n",
      "\tE / e: End\n",
      "\tA / a: Vorhandene Tabellen anzeigen\n",
      " \tB / b: Daten hinzufügen\n",
      "\tE / e: End\n"
     ]
    }
   ],
   "execution_count": 2
  },
  {
   "cell_type": "markdown",
   "source": [
    "<img style=\"float: center;\" src=\"img/wbs-logo.jpg\">\n",
    "\n",
    "### Abbildungs- und Quellenverzeichnis\n",
    "https://de.wikipedia.org/wiki/Python_(Programmiersprache)\n",
    "Das Python Logo ist ein eingetragenes Warenzeichen der Python Software Foundation\n",
    "Alle auf dieser Website veröffentlichten Logos sowie Marken-, Produkt- und Warenzeichen sind Eigentum der jeweiligen Unternehmen\n",
    "© WBS TRAINING AG – Alle Rechte vorbehalten\n",
    "\n",
    "### Nutzungsrechte:\n",
    "Die Nutzung dieser Dokumentation ist ausschließlich für Schulungszwecke der WBS TRAINING AG gestattet. Eine Weitergabe an Dritte, auch auszugsweise, sowie Vervielfältigungen und Verbreitungen aller Art (elektronische und andere Verfahren) inklusive Übersetzungen sind nur mit vorheriger schriftlicher Zustimmung des Rechtinhabers gestattet. Zuwiderhandlungen verpflichten zu Schadenersatz.\n",
    "\n",
    "### Herausgeber:\n",
    "\n",
    "WBS TRAINING AG\n",
    "Lorenzweg 5\n",
    "12099 Berlin\n",
    "\n",
    "### Haftungsausschluss:\n",
    "Alle Inhalte sind nach bestem Wissen korrekt und vollständig recherchiert und mit größtmöglicher Sorgfalt für die Schulungsunterlage zusammengestellt. Wir sind um die laufende Aktualisierung aller Informationen und Daten bemüht. Dennoch können Fehler (z.B. Abweichungen zur beschriebenen Hard- und Software durch kurzfristige Updates) auftreten, sodass wir für die vollständige Übereinstimmung, Richtigkeit und Aktualität keine Gewähr übernehmen. Hinweise unserer Nutzer werden konsequent weiterverfolgt.\n"
   ],
   "metadata": {}
  }
 ],
 "metadata": {
  "kernelspec": {
   "display_name": "Python 3",
   "language": "python",
   "name": "python3"
  },
  "language_info": {
   "codemirror_mode": {
    "name": "ipython",
    "version": 3
   },
   "file_extension": ".py",
   "mimetype": "text/x-python",
   "name": "python",
   "nbconvert_exporter": "python",
   "pygments_lexer": "ipython3",
   "version": "3.8.5"
  }
 },
 "nbformat": 4,
 "nbformat_minor": 4
}
