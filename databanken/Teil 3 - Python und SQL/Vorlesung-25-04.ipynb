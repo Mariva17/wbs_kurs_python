{
 "cells": [
  {
   "cell_type": "markdown",
   "source": [
    "<img style=\"float: right;\" src=\"img/python.png\">\n",
    "\n",
    "# Verbindung zu einer MySQL (MariaDB) Datenbank\n",
    "Als Erstes muss eine Verbindung zu einer Datenbank hergestellt werden. Dazu müssen 2 neue Bibliotheken der Python-Umgebung hinzugefügt werden:\n",
    "- mysql\n",
    "- mysql-connector-python"
   ],
   "metadata": {
    "collapsed": false
   }
  },
  {
   "cell_type": "code",
   "source": [
    "import mysql.connector as mc\n",
    "import mysql\n",
    "try:\n",
    "    connection = mc.connect(\n",
    "        host='localhost',\n",
    "        user='root',\n",
    "        password='12345',\n",
    "    )\n",
    "except mc.errors.ProgrammingError as e:\n",
    "    print(\"Es ist folgende Fehler aufgetreten: \\n \", e)"
   ],
   "metadata": {
    "collapsed": false,
    "ExecuteTime": {
     "end_time": "2024-04-25T07:09:38.006954Z",
     "start_time": "2024-04-25T07:09:37.695391Z"
    }
   },
   "outputs": [],
   "execution_count": 1
  },
  {
   "cell_type": "markdown",
   "source": [
    "### Erstellen des Cursors\n",
    "Hier wird ein Cursor mit den Namen \"**c**\" erstellt. Danach werden alle Tabellen, auf die der Benutzer Berechtigungen besitzt aufgelistet."
   ],
   "metadata": {
    "collapsed": false
   }
  },
  {
   "cell_type": "code",
   "source": "c = connection.cursor()",
   "metadata": {
    "collapsed": false,
    "ExecuteTime": {
     "end_time": "2024-04-25T07:18:25.005357Z",
     "start_time": "2024-04-25T07:18:24.999070Z"
    }
   },
   "outputs": [],
   "execution_count": 2
  },
  {
   "cell_type": "markdown",
   "source": [
    "### Erstellen einer neuen Datenbank auf dem MySQL-Server"
   ],
   "metadata": {
    "collapsed": false
   }
  },
  {
   "cell_type": "code",
   "source": [
    "try:\n",
    "    c.execute(\"CREATE DATABASE telefonbuch\")\n",
    "    print(\"Datenbank wurde erfolgreich angelegt\")\n",
    "except mysql.connector.Error as e:\n",
    "    print(\"Es ist ein Fehler aufgetreten: \\n \", e)\n",
    "finally:\n",
    "    connection.close()\n",
    "    "
   ],
   "metadata": {
    "collapsed": false,
    "ExecuteTime": {
     "end_time": "2024-04-25T07:23:29.797821Z",
     "start_time": "2024-04-25T07:23:29.720742Z"
    }
   },
   "outputs": [
    {
     "name": "stdout",
     "output_type": "stream",
     "text": [
      "Datenbank wurde erfolgreich angelegt\n"
     ]
    }
   ],
   "execution_count": 3
  },
  {
   "metadata": {},
   "cell_type": "code",
   "outputs": [],
   "execution_count": null,
   "source": ""
  },
  {
   "cell_type": "markdown",
   "source": [
    "### Erstellen einer neuen Tabelle\n",
    "Mithilfe des Befehls \"**CREATE TABLE**\" wird eine neue Tabelle erstellt:"
   ],
   "metadata": {
    "collapsed": false
   }
  },
  {
   "cell_type": "code",
   "source": [
    "\n",
    "import mysql.connector as mc\n",
    "import mysql\n",
    "from sys import exit\n",
    "\n",
    "try:\n",
    "    connection = mc.connect(\n",
    "        host='localhost',\n",
    "        user='root',\n",
    "        password='12345',\n",
    "        db='telefonbuch'\n",
    "    )\n",
    "except mc.errors.ProgrammingError as e:\n",
    "    print(\"Es ist folgende Fehler aufgetreten: \\n \", e)\n",
    "    exit(2)\n",
    "c = connection.cursor()\n",
    "\n",
    "sql = \"\"\"CREATE TABLE IF NOT EXISTS telefonbuch (\n",
    "id INT(6) UNSIGNED AUTO_INCREMENT PRIMARY KEY,\n",
    "vorname VARCHAR(30) NOT NULL,\n",
    "nachname VARCHAR(30) NOT NULL,\n",
    "telefonnummer VARCHAR(30) NOT NULL)\n",
    "\"\"\"\n",
    "try: \n",
    "    c.execute(sql)\n",
    "    \n",
    "except:\n",
    "    print(\"Es ist folgender Fehler aufgetreten\")\n",
    "    exit(1)\n",
    "    "
   ],
   "metadata": {
    "collapsed": false,
    "pycharm": {
     "is_executing": true
    },
    "ExecuteTime": {
     "end_time": "2024-04-25T07:43:01.940086Z",
     "start_time": "2024-04-25T07:43:01.857500Z"
    }
   },
   "outputs": [
    {
     "name": "stdout",
     "output_type": "stream",
     "text": [
      "('telefonbuch',)\n"
     ]
    }
   ],
   "execution_count": 5
  },
  {
   "metadata": {},
   "cell_type": "code",
   "outputs": [],
   "execution_count": null,
   "source": ""
  },
  {
   "cell_type": "markdown",
   "source": [
    "### Vorhandene Tabellen anzeigen"
   ],
   "metadata": {
    "collapsed": false
   }
  },
  {
   "cell_type": "code",
   "execution_count": null,
   "outputs": [],
   "source": [
    "c.execute(\"SHOW TABLES\")\n",
    "for table in c:\n",
    "    print(table)"
   ],
   "metadata": {
    "collapsed": false
   }
  },
  {
   "cell_type": "markdown",
   "source": [
    "Anstatt \"**CREATE TABLE IF NOT EXISTS telefonbuch**\" kann auch \"**CREATE TABLE telefonbuch**\" verwendet werden. Durch \"**IF NOT EXISTS**\" wird aber eine Fehlermeldung vermieden, sollte die Tabelle bereits existieren.  "
   ],
   "metadata": {
    "collapsed": false
   }
  },
  {
   "cell_type": "markdown",
   "source": [
    "### Werte hinzufügen\n",
    "Jetzt fügen wir einen Eintrag hinzu:"
   ],
   "metadata": {
    "collapsed": false
   }
  },
  {
   "cell_type": "code",
   "source": [
    "import mysql.connector as mc\n",
    "import mysql\n",
    "from sys import exit\n",
    "\n",
    "try:\n",
    "    connection = mc.connect(\n",
    "        host='localhost',\n",
    "        user='root',\n",
    "        password='12345',\n",
    "        db='telefonbuch'\n",
    "    )\n",
    "    c = connection.cursor()\n",
    "except mc.errors.ProgrammingError as e:\n",
    "    print(\"Es ist folgende Fehler aufgetreten: \\n \", e)\n",
    "    exit(2)\n",
    "\n",
    "vor = input(\"Bitte geben Sie Vorname ein: \")\n",
    "nach = input(\"Bitte geben Sie Nachname ein: \")\n",
    "telefon = input(\"Bitte geben Sie Telefonnummer ein: \")\n",
    "\n",
    "sql = \"\"\"INSERT INTO telefonbuch (vorname, nachname, telefonnummer) VALUES (%s, %s, %s)\"\"\"\n",
    "params = (vor, nach, telefon)\n",
    "\n",
    "c.execute(sql, params)\n",
    "connection.commit()\n",
    "connection.close()\n"
   ],
   "metadata": {
    "collapsed": false,
    "ExecuteTime": {
     "end_time": "2024-04-25T10:14:50.475845Z",
     "start_time": "2024-04-25T10:14:30.829170Z"
    }
   },
   "outputs": [],
   "execution_count": 9
  },
  {
   "cell_type": "markdown",
   "source": [
    "In Python's **mysql-connector-python** Bibliothek wird **%s** als Platzhalter in SQL-Statements verwendet. Es dient dazu, Werte in das SQL-Statement einzufügen, ohne das Risiko einer SQL-Injection zu erhöhen. Der Platzhalter %s wird unabhängig vom Datentyp des einzufügenden Wertes verwendet. Das bedeutet, **%s wird sowohl für Strings, Zahlen, Datumsangaben als auch andere Datentypen genutzt**.\n",
    "\n",
    "Es ist wichtig zu beachten, dass der Platzhalter %s in diesem Kontext nichts mit dem String-Formatierungs-Operator in Python zu tun hat. Im Kontext des MySQL-Connectors ist %s einfach ein generischer Platzhalter für Parameter.\n",
    "\n",
    "Wenn Sie ein SQL-Statement vorbereiten und %s als Platzhalter verwenden, sollten Sie die tatsächlichen Werte als Tupel (oder Liste) an die execute()-Methode übergeben. Der MySQL-Connector sorgt dann dafür, dass diese Werte sicher in das SQL-Statement eingebunden werden, um SQL-Injection zu vermeiden.\n",
    "\n",
    "Es gibt in diesem Zusammenhang keine anderen Platzhaltertypen wie %d oder %f, die man aus der normalen String-Formatierung in Python kennt. %s wird universell für alle Datentypen verwendet."
   ],
   "metadata": {
    "collapsed": false
   }
  },
  {
   "cell_type": "markdown",
   "source": [
    "### Datenbank auslesen\n",
    "Jetzt schauen wir nach, welche Einträge in der Tabelle vorhanden sind:\n"
   ],
   "metadata": {
    "collapsed": false
   }
  },
  {
   "cell_type": "code",
   "source": [
    "import mysql.connector as mc\n",
    "import mysql\n",
    "from sys import exit\n",
    "\n",
    "try:\n",
    "    connection = mc.connect(\n",
    "        host='localhost',\n",
    "        user='root',\n",
    "        password='12345',\n",
    "        db='telefonbuch'\n",
    "    )\n",
    "    c = connection.cursor()\n",
    "except mc.errors.ProgrammingError as e:\n",
    "    print(\"Es ist folgende Fehler aufgetreten: \\n \", e)\n",
    "    exit(2)\n",
    "    \n",
    "sql = \"\"\"SELECT * FROM telefonbuch\"\"\"\n",
    "c.execute(sql)\n",
    "ausgabe = c.fetchall()\n",
    "connection.close()\n",
    "print(\"Ausgabe als Liste\")\n",
    "print(ausgabe)\n",
    "\n",
    "print(\"Iteration\")\n",
    "for i in ausgabe:\n",
    "    print(i)\n",
    "\n",
    "print(\"Iteration noch mal\")    \n",
    "for _, name, nachname, telefon in ausgabe:\n",
    "    print(name, nachname, telefon)"
   ],
   "metadata": {
    "collapsed": false,
    "pycharm": {
     "is_executing": true
    },
    "ExecuteTime": {
     "end_time": "2024-04-25T10:34:59.587299Z",
     "start_time": "2024-04-25T10:34:59.566580Z"
    }
   },
   "outputs": [
    {
     "name": "stdout",
     "output_type": "stream",
     "text": [
      "Ausgabe als Liste\n",
      "[(1, 'Susanne', 'Smith', '049785'), (2, 'Tom', 'Norton', '2354'), (3, 'Ceciele', 'Swan', '01245')]\n",
      "Iteration\n",
      "(1, 'Susanne', 'Smith', '049785')\n",
      "(2, 'Tom', 'Norton', '2354')\n",
      "(3, 'Ceciele', 'Swan', '01245')\n",
      "Iteration noch mal\n",
      "Susanne Smith 049785\n",
      "Tom Norton 2354\n",
      "Ceciele Swan 01245\n"
     ]
    }
   ],
   "execution_count": 11
  },
  {
   "cell_type": "markdown",
   "source": [
    "### Daten aktualisieren\n",
    "\n",
    "Die Rufnummer eines Eintrags im Telefonbuch hat sich geändert. Diese müssen wir anpassen:"
   ],
   "metadata": {
    "collapsed": false
   }
  },
  {
   "cell_type": "code",
   "source": [
    "\n",
    "import mysql.connector as mc\n",
    "import mysql\n",
    "from sys import exit\n",
    "\n",
    "try:\n",
    "    connection = mc.connect(\n",
    "        host='localhost',\n",
    "        user='root',\n",
    "        password='12345',\n",
    "        db='telefonbuch'\n",
    "    )\n",
    "    c = connection.cursor()\n",
    "except mc.errors.ProgrammingError as e:\n",
    "    print(\"Es ist folgende Fehler aufgetreten: \\n \", e)\n",
    "    exit(2)\n",
    "\n",
    "vorname = \"Tom\"\n",
    "nachname = \"Norton\"\n",
    "neue_rufnummer = \"1236547899\"\n",
    "\n",
    "params = (neue_rufnummer, vorname, nachname, )\n",
    "sql = \"\"\"UPDATE telefonbuch SET telefonnummer = %s WHERE vorname = %s AND nachname = %s \"\"\"\n",
    "\n",
    "c.execute(sql, params)\n",
    "connection.commit()\n",
    "connection.close()\n",
    "\n",
    "\n"
   ],
   "metadata": {
    "collapsed": false,
    "ExecuteTime": {
     "end_time": "2024-04-25T10:35:14.908498Z",
     "start_time": "2024-04-25T10:35:14.886957Z"
    }
   },
   "outputs": [],
   "execution_count": 12
  },
  {
   "cell_type": "markdown",
   "source": [],
   "metadata": {
    "collapsed": false
   }
  },
  {
   "metadata": {},
   "cell_type": "code",
   "outputs": [],
   "execution_count": null,
   "source": ""
  },
  {
   "cell_type": "markdown",
   "source": [
    "### Wir löschen einen Eintrag. \n",
    "\n",
    "Als Erstes stellen wir sicher, dass wir den richtigen Benutzer löschen. Dafür brauchen wir am besten eine Angabe, die eindeutig ist.\n",
    "\n",
    "Da wir vermeiden wollen, Code mehrfach zu schreiben suchen wir uns einen Eintrag aus, indem wir die Datenbank-Abfrage-Zelle ggf. erneut ausführen, und suchen uns die **id** des Eintrags, den wir löschen wollen.\n"
   ],
   "metadata": {
    "collapsed": false
   }
  },
  {
   "cell_type": "code",
   "source": [
    "import mysql.connector as mc\n",
    "import mysql\n",
    "from sys import exit\n",
    "\n",
    "try:\n",
    "    connection = mc.connect(\n",
    "        host='localhost',\n",
    "        user='root',\n",
    "        password='12345',\n",
    "        db='telefonbuch'\n",
    "    )\n",
    "    c = connection.cursor()\n",
    "except mc.errors.ProgrammingError as e:\n",
    "    print(\"Es ist folgende Fehler aufgetreten: \\n \", e)\n",
    "    exit(2)\n",
    "    \n",
    "sql = \"\"\"SELECT * FROM telefonbuch\"\"\"\n",
    "c.execute(sql)\n",
    "ausgabe = c.fetchall()\n",
    "\n",
    "print(\"Welchen Eintrag möchten Sie löschen?\")    \n",
    "for id, name, nachname, telefon in ausgabe:\n",
    "    print(id, name, nachname, telefon)\n",
    "    \n",
    "auswahl = input(\"Bitte geben Sie die Kennnummer ein: \")\n",
    "\n",
    "sql = \"\"\"DELETE FROM telefonbuch WHERE id=%s\"\"\"\n",
    "params = (auswahl, )\n",
    "\n",
    "frage = input(f\"Sind Sie sicher, dass Sie den Eintrag mit der ID {auswahl} löschen möchten (j/n)?\").lower()\n",
    "\n",
    "if frage == \"j\":\n",
    "    c.execute(sql, params)\n",
    "    connection.commit()\n",
    "    connection.close()\n",
    "else:\n",
    "    connection.close()\n",
    "    exit(0) # Führt in Jupyter Notebooks zu Fehlern\n"
   ],
   "metadata": {
    "collapsed": false,
    "ExecuteTime": {
     "end_time": "2024-04-26T07:20:59.398093Z",
     "start_time": "2024-04-26T07:20:50.061983Z"
    }
   },
   "outputs": [
    {
     "name": "stdout",
     "output_type": "stream",
     "text": [
      "Welchen Eintrag möchten Sie löschen?\n",
      "1 Susanne Smith 049785\n",
      "4 Tom Norton 01245\n",
      "5 Bella Neue 04578\n",
      "6 Ronald Horton 01245\n"
     ]
    }
   ],
   "execution_count": 1
  },
  {
   "cell_type": "markdown",
   "source": [
    "In der Zelle \"**Datenbank auslesen**\" können wir uns vergewissern, ob der Vorgang erfolgreich war."
   ],
   "metadata": {
    "collapsed": false
   }
  },
  {
   "cell_type": "markdown",
   "source": [
    "### Eine keine Aufgabe:\n",
    "Bitte erstellen Sie einen kleinen Warenkatalog. in diesen Katalog legen Sie bitte Artikel mit den folgenden Merkmalen an:\n",
    "\n",
    "- ID (primary_key)\n",
    "- Produkt Name\n",
    "- Artikelnummer\n",
    "- Netto-Preis\n",
    "\n",
    "Schreiben Sie bitte erstmal nur die Erstellung der Datenbank \"**warenkatalog**\", das Anlegen der benötigten Tabelle und das Hinzufügen der Artikel. Weitere Funktionen können Sie heute Nachmittag in der Übungszeit programmieren.\n",
    " \n"
   ],
   "metadata": {
    "collapsed": false
   }
  },
  {
   "cell_type": "code",
   "source": [
    "import mysql.connector as mc\n",
    "import mysql\n",
    "from sys import exit\n",
    "\n",
    "\n",
    "def add_data(cursor, connection, name, nummer, price):\n",
    "    sql = \"\"\"INSERT INTO katalog (Produktname, Artikelnummer, Netto_Price) VALUES (%s, %s, %s)\"\"\"\n",
    "    params = (name, nummer, price)\n",
    "    cursor.execute(sql, params)\n",
    "    \n",
    "def show_data(cursor):\n",
    "    sql = \"\"\"SELECT * FROM katalog\"\"\"\n",
    "    cursor.execute(sql)\n",
    "    result = cursor.fetchall()\n",
    "    print(\"*\" * 40)\n",
    "    for id, name, nummer, price in result:\n",
    "        print(f\"{id} \\t {name} \\t{nummer} \\t{price}\")\n",
    "    print(\"*\" * 40)\n",
    "    \n",
    "def menu():\n",
    "    print(\n",
    "        \"\\tA / a: Vorhandene Tabellen anzeigen\\n\",\n",
    "        \"\\tB / b: Daten hinzufügen\\n\"\n",
    "        \"\\tE / e: End\"\n",
    "    )\n",
    "\n",
    "def main():\n",
    "    try:\n",
    "        connection = mc.connect(\n",
    "        host='localhost',\n",
    "        user='root',\n",
    "        password='12345',\n",
    "        )\n",
    "        \n",
    "    except mc.errors.ProgrammingError as e:\n",
    "        print(\"Es ist folgende Fehler aufgetreten: \\n \", e)\n",
    "    \n",
    "    try:\n",
    "        cursor = connection.cursor()\n",
    "        cursor.execute(\"CREATE DATABASE IF NOT EXISTS store\")\n",
    "        cursor.execute(\"USE store\")\n",
    "        sql = \"\"\"CREATE TABLE IF NOT EXISTS katalog(\n",
    "        id INT AUTO_INCREMENT PRIMARY KEY,\n",
    "        Produktname VARCHAR(30) NOT NULL,\n",
    "        Artikelnummer VARCHAR(30) NOT NULL,\n",
    "        Netto_Price FLOAT (7, 2))\"\"\"\n",
    "        cursor.execute(sql)\n",
    "    except mc.errors.ProgrammingError as e:\n",
    "        print(\"Es ist folgende Fehler aufgetreten: \\n \", e)\n",
    "    \n",
    "    while True:\n",
    "        menu()\n",
    "        ui = input(\"-> \").upper()\n",
    "        if ui == \"E\":\n",
    "            break\n",
    "        elif ui == \"A\":\n",
    "            show_data(cursor)\n",
    "        elif ui == \"B\":\n",
    "            name = input(\"Produktname: \")\n",
    "            nummer = input(\"Artikelnummer: \")\n",
    "            price = input(\"Netto_Price: \")\n",
    "            add_data(cursor, connection, name, nummer, price)\n",
    "            \n",
    "    connection.close()\n",
    "    \n",
    "if __name__ == \"__main__\":\n",
    "    main()\n",
    "\n",
    "    \n",
    "    "
   ],
   "metadata": {
    "collapsed": false,
    "ExecuteTime": {
     "end_time": "2024-04-26T12:01:00.092221Z",
     "start_time": "2024-04-26T12:00:03.694120Z"
    }
   },
   "outputs": [
    {
     "name": "stdout",
     "output_type": "stream",
     "text": [
      "\tA / a: Vorhandene Tabellen anzeigen\n",
      " \tB / b: Daten hinzufügen\n",
      "\tE / e: End\n",
      "\tA / a: Vorhandene Tabellen anzeigen\n",
      " \tB / b: Daten hinzufügen\n",
      "\tE / e: End\n",
      "****************************************\n",
      "****************************************\n",
      "\tA / a: Vorhandene Tabellen anzeigen\n",
      " \tB / b: Daten hinzufügen\n",
      "\tE / e: End\n",
      "\tA / a: Vorhandene Tabellen anzeigen\n",
      " \tB / b: Daten hinzufügen\n",
      "\tE / e: End\n",
      "\tA / a: Vorhandene Tabellen anzeigen\n",
      " \tB / b: Daten hinzufügen\n",
      "\tE / e: End\n",
      "\tA / a: Vorhandene Tabellen anzeigen\n",
      " \tB / b: Daten hinzufügen\n",
      "\tE / e: End\n"
     ]
    }
   ],
   "execution_count": 4
  },
  {
   "metadata": {
    "ExecuteTime": {
     "end_time": "2024-04-30T07:11:20.539676Z",
     "start_time": "2024-04-30T07:11:20.175973Z"
    }
   },
   "cell_type": "code",
   "source": "",
   "outputs": [],
   "execution_count": 2
  },
  {
   "cell_type": "markdown",
   "source": [
    "## Eine weitere Spalte der Tabelle hinzufügen\n",
    "\n",
    "Pläne ändern sich. Vielleicht müssen Sie ihre bereits erstellte Tabelle um eine Spalte erweitern.\n",
    "\n",
    "Um eine vorhandene Tabelle in einer MySQL-Datenbank um eine weitere Spalte zu erweitern, verwenden Sie das SQL-Statement ALTER TABLE. In Python können Sie dieses Statement mit einem MySQL-Connector ausführen.\n",
    "\n",
    "Dafür gehen Sie so vor:"
   ],
   "metadata": {
    "collapsed": false
   }
  },
  {
   "cell_type": "code",
   "source": [
    "import mysql.connector as mc\n",
    "import mysql\n",
    "from sys import exit\n",
    "try:\n",
    "    connection = mc.connect(\n",
    "        host='localhost',\n",
    "        user='root',\n",
    "        password='12345',\n",
    "        db='warenkatalog'\n",
    "    )\n",
    "    c = connection.cursor()\n",
    "except mc.errors.ProgrammingError as e:\n",
    "    print(\"Es ist folgende Fehler aufgetreten: \\n \", e)\n",
    "    exit(2)\n",
    "    \n",
    "tabelle = \"products\"\n",
    "new_column_name = \"stock_new\"\n",
    "column_type = \"VARCHAR(30)\"\n",
    "\n",
    "try:\n",
    "    c.execute(f\"ALTER TABLE {tabelle} ADD COLUMN {new_column_name} {column_type}\")\n",
    "except mysql.connector.Error as err:\n",
    "    print(\"Es ist ein Fehler aufgetreten:\", err)\n",
    "\n",
    "finally:\n",
    "    connection.close()"
   ],
   "metadata": {
    "collapsed": false,
    "ExecuteTime": {
     "end_time": "2024-04-30T07:29:15.773416Z",
     "start_time": "2024-04-30T07:29:15.684940Z"
    }
   },
   "outputs": [],
   "execution_count": 5
  },
  {
   "cell_type": "markdown",
   "source": [
    "## Wildcards\n",
    "\n",
    "Nicht immer wissen wir genau, wie ein Datensatz genau heißt. In solchen Fällen sind **Wildcards** das Mittel der Wahl.\n",
    "\n",
    "Die Verwendung von Wildcards in SQL ist eine effektive Methode, um nach Daten zu suchen, wenn der genaue Name oder Wert nicht bekannt ist. In SQL wird häufig der Wildcard-Charakter **%** in Kombination mit dem **LIKE**-Operator verwendet, um teilweise Übereinstimmungen in einer Zeichenfolge zu finden. \n",
    "\n",
    "Damit wir ein wenig ausprobieren können, müssen wir noch ein paar Produkte in unserer Warendatenbank anlegen. Vielleicht eine gewisse Anzahl verschiedene Stühle und Tische. :-)\n",
    "\n",
    "<img style=\"float: center;\" src=\"img/datensatz.png\"><br>"
   ],
   "metadata": {
    "collapsed": false
   }
  },
  {
   "cell_type": "markdown",
   "source": [
    "#### Suche nach einem bestimmten Muster am Anfang:\n"
   ],
   "metadata": {
    "collapsed": false
   }
  },
  {
   "cell_type": "markdown",
   "source": [
    "Um den Code ein wenig zu kürzen, erstellen wir eine Verbindungs-Funktion:"
   ],
   "metadata": {
    "collapsed": false
   }
  },
  {
   "cell_type": "code",
   "source": [
    "def create_connection():\n",
    "    connection = mc.connect(\n",
    "        host='localhost',\n",
    "        user='root',\n",
    "        password='12345',\n",
    "        db='warenkatalog'\n",
    "    )\n",
    "    c = connection.cursor()\n",
    "    \n",
    "    return connection, c"
   ],
   "metadata": {
    "collapsed": false,
    "ExecuteTime": {
     "end_time": "2024-04-30T07:46:37.672614Z",
     "start_time": "2024-04-30T07:46:37.668226Z"
    }
   },
   "outputs": [],
   "execution_count": 7
  },
  {
   "cell_type": "markdown",
   "source": [
    "Wenn Sie nach Einträgen suchen möchten, die mit einem bestimmten Muster beginnen, setzen Sie die %-Wildcard **nach** dem Muster."
   ],
   "metadata": {
    "collapsed": false
   }
  },
  {
   "cell_type": "code",
   "source": [
    "def search_pattern(pattern):\n",
    "    connection, c = create_connection()\n",
    "    query = \"\"\"SELECT * FROM products WHERE title LIKE %s\"\"\"\n",
    "    c.execute(query, (pattern + '%',))\n",
    "    result = c.fetchall()\n",
    "    \n",
    "    for row in result:\n",
    "        print(row)\n",
    "    \n",
    "search_pattern(\"chair\")"
   ],
   "metadata": {
    "collapsed": false,
    "ExecuteTime": {
     "end_time": "2024-04-30T07:48:24.608082Z",
     "start_time": "2024-04-30T07:48:24.587839Z"
    }
   },
   "outputs": [
    {
     "name": "stdout",
     "output_type": "stream",
     "text": [
      "(4, 'chair', 'Big company', '150', '21', '123-658', None)\n",
      "(6, \"chair 'Star'\", 'Big company', '187', '54', '25-65', None)\n"
     ]
    }
   ],
   "execution_count": 11
  },
  {
   "cell_type": "markdown",
   "source": [
    "Wenn Sie nach Einträgen suchen möchten, die mit einem bestimmten Muster beginnen, setzen Sie die %-Wildcard **vor** dem Muster."
   ],
   "metadata": {
    "collapsed": false
   }
  },
  {
   "cell_type": "code",
   "source": [
    "def search_pattern_ends_with(pattern):\n",
    "    connection, c = create_connection()\n",
    "    query = \"\"\"SELECT * FROM products WHERE title LIKE %s\"\"\"\n",
    "    c.execute(query, ('%' + pattern,))\n",
    "    result = c.fetchall()\n",
    "    \n",
    "    for row in result:\n",
    "        print(row)\n",
    "    \n",
    "search_pattern_ends_with(\"chair\")"
   ],
   "metadata": {
    "collapsed": false,
    "ExecuteTime": {
     "end_time": "2024-04-30T08:34:29.337223Z",
     "start_time": "2024-04-30T08:34:29.325607Z"
    }
   },
   "outputs": [
    {
     "name": "stdout",
     "output_type": "stream",
     "text": [
      "(4, 'chair', 'Big company', '150', '21', '123-658', None)\n",
      "(9, 'kitchenchair', 'Kitchen', '25', '36', '325-231', None)\n"
     ]
    }
   ],
   "execution_count": 15
  },
  {
   "cell_type": "markdown",
   "source": [
    "Wenn Sie nach Einträgen suchen möchten, die ein bestimmtes Muster irgendwo enthalten, setzen Sie die %-Wildcard **vor und nach** dem Muster."
   ],
   "metadata": {
    "collapsed": false
   }
  },
  {
   "cell_type": "code",
   "source": [
    "def search_pattern_vor_und_nach(pattern):\n",
    "    connection, c = create_connection()\n",
    "    query = \"\"\"SELECT * FROM products WHERE title LIKE %s\"\"\"\n",
    "    c.execute(query, ('%' + pattern + '%',))\n",
    "    result = c.fetchall()\n",
    "    \n",
    "    for row in result:\n",
    "        print(row)\n",
    "    \n",
    "search_pattern_vor_und_nach(\"chair\")"
   ],
   "metadata": {
    "collapsed": false,
    "ExecuteTime": {
     "end_time": "2024-04-30T08:39:18.953380Z",
     "start_time": "2024-04-30T08:39:18.937576Z"
    }
   },
   "outputs": [
    {
     "name": "stdout",
     "output_type": "stream",
     "text": [
      "(4, 'chair', 'Big company', '150', '21', '123-658', None)\n",
      "(6, \"chair 'Star'\", 'Big company', '187', '54', '25-65', None)\n",
      "(9, 'kitchenchair', 'Kitchen', '25', '36', '325-231', None)\n"
     ]
    }
   ],
   "execution_count": 18
  },
  {
   "cell_type": "markdown",
   "source": [
    "Suche nach Produkten mit einem **spezifischen Muster** an einer bestimmten Stelle:"
   ],
   "metadata": {
    "collapsed": false
   }
  },
  {
   "cell_type": "code",
   "source": [
    "def search_special_pattern(pattern):\n",
    "    connection, c = create_connection()\n",
    "    query = \"\"\"SELECT * FROM products WHERE title LIKE %s\"\"\"\n",
    "    c.execute(query, (pattern,))\n",
    "    result = c.fetchall()\n",
    "    \n",
    "    for row in result:\n",
    "        print(row)\n",
    "    \n",
    "search_special_pattern(\"ch_ir\")"
   ],
   "metadata": {
    "collapsed": false,
    "ExecuteTime": {
     "end_time": "2024-04-30T08:41:18.783030Z",
     "start_time": "2024-04-30T08:41:18.769457Z"
    }
   },
   "outputs": [
    {
     "name": "stdout",
     "output_type": "stream",
     "text": [
      "(4, 'chair', 'Big company', '150', '21', '123-658', None)\n",
      "(10, 'chuir', 'Tree', '17', '12', '236-789', None)\n"
     ]
    }
   ],
   "execution_count": 21
  },
  {
   "cell_type": "markdown",
   "source": [
    "## Datapipelines\n",
    "\n",
    "#### Eine Sache noch zum Schluss\n",
    "\n",
    "Data Pipelines im Kontext von SQL und Datenbanken beziehen sich im Allgemeinen auf **automatisierte Prozesse**, die für die systematische Übertragung und Transformation von Daten von einer Quelle zu einem Ziel verwendet werden. Diese Pipelines spielen eine entscheidende Rolle in der Datenverarbeitung und Business Intelligence. Sie ermöglichen es, große Mengen von Daten effizient und zuverlässig zu bewegen, zu verarbeiten und für Analysezwecke nutzbar zu machen.\n",
    "\n",
    "Hier sind einige Kernaspekte von Data Pipelines:\n",
    "\n",
    "- **Datenextraktion (Extraction)**: Dies ist der erste Schritt, bei dem Daten aus einer oder mehreren Quellen extrahiert werden. Diese Quellen können Datenbanken, Dateien, APIs, externe Dienste und andere sein.\n",
    "\n",
    "- **Datenverarbeitung/-transformation (Transformation)**: Nach der Extraktion werden die Daten häufig transformiert. Diese Transformationen können das Bereinigen von Daten, das Anwenden von Geschäftslogik, das Aggregieren, das Sortieren, das Joinen mit anderen Datensätzen usw. umfassen. Ziel ist es, die Daten in ein Format zu bringen, das für die Analyse oder den nächsten Schritt in der Pipeline geeignet ist.\n",
    "\n",
    "- **Datenspeicherung (Loading)**: Im letzten Schritt werden die verarbeiteten Daten in einem Zielsystem gespeichert, das ein Data Warehouse, eine Datenbank oder ein anderes Speichersystem sein kann. Dieser Prozess wird oft als ETL-Prozess (Extraction, Transformation, Loading) bezeichnet.\n",
    "\n",
    "- **Automatisierung**: Data Pipelines sind oft automatisiert, um kontinuierlich oder zu geplanten Zeiten zu laufen. Dies ist besonders wichtig, um die Aktualität der Daten in schnelllebigen Geschäftsumgebungen zu gewährleisten.\n",
    "\n",
    "- **Überwachung und Wartung**: Da Data Pipelines kritische Geschäftsprozesse unterstützen können, ist ihre ständige Überwachung und regelmäßige Wartung wichtig, um Probleme wie Datenverlust, Verzögerungen oder Fehler in der Datenverarbeitung zu verhindern.\n",
    "\n",
    "- **SQL in Data Pipelines**: SQL spielt eine entscheidende Rolle in vielen Phasen einer Data Pipeline, insbesondere bei der Extraktion von Daten aus relationalen Datenbanken und bei deren Transformation. SQL wird wegen seiner Effizienz und Effektivität bei der Datenmanipulation und -abfrage in solchen Szenarien häufig eingesetzt.\n",
    "\n",
    "Data Pipelines sind ein wesentlicher Bestandteil von Data-Warehousing-Lösungen, Business-Intelligence-Systemen, Data-Lake-Implementierungen und anderen datenintensiven Anwendungen, die auf der Analyse und dem Reporting von Daten basieren."
   ],
   "metadata": {
    "collapsed": false
   }
  },
  {
   "cell_type": "markdown",
   "source": [
    "<img style=\"float: center;\" src=\"img/wbs-logo.jpg\"><br>\n",
    "Author: Dirk Maric\n",
    "\n",
    "### Abbildungs- und Quellenverzeichnis\n",
    "\n",
    "Das Python Logo ist ein eingetragenes Warenzeichen der Python Software Foundation\n",
    "Alle auf dieser Website veröffentlichten Logos sowie Marken-, Produkt- und Warenzeichen sind Eigentum der jeweiligen Unternehmen\n",
    "© WBS TRAINING AG – Alle Rechte vorbehalten\n",
    "\n",
    "### Nutzungsrechte:\n",
    "Die Nutzung dieser Dokumentation ist ausschließlich für Schulungszwecke der WBS TRAINING AG gestattet. Eine Weitergabe an Dritte, auch auszugsweise, sowie Vervielfältigungen und Verbreitungen aller Art (elektronische und andere Verfahren) inklusive Übersetzungen sind nur mit vorheriger schriftlicher Zustimmung des Rechtinhabers gestattet. Zuwiderhandlungen verpflichten zu Schadenersatz.\n",
    "\n",
    "### Herausgeber:\n",
    "\n",
    "WBS TRAINING AG\n",
    "Lorenzweg 5\n",
    "12099 Berlin\n",
    "Haftungsausschluss:\n",
    "Alle Inhalte sind nach bestem Wissen korrekt und vollständig recherchiert und mit größtmöglicher Sorgfalt für die Schulungsunterlage zusammengestellt. Wir sind um die laufende Aktualisierung aller Informationen und Daten bemüht. Dennoch können Fehler (z.B. Abweichungen zur beschriebenen Hard- und Software durch kurzfristige Updates) auftreten, sodass wir für die vollständige Übereinstimmung, Richtigkeit und Aktualität keine Gewähr übernehmen. Hinweise unserer Nutzer werden konsequent weiterverfolgt.\n"
   ],
   "metadata": {
    "collapsed": false
   }
  }
 ],
 "metadata": {
  "kernelspec": {
   "display_name": "Python 3",
   "language": "python",
   "name": "python3"
  },
  "language_info": {
   "codemirror_mode": {
    "name": "ipython",
    "version": 2
   },
   "file_extension": ".py",
   "mimetype": "text/x-python",
   "name": "python",
   "nbconvert_exporter": "python",
   "pygments_lexer": "ipython2",
   "version": "2.7.6"
  }
 },
 "nbformat": 4,
 "nbformat_minor": 0
}
