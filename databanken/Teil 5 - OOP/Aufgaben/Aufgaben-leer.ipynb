{
 "cells": [
  {
   "cell_type": "markdown",
   "metadata": {},
   "source": [
    "# Aufgaben\n",
    "\n",
    "## Aufgabe 1: Kundenverwaltungs-Anwendung\n",
    "\n",
    "Funktionen:\n",
    "1. Hinzufügen neuer Kunden zur Datenbank.\n",
    "2. Anzeigen aller Kunden.\n",
    "3. Suchen nach Kunden basierend auf dem Namen.\n",
    "4. Ein Menü zur komfortablen Bedienung\n",
    "\n",
    "Klassenstruktur:\n",
    "\n",
    "- Eine Klasse Kunde, die die Attribute eines Kunden wie Name und E-Mail repräsentiert.\n",
    "- Eine Klasse KundenDatenbank, die für die Verwaltung der SQLite-Datenbank zuständig ist.\n",
    "- Eine Klasse KundenVerwaltung, die die Funktionalitäten zum Hinzufügen, Anzeigen und Suchen von Kunden bereitstellt."
   ]
  },
  {
   "cell_type": "code",
   "execution_count": null,
   "metadata": {},
   "outputs": [],
   "source": [
    "# Ihr Code HIER!"
   ]
  },
  {
   "cell_type": "markdown",
   "metadata": {},
   "source": [
    "<img style=\"float: center;\" src=\"img/wbs-logo.jpg\">\n",
    "\n",
    "### Abbildungs- und Quellenverzeichnis\n",
    "https://de.wikipedia.org/wiki/Python_(Programmiersprache)\n",
    "Das Python Logo ist ein eingetragenes Warenzeichen der Python Software Foundation\n",
    "Alle auf dieser Website veröffentlichten Logos sowie Marken-, Produkt- und Warenzeichen sind Eigentum der jeweiligen Unternehmen\n",
    "© WBS TRAINING AG – Alle Rechte vorbehalten\n",
    "\n",
    "### Nutzungsrechte:\n",
    "Die Nutzung dieser Dokumentation ist ausschließlich für Schulungszwecke der WBS TRAINING AG gestattet. Eine Weitergabe an Dritte, auch auszugsweise, sowie Vervielfältigungen und Verbreitungen aller Art (elektronische und andere Verfahren) inklusive Übersetzungen sind nur mit vorheriger schriftlicher Zustimmung des Rechtinhabers gestattet. Zuwiderhandlungen verpflichten zu Schadenersatz.\n",
    "\n",
    "### Herausgeber:\n",
    "\n",
    "WBS TRAINING AG\n",
    "Lorenzweg 5\n",
    "12099 Berlin\n",
    "\n",
    "### Haftungsausschluss:\n",
    "Alle Inhalte sind nach bestem Wissen korrekt und vollständig recherchiert und mit größtmöglicher Sorgfalt für die Schulungsunterlage zusammengestellt. Wir sind um die laufende Aktualisierung aller Informationen und Daten bemüht. Dennoch können Fehler (z.B. Abweichungen zur beschriebenen Hard- und Software durch kurzfristige Updates) auftreten, sodass wir für die vollständige Übereinstimmung, Richtigkeit und Aktualität keine Gewähr übernehmen. Hinweise unserer Nutzer werden konsequent weiterverfolgt.\n"
   ]
  }
 ],
 "metadata": {
  "kernelspec": {
   "display_name": "Python 3",
   "language": "python",
   "name": "python3"
  },
  "language_info": {
   "codemirror_mode": {
    "name": "ipython",
    "version": 3
   },
   "file_extension": ".py",
   "mimetype": "text/x-python",
   "name": "python",
   "nbconvert_exporter": "python",
   "pygments_lexer": "ipython3",
   "version": "3.8.5"
  }
 },
 "nbformat": 4,
 "nbformat_minor": 4
}
