{
 "cells": [
  {
   "cell_type": "markdown",
   "source": [
    "<img style=\"float: right;\" src=\"img/python.png\">\n",
    "\n",
    "# Objektorientierte Programmierung (OOP)\n",
    "# Klassen\n",
    "\n",
    "Wichtig! Diese Vorlesung ist nur eine kleine Vorschau auf Klassen. Weitere Informationen und Übungen erfolgen in dem Baustein IEPYTUI (Grafische Nutzeroberflächen mit Python)"
   ],
   "metadata": {
    "collapsed": false
   }
  },
  {
   "cell_type": "markdown",
   "source": [
    "## Erstellen einer Klasse\n",
    "\n",
    "*Beispiel: Eine Klasse zur Erstellung verschiedener Hundeobjekte.*"
   ],
   "metadata": {
    "collapsed": false
   }
  },
  {
   "cell_type": "code",
   "execution_count": null,
   "metadata": {
    "collapsed": true
   },
   "outputs": [],
   "source": [
    "class Hund:\n",
    "    pass"
   ]
  },
  {
   "cell_type": "markdown",
   "source": [
    "Die Klasse ist jetzt zwar gebildet aber kann noch nicht benutzt werden.\n",
    "Bevor eine Klasse benutzbar ist, muss sie initialisiert werden."
   ],
   "metadata": {
    "collapsed": false
   }
  },
  {
   "cell_type": "markdown",
   "source": [
    "## Das Initialisieren einer Klasse\n",
    "\n",
    "Es gibt zwei Möglichkeiten eine Klasse zu initialisieren:\n",
    "- Mit pass kann eine leere Klasse initialisiert werden. Die Klasse enthält noch keine Attribute, kann aber schon aufgerufen werden\n",
    "- Mit der ```__init__``` Methode wird die Klasse mit definierten Attributen erstellt."
   ],
   "metadata": {
    "collapsed": false
   }
  },
  {
   "cell_type": "code",
   "source": [
    "class Hund:\n",
    "    pass\n",
    "\n",
    "print(Hund)"
   ],
   "metadata": {
    "collapsed": false,
    "ExecuteTime": {
     "end_time": "2024-04-30T09:54:44.792954Z",
     "start_time": "2024-04-30T09:54:44.781290Z"
    }
   },
   "outputs": [
    {
     "name": "stdout",
     "output_type": "stream",
     "text": [
      "<class '__main__.Hund'>\n"
     ]
    }
   ],
   "execution_count": 1
  },
  {
   "cell_type": "markdown",
   "source": [
    "Die Attribute, die in einer Klasse definiert werden, müssen initialisiert werden damit später darauf zugegriffen werden kann.\n",
    "\n",
    "Als Attribute für unsere Klasse wollen wir\n",
    "<i>Rasse, Name, Farbe</i>\n",
    "<br> Die Attribute werden eingeführt, indem ein neuer eingerückter Block erstellt wird.\n",
    "<br> Es wird die Methode __init__ eingefügt mit der Syntax: <br>\n",
    "```def __init__(self, .. und den Attribute):```"
   ],
   "metadata": {
    "collapsed": false
   }
  },
  {
   "cell_type": "code",
   "execution_count": null,
   "outputs": [],
   "source": [
    "class Hund:\n",
    "    def __init__(self, rasse, name, farbe):\n",
    "        self.rasse = rasse\n",
    "        self.name = name\n",
    "        self.farbe = farbe"
   ],
   "metadata": {
    "collapsed": false,
    "pycharm": {
     "is_executing": true
    }
   }
  },
  {
   "cell_type": "markdown",
   "source": [
    "## Ein Objekt (Instanz) mit Hilfe der Klasse erzeugen\n",
    "*Beipiel: Als Objekt soll ein Hund namens Coco erstellt werden. Hierbei werden den Attribute spezifische Werte zugewiesen.*"
   ],
   "metadata": {
    "collapsed": false
   }
  },
  {
   "cell_type": "code",
   "execution_count": null,
   "outputs": [],
   "source": [
    "class Hund:\n",
    "    def __init__(self, rasse, name, farbe):\n",
    "        self.rasse = rasse\n",
    "        self.name = name\n",
    "        self.farbe = farbe\n",
    "\n",
    "coco = Hund(\"Mudi\", \"Coco\", \"schwarz\")"
   ],
   "metadata": {
    "collapsed": false
   }
  },
  {
   "cell_type": "markdown",
   "source": [
    "### Zugriff auf Attribute\n",
    "Der Zugriff auf die Attribute eines Objekt erfolgt über den Namen des Objekts und mit einem Punkt getrennt über den Namen des Attributs.\n",
    "\n",
    "*Beispiel: Die **Rasse** des Hundes **ausdrucken** und ein weiteres Objekt der Klasse Hund **erzeugen**.*"
   ],
   "metadata": {
    "collapsed": false
   }
  },
  {
   "cell_type": "code",
   "source": [
    "class Hund:\n",
    "    def __init__(self, rasse, name, farbe):\n",
    "        self.rasse = rasse\n",
    "        self.name = name\n",
    "        self.farbe = farbe\n",
    "\n",
    "coco = Hund(\"Mudi\", \"Coco\", \"schwarz\")\n",
    "\n",
    "print(coco.rasse)\n",
    "print(coco.name)\n",
    "print(coco.farbe)"
   ],
   "metadata": {
    "collapsed": false,
    "ExecuteTime": {
     "end_time": "2024-04-30T10:06:28.446371Z",
     "start_time": "2024-04-30T10:06:28.437512Z"
    }
   },
   "outputs": [
    {
     "name": "stdout",
     "output_type": "stream",
     "text": [
      "Mudi\n",
      "Coco\n",
      "schwarz\n"
     ]
    }
   ],
   "execution_count": 3
  },
  {
   "cell_type": "markdown",
   "source": [
    "## Aufgabe\n",
    "Erstellen Sie eine Klasse ```Tisch```. Sie soll die Attribute ```hoehe```, ```material```, ```groeße_tischplatte``` haben. Erzeugen Sie ein Objekt dieser Klasse."
   ],
   "metadata": {
    "collapsed": false
   }
  },
  {
   "cell_type": "code",
   "source": [
    "class Tisch:\n",
    "    def __init__(self, hoehe, material, tischplatte):\n",
    "        self.hoehe = hoehe\n",
    "        self.material = material\n",
    "        self.tischplatte = tischplatte\n",
    "        \n",
    "elem = Tisch('80.7', \"Holz\", '200*120')\n",
    "print(elem.hoehe)\n",
    "print(elem.material)\n",
    "print(elem.tischplatte)\n",
    "    "
   ],
   "metadata": {
    "collapsed": false,
    "ExecuteTime": {
     "end_time": "2024-04-30T10:30:38.923624Z",
     "start_time": "2024-04-30T10:30:38.918676Z"
    }
   },
   "outputs": [
    {
     "name": "stdout",
     "output_type": "stream",
     "text": [
      "80.7\n",
      "Holz\n",
      "200*120\n"
     ]
    }
   ],
   "execution_count": 6
  },
  {
   "cell_type": "markdown",
   "source": [
    "## Datentypen definieren\n",
    "Python bietet die Möglichkeit die Datentypen der Attribute anzugeben. Es gibt zwar leider keinen Fehler, wenn man den falschen Datentyp verwendet, allerdings hilft es beim Programmieren."
   ],
   "metadata": {
    "collapsed": false
   }
  },
  {
   "cell_type": "code",
   "source": [
    "class Article:\n",
    "    def __init__(self, num: int, name: str, price: float, bestand: int):\n",
    "        self.num = num\n",
    "        self.name = name\n",
    "        self.price = price\n",
    "        self.bestand = bestand\n",
    "\n",
    "artikel = Article(4, \"Bürostuhl-Superweich\", 199.99, 10)\n",
    "       \n",
    "        \n"
   ],
   "metadata": {
    "collapsed": false,
    "ExecuteTime": {
     "end_time": "2024-04-30T11:32:09.891647Z",
     "start_time": "2024-04-30T11:32:09.886587Z"
    }
   },
   "outputs": [
    {
     "name": "stdout",
     "output_type": "stream",
     "text": [
      "80.7\n",
      "Holz\n",
      "200*120\n"
     ]
    }
   ],
   "execution_count": 8
  },
  {
   "cell_type": "markdown",
   "source": [
    "### Methoden in einer Klasse definieren und aufrufen\n",
    "\n",
    "Mit weiteren Methoden können wir das Verhalten eines Objektes definieren.\n",
    "<i>Alle Hund, die mit der Klasse erstellt werden, können bellen.<i>"
   ],
   "metadata": {
    "collapsed": false
   }
  },
  {
   "cell_type": "code",
   "source": [
    "class Hund:\n",
    "    def __init__(self, rasse, name, farbe):\n",
    "        self.rasse = rasse\n",
    "        self.name = name\n",
    "        self.farbe = farbe\n",
    "    \n",
    "    def bellen(self):\n",
    "        print(\"Wuff\")\n",
    "        \n",
    "        \n",
    "coco = Hund(\"Mudi\", \"Coco\", \"schwarz\")\n",
    "\n",
    "coco.bellen() # Methodenaufruf"
   ],
   "metadata": {
    "collapsed": false,
    "ExecuteTime": {
     "end_time": "2024-05-02T06:39:56.075104Z",
     "start_time": "2024-05-02T06:39:56.064886Z"
    }
   },
   "outputs": [
    {
     "name": "stdout",
     "output_type": "stream",
     "text": [
      "Wuff\n"
     ]
    }
   ],
   "execution_count": 1
  },
  {
   "cell_type": "markdown",
   "source": [
    "### Werte beim Methodenaufruf übergeben"
   ],
   "metadata": {
    "collapsed": false
   }
  },
  {
   "cell_type": "code",
   "source": [
    "class Hund:\n",
    "    def __init__(self, rasse, name, farbe):\n",
    "        self.rasse = rasse\n",
    "        self.name = name\n",
    "        self.farbe = farbe\n",
    "    \n",
    "    def bellen(self, anzahl = 1):\n",
    "        print(anzahl * \"wuff! \")\n",
    "        \n",
    "        \n",
    "coco = Hund(\"Mudi\", \"Coco\", \"schwarz\")\n",
    "\n",
    "coco.bellen(3) # Methodenaufruf# Ihr Code HIER!!!"
   ],
   "metadata": {
    "collapsed": false,
    "ExecuteTime": {
     "end_time": "2024-05-02T06:42:21.973897Z",
     "start_time": "2024-05-02T06:42:21.968898Z"
    }
   },
   "outputs": [
    {
     "name": "stdout",
     "output_type": "stream",
     "text": [
      "wuff! wuff! wuff! \n"
     ]
    }
   ],
   "execution_count": 3
  },
  {
   "cell_type": "markdown",
   "source": [
    "### Weiters Beispiel für Methoden"
   ],
   "metadata": {
    "collapsed": false
   }
  },
  {
   "cell_type": "code",
   "source": [
    "class Hund:\n",
    "    def __init__(self, rasse, name, farbe):\n",
    "        self.rasse = rasse\n",
    "        self.name = name\n",
    "        self.farbe = farbe\n",
    "    \n",
    "    def bellen(self, anzahl = 1):\n",
    "        print(anzahl * \"wuff! \")\n",
    "        \n",
    "    def spielen(self, dauer):\n",
    "        print(f\"{self.name} spielt jetzt {dauer} Minuten!\")\n",
    "        \n",
    "coco = Hund(\"Mudi\", \"Coco\", \"schwarz\")\n",
    "\n",
    "coco.bellen(3) # Methodenaufruf# Ihr Code HIER!!!\n",
    "coco.spielen(10)\n"
   ],
   "metadata": {
    "collapsed": false,
    "ExecuteTime": {
     "end_time": "2024-05-02T06:46:46.049414Z",
     "start_time": "2024-05-02T06:46:46.041115Z"
    }
   },
   "outputs": [
    {
     "name": "stdout",
     "output_type": "stream",
     "text": [
      "wuff! wuff! wuff! \n",
      "Coco spielt jetzt 10 Minuten!\n"
     ]
    }
   ],
   "execution_count": 4
  },
  {
   "cell_type": "markdown",
   "source": [
    "Wie könnte man ändern, dass dort steht welcher Hund bellt?"
   ],
   "metadata": {
    "collapsed": false
   }
  },
  {
   "cell_type": "code",
   "execution_count": null,
   "outputs": [],
   "source": [
    "class Hund:\n",
    "    def __init__(self, rasse, name, farbe):\n",
    "        self.rasse = rasse\n",
    "        self.name = name\n",
    "        self.farbe = farbe\n",
    "    \n",
    "    def bellen(self, anzahl = 1):\n",
    "        print(anzahl * \"wuff! \")\n",
    "        \n",
    "    def spielen(self, dauer):\n",
    "        print(f\"{self.name} spielt jetzt {dauer} Minuten!\")\n",
    "        \n",
    "coco = Hund(\"Mudi\", \"Coco\", \"schwarz\")\n",
    "\n",
    "coco.bellen(3) # Methodenaufruf# Ihr Code HIER!!!\n",
    "coco.spielen(10)"
   ],
   "metadata": {
    "collapsed": false
   }
  },
  {
   "cell_type": "markdown",
   "source": [
    "## Instanzbasierte Attribute und Methoden\n",
    "\n",
    "#### Instanzbasierte Attribute (Eigenschaften):\n",
    "\n",
    "- Diese werden auch als Instanzvariablen bezeichnet.\n",
    "- Sie sind spezifisch für jede Instanz einer Klasse.\n",
    "- Jedes Objekt einer Klasse kann unterschiedliche Werte für diese Attribute haben.\n",
    "- Sie werden in der Regel innerhalb der \\_\\_init\\_\\_-Methode (Konstruktor) der Klasse initialisiert.\n",
    "\n",
    "Beispiel:"
   ],
   "metadata": {
    "collapsed": false
   }
  },
  {
   "cell_type": "code",
   "execution_count": null,
   "outputs": [],
   "source": [
    "class Autos:\n",
    "    def __init__(self, marke, modell):\n",
    "        self.marke = marke # Instanzbasiertes Attribut\n",
    "        self.modell = modell # Instanzbasiertes Attribut\n",
    "        \n",
    "    def zeige_info(self):\n",
    "        # Instanzbasierte Methode\n",
    "        print(f\"Marke: {self.marke}, Modell: {self.modell}\")\n",
    "        "
   ],
   "metadata": {
    "collapsed": false
   }
  },
  {
   "cell_type": "markdown",
   "source": [
    "#### Instanzbasierte Methoden\n",
    "\n",
    "- Diese Methoden können auf die instanzbasierten Attribute zugreifen und sie modifizieren.\n",
    "- Sie benötigen eine Referenz auf eine Instanz (üblicherweise self in Python) und werden für und mit dieser spezifischen Instanz aufgerufen."
   ],
   "metadata": {
    "collapsed": false
   }
  },
  {
   "cell_type": "code",
   "execution_count": null,
   "outputs": [],
   "source": [
    "class Autos:\n",
    "    anzahl_autos = 0  # Klassenbasiertes Attribut\n",
    "    def __init__(self, marke, modell):\n",
    "        self.marke = marke # Instanzbasiertes Attribut\n",
    "        self.modell = modell # Instanzbasiertes Attribut"
   ],
   "metadata": {
    "collapsed": false
   }
  },
  {
   "cell_type": "markdown",
   "source": [
    "## Klassenbasierte Attribute und Methoden\n",
    "\n",
    "#### Klassenbasierte Attribute\n",
    "\n",
    "- Auch als Klassenvariablen bekannt.\n",
    "- Sie sind für die gesamte Klasse und somit für alle Instanzen derselben Klasse gleich.\n",
    "- Änderungen an einem klassenbasierten Attribut beeinflussen alle Instanzen dieser Klasse.\n",
    "\n",
    "Beispiel:"
   ],
   "metadata": {
    "collapsed": false
   }
  },
  {
   "cell_type": "code",
   "source": [
    "class Autos:\n",
    "    anzahl_autos = 0  # Klassenbasiertes Attribut\n",
    "    def __init__(self, marke, modell):\n",
    "        self.marke = marke # Instanzbasiertes Attribut\n",
    "        self.modell = modell # Instanzbasiertes Attribut\n",
    "        \n",
    "    @classmethod\n",
    "    def gesamtanzahl_autos(cls):\n",
    "            print(\"Gesamtanzahl autos: \", cls.anzahl_autos)\n",
    "            \n",
    "Autos.gesamtanzahl_autos()"
   ],
   "metadata": {
    "collapsed": false,
    "ExecuteTime": {
     "end_time": "2024-05-02T07:18:47.617437Z",
     "start_time": "2024-05-02T07:18:47.612296Z"
    }
   },
   "outputs": [
    {
     "name": "stdout",
     "output_type": "stream",
     "text": [
      "Gesamtanzahl autos:  0\n"
     ]
    }
   ],
   "execution_count": 6
  },
  {
   "cell_type": "markdown",
   "source": [
    "#### Klassenbasierte Methoden\n",
    "\n",
    "- Diese Methoden sind mit der Klasse selbst verbunden, nicht mit einer spezifischen Instanz.\n",
    "- In Python werden sie mit dem Dekorator @classmethod markiert und nehmen als ersten Parameter die Klasse selbst (üblicherweise cls genannt) anstelle einer Instanz."
   ],
   "metadata": {
    "collapsed": false
   }
  },
  {
   "cell_type": "code",
   "execution_count": null,
   "outputs": [],
   "source": [
    "class Autos:\n",
    "    anzahl_autos = 0  # Klassenbasiertes Attribut\n",
    "    def __init__(self, marke, modell):\n",
    "        self.marke = marke # Instanzbasiertes Attribut\n",
    "        self.modell = modell # Instanzbasiertes Attribut\n",
    "        \n",
    "    @classmethod\n",
    "    def gesamtanzahl_autos(cls):\n",
    "            print(\"Gesamtanzahl autos: \", cls.anzahl_autos)\n",
    "            \n",
    "Autos.gesamtanzahl_autos()"
   ],
   "metadata": {
    "collapsed": false
   }
  },
  {
   "cell_type": "markdown",
   "source": [
    "#### \\_\\_del\\_\\_- Methode\n",
    "\n",
    "Bei dieser Methode handelt es sich um eine magische Methode. Kennen Sie nicht? nicht schlimm, auch das wird in den folgenden Baustein erklärt.\n",
    "Im folgenden ist diese aber sehr nützlich, da der Destruktor (__del__) sicher stellt, dass die Verbindung zur Datenbank geschlossen wird, wenn die Instanz der Klasse gelöscht wird.\n",
    "\n",
    "Beispiel:"
   ],
   "metadata": {
    "collapsed": false
   }
  },
  {
   "cell_type": "code",
   "outputs": [],
   "source": [
    "class Autos:\n",
    "    anzahl_autos = 0  # Klassenbasiertes Attribut\n",
    "    def __init__(self, marke, modell):\n",
    "        self.marke = marke # Instanzbasiertes Attribut\n",
    "        self.modell = modell # Instanzbasiertes Attribut\n",
    "     \n",
    "     # Fake... gibts in diesen Code nicht wirklich, ist nur ein Beispiel für ein Dekonstruktor   \n",
    "    def __del__(self):\n",
    "        if self.verbindung:\n",
    "            verbindung.close()"
   ],
   "metadata": {
    "collapsed": false
   },
   "execution_count": null
  },
  {
   "cell_type": "markdown",
   "source": [
    "Zusammenfassend sind instanzbasierte Attribute und Methoden spezifisch für einzelne Objekte einer Klasse, während klassenbasierte Attribute und Methoden für die ganze Klasse und somit für alle ihre Instanzen gelten."
   ],
   "metadata": {
    "collapsed": false
   }
  },
  {
   "cell_type": "markdown",
   "source": [
    "#### Gemeinsames Übungsprojekt: Bibliothek\n",
    "\n",
    "**Funktionen**:\n",
    "\n",
    "1. Hinzufügen neuer Bücher zur Bibliothek.\n",
    "2. Anzeigen aller Bücher in der Bibliothek.\n",
    "3. Suchen nach Büchern basierend auf dem Titel.\n",
    "\n",
    "Beim Starten des Programms soll unter Umständen eine neue Datenbank erstellt werde, wenn noch keine vorhanden ist.\n",
    "\n",
    "Klassenstruktur:\n",
    "- Eine Klasse Buch, die die Attribute eines Buches wie Titel und Autor repräsentiert.\n",
    "- Eine Klasse Bibliothek, die die Funktionalitäten zum Hinzufügen, Anzeigen und Suchen von Büchern bereitstellt und mit der SQLite-Datenbank interagiert.\n",
    "- Eine Klasse datenbank, die die Datenbank repräsentiert und eine Methode enthält, die eine neue Datenbank erstellt, sollte keine Vorhanden sein"
   ],
   "metadata": {
    "collapsed": false
   }
  },
  {
   "cell_type": "code",
   "execution_count": null,
   "outputs": [],
   "source": [
    "# Ihr Code HIER!!!"
   ],
   "metadata": {
    "collapsed": false
   }
  },
  {
   "cell_type": "markdown",
   "source": [
    "<img style=\"float: center;\" src=\"img/wbs-logo.jpg\">\n",
    "\n",
    "\n",
    "### Abbildungs- und Quellenverzeichnis\n",
    "\n",
    "Das Python Logo ist ein eingetragenes Warenzeichen der Python Software Foundation\n",
    "Alle auf dieser Website veröffentlichten Logos sowie Marken-, Produkt- und Warenzeichen sind Eigentum der jeweiligen Unternehmen\n",
    "© WBS TRAINING AG – Alle Rechte vorbehalten\n",
    "\n",
    "### Nutzungsrechte:\n",
    "Die Nutzung dieser Dokumentation ist ausschließlich für Schulungszwecke der WBS TRAINING AG gestattet. Eine Weitergabe an Dritte, auch auszugsweise, sowie Vervielfältigungen und Verbreitungen aller Art (elektronische und andere Verfahren) inklusive Übersetzungen sind nur mit vorheriger schriftlicher Zustimmung des Rechtinhabers gestattet. Zuwiderhandlungen verpflichten zu Schadenersatz.\n",
    "\n",
    "### Herausgeber:\n",
    "\n",
    "WBS TRAINING AG\n",
    "Lorenzweg 5\n",
    "12099 Berlin\n",
    "Haftungsausschluss:\n",
    "Alle Inhalte sind nach bestem Wissen korrekt und vollständig recherchiert und mit größtmöglicher Sorgfalt für die Schulungsunterlage zusammengestellt. Wir sind um die laufende Aktualisierung aller Informationen und Daten bemüht. Dennoch können Fehler (z.B. Abweichungen zur beschriebenen Hard- und Software durch kurzfristige Updates) auftreten, sodass wir für die vollständige Übereinstimmung, Richtigkeit und Aktualität keine Gewähr übernehmen. Hinweise unserer Nutzer werden konsequent weiterverfolgt.\n"
   ],
   "metadata": {
    "collapsed": false
   }
  }
 ],
 "metadata": {
  "kernelspec": {
   "display_name": "Python 3",
   "language": "python",
   "name": "python3"
  },
  "language_info": {
   "codemirror_mode": {
    "name": "ipython",
    "version": 2
   },
   "file_extension": ".py",
   "mimetype": "text/x-python",
   "name": "python",
   "nbconvert_exporter": "python",
   "pygments_lexer": "ipython2",
   "version": "2.7.6"
  }
 },
 "nbformat": 4,
 "nbformat_minor": 0
}
