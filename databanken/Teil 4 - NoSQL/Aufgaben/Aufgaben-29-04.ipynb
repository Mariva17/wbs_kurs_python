{
 "cells": [
  {
   "cell_type": "markdown",
   "metadata": {},
   "source": [
    "# Aufgaben\n",
    "\n",
    "## Aufgabe 1:\n",
    "\n",
    "#### Dokumente Einfügen und Abfragen\n",
    "\n",
    "**Ziel**: Einfügen von Dokumenten in eine Collection und anschließende Abfrage bestimmter Daten.\n",
    "\n",
    "Um die Arbeit zu erleichtert finden Soe in der nächsten Zelle ein paar Musterdaten, die sie verwenden können. \n",
    "\n",
    "Bitte fügen Sie trotzdem einige eigene Daten ein, um ein Gefühl für die Struktur zu bekommen: "
   ]
  },
  {
   "cell_type": "code",
   "execution_count": null,
   "metadata": {},
   "outputs": [],
   "source": [
    "import pymongo\n",
    "\n",
    "kunden_0 = [\n",
    "    {\"name\": \"Max Mustermann\", \"alter\": 35, \"stadt\": \"Berlin\"},\n",
    "    {\"name\": \"Julia Schmidt\", \"alter\": 28, \"stadt\": \"Hamburg\"},\n",
    "    {\"name\": \"Anna Meier\", \"alter\": 42, \"stadt\": \"München\"},\n",
    "    {\"name\": \"Karl Müller\", \"alter\": 31, \"stadt\": \"Köln\"},\n",
    "    {\"name\": \"Sara Herzog\", \"alter\": 24, \"stadt\": \"Frankfurt\"}\n",
    "]\n"
   ]
  },
  {
   "cell_type": "markdown",
   "source": [
    "Ihre Lösung:"
   ],
   "metadata": {
    "collapsed": false
   }
  },
  {
   "cell_type": "code",
   "source": [
    "from pymongo import MongoClient\n",
    "\n",
    "client = MongoClient('mongodb://localhost:27017')\n",
    "db = client[\"neueDatenbank\"]\n",
    "\n",
    "collection = db[\"kunden_collection\"]\n",
    "\n",
    "kunden = [\n",
    "    {\"name\": \"Max Mustermann\", \"alter\": 35, \"stadt\": \"Berlin\"},\n",
    "    {\"name\": \"Julia Schmidt\", \"alter\": 28, \"stadt\": \"Hamburg\"},\n",
    "    {\"name\": \"Anna Meier\", \"alter\": 42, \"stadt\": \"München\"},\n",
    "    {\"name\": \"Karl Müller\", \"alter\": 31, \"stadt\": \"Köln\"},\n",
    "    {\"name\": \"Sara Herzog\", \"alter\": 24, \"stadt\": \"Frankfurt\"},\n",
    "    {\"name\": \"Tom Hanks\", \"alter\": 54, \"stadt\": \"Berlin\"},\n",
    "    {\"name\": \"Tina Kandelaki\", \"alter\": 48, \"stadt\": \"Liverpool\"},\n",
    "    {\"name\": \"Sandra Johns\", \"alter\": 25, \"stadt\": \"Hamburg\"}\n",
    "]\n",
    "collection.insert_many(kunden)"
   ],
   "metadata": {
    "collapsed": false,
    "ExecuteTime": {
     "end_time": "2024-04-29T11:41:12.473747Z",
     "start_time": "2024-04-29T11:41:12.293955Z"
    }
   },
   "outputs": [
    {
     "data": {
      "text/plain": [
       "InsertManyResult([ObjectId('662f87582ed6dd836f4cf2aa'), ObjectId('662f87582ed6dd836f4cf2ab'), ObjectId('662f87582ed6dd836f4cf2ac'), ObjectId('662f87582ed6dd836f4cf2ad'), ObjectId('662f87582ed6dd836f4cf2ae'), ObjectId('662f87582ed6dd836f4cf2af'), ObjectId('662f87582ed6dd836f4cf2b0'), ObjectId('662f87582ed6dd836f4cf2b1')], acknowledged=True)"
      ]
     },
     "execution_count": 1,
     "metadata": {},
     "output_type": "execute_result"
    }
   ],
   "execution_count": 1
  },
  {
   "cell_type": "markdown",
   "source": [
    "#### Schritt 2:\n",
    "Schreiben Sie eine Abfrage für Kunden, die älter als 30 Jahre sind:\n",
    "\n",
    "Ihre Lösung:"
   ],
   "metadata": {
    "collapsed": false
   }
  },
  {
   "cell_type": "code",
   "source": [
    "daten = collection.find({\"alter\": {\"$gte\": 30}})\n",
    "for i in daten:\n",
    "    for key, value in i.items():\n",
    "        print(f\"{key}: {value}\")\n",
    "    print(\"*\"*40)\n",
    "    "
   ],
   "metadata": {
    "collapsed": false,
    "ExecuteTime": {
     "end_time": "2024-04-29T11:46:51.197380Z",
     "start_time": "2024-04-29T11:46:51.191661Z"
    }
   },
   "outputs": [
    {
     "name": "stdout",
     "output_type": "stream",
     "text": [
      "_id: 662f87582ed6dd836f4cf2aa\n",
      "name: Max Mustermann\n",
      "alter: 35\n",
      "stadt: Berlin\n",
      "****************************************\n",
      "_id: 662f87582ed6dd836f4cf2ac\n",
      "name: Anna Meier\n",
      "alter: 42\n",
      "stadt: München\n",
      "****************************************\n",
      "_id: 662f87582ed6dd836f4cf2ad\n",
      "name: Karl Müller\n",
      "alter: 31\n",
      "stadt: Köln\n",
      "****************************************\n",
      "_id: 662f87582ed6dd836f4cf2af\n",
      "name: Tom Hanks\n",
      "alter: 54\n",
      "stadt: Berlin\n",
      "****************************************\n",
      "_id: 662f87582ed6dd836f4cf2b0\n",
      "name: Tina Kandelaki\n",
      "alter: 48\n",
      "stadt: Liverpool\n",
      "****************************************\n"
     ]
    }
   ],
   "execution_count": 5
  },
  {
   "metadata": {
    "ExecuteTime": {
     "end_time": "2024-04-29T11:49:11.050291Z",
     "start_time": "2024-04-29T11:49:11.044223Z"
    }
   },
   "cell_type": "code",
   "source": [
    "daten = collection.find({\"stadt\": \"Berlin\"})\n",
    "for i in daten:\n",
    "    for key, value in i.items():\n",
    "        print(f\"{key}: {value}\")\n",
    "    print(\"*\"*40)"
   ],
   "outputs": [
    {
     "name": "stdout",
     "output_type": "stream",
     "text": [
      "_id: 662f87582ed6dd836f4cf2aa\n",
      "name: Max Mustermann\n",
      "alter: 35\n",
      "stadt: Berlin\n",
      "****************************************\n",
      "_id: 662f87582ed6dd836f4cf2af\n",
      "name: Tom Hanks\n",
      "alter: 54\n",
      "stadt: Berlin\n",
      "****************************************\n"
     ]
    }
   ],
   "execution_count": 6
  },
  {
   "metadata": {
    "ExecuteTime": {
     "end_time": "2024-04-29T12:04:30.935692Z",
     "start_time": "2024-04-29T12:04:30.929530Z"
    }
   },
   "cell_type": "code",
   "source": [
    "daten = collection.find({\"$or\": [{\"name\": {\"$regex\": \".*m.*\"}}, { \"name\": {\"$regex\": \".*M.*\"}}]})\n",
    "for i in daten:\n",
    "    for key, value in i.items():\n",
    "        print(f\"{key}: {value}\")\n",
    "    print(\"*\"*40)\n",
    "        "
   ],
   "outputs": [
    {
     "name": "stdout",
     "output_type": "stream",
     "text": [
      "_id: 662f87582ed6dd836f4cf2aa\n",
      "name: Max Mustermann\n",
      "alter: 35\n",
      "stadt: Berlin\n",
      "****************************************\n",
      "_id: 662f87582ed6dd836f4cf2ab\n",
      "name: Julia Schmidt\n",
      "alter: 28\n",
      "stadt: Hamburg\n",
      "****************************************\n",
      "_id: 662f87582ed6dd836f4cf2ac\n",
      "name: Anna Meier\n",
      "alter: 42\n",
      "stadt: München\n",
      "****************************************\n",
      "_id: 662f87582ed6dd836f4cf2ad\n",
      "name: Karl Müller\n",
      "alter: 31\n",
      "stadt: Köln\n",
      "****************************************\n",
      "_id: 662f87582ed6dd836f4cf2af\n",
      "name: Tom Hanks\n",
      "alter: 54\n",
      "stadt: Berlin\n",
      "****************************************\n"
     ]
    }
   ],
   "execution_count": 9
  },
  {
   "metadata": {
    "ExecuteTime": {
     "end_time": "2024-04-29T12:39:26.314320Z",
     "start_time": "2024-04-29T12:39:26.304863Z"
    }
   },
   "cell_type": "code",
   "source": [
    "daten = collection.find({\"alter\": {\"$lte\": 30}})\n",
    "for i in daten:\n",
    "    for key, value in i.items():\n",
    "        print(f\"{key}: {value}\")\n",
    "    print(\"*\"*40)"
   ],
   "outputs": [
    {
     "name": "stdout",
     "output_type": "stream",
     "text": [
      "_id: 662f87582ed6dd836f4cf2ab\n",
      "name: Julia Schmidt\n",
      "alter: 28\n",
      "stadt: Hamburg\n",
      "****************************************\n",
      "_id: 662f87582ed6dd836f4cf2ae\n",
      "name: Sara Herzog\n",
      "alter: 24\n",
      "stadt: Frankfurt\n",
      "****************************************\n",
      "_id: 662f87582ed6dd836f4cf2b1\n",
      "name: Sandra Johns\n",
      "alter: 25\n",
      "stadt: Hamburg\n",
      "****************************************\n"
     ]
    }
   ],
   "execution_count": 19
  },
  {
   "metadata": {},
   "cell_type": "markdown",
   "source": ""
  },
  {
   "metadata": {
    "ExecuteTime": {
     "end_time": "2024-04-29T12:51:48.213605Z",
     "start_time": "2024-04-29T12:51:48.206520Z"
    }
   },
   "cell_type": "code",
   "source": [
    "daten = collection.find({\"name\": {\"$in\": [\"Sara Herzog\"]}})\n",
    "for i in daten:\n",
    "    for key, value in i.items():\n",
    "        print(f\"{key}: {value}\")\n",
    "    print(\"*\"*40)"
   ],
   "outputs": [
    {
     "name": "stdout",
     "output_type": "stream",
     "text": [
      "_id: 662f87582ed6dd836f4cf2ae\n",
      "name: Sara Herzog\n",
      "alter: 24\n",
      "stadt: Frankfurt\n",
      "****************************************\n"
     ]
    }
   ],
   "execution_count": 26
  },
  {
   "metadata": {
    "ExecuteTime": {
     "end_time": "2024-04-29T12:59:52.675611Z",
     "start_time": "2024-04-29T12:59:52.669850Z"
    }
   },
   "cell_type": "code",
   "source": [
    "daten = collection.find({\"$and\": [{\"alter\": {\"$gte\": 30}}, {\"alter\": {\"$lte\": 50}}]}).sort(\"stadt\")\n",
    "for i in daten:\n",
    "    for key, value in i.items():\n",
    "        print(f\"{key}: {value}\")\n",
    "    print(\"*\"*40)"
   ],
   "outputs": [
    {
     "name": "stdout",
     "output_type": "stream",
     "text": [
      "_id: 662f87582ed6dd836f4cf2aa\n",
      "name: Max Mustermann\n",
      "alter: 35\n",
      "stadt: Berlin\n",
      "****************************************\n",
      "_id: 662f87582ed6dd836f4cf2ad\n",
      "name: Karl Müller\n",
      "alter: 31\n",
      "stadt: Köln\n",
      "****************************************\n",
      "_id: 662f87582ed6dd836f4cf2b0\n",
      "name: Tina Kandelaki\n",
      "alter: 48\n",
      "stadt: Liverpool\n",
      "****************************************\n",
      "_id: 662f87582ed6dd836f4cf2ac\n",
      "name: Anna Meier\n",
      "alter: 42\n",
      "stadt: München\n",
      "****************************************\n"
     ]
    }
   ],
   "execution_count": 31
  },
  {
   "metadata": {
    "ExecuteTime": {
     "end_time": "2024-04-29T13:28:24.043345Z",
     "start_time": "2024-04-29T13:28:24.036451Z"
    }
   },
   "cell_type": "code",
   "source": [
    "daten = collection.find().sort({\"alter\": -1})\n",
    "for i in daten:\n",
    "    for key, value in i.items():\n",
    "        print(f\"{key}: {value}\")\n",
    "    print(\"*\"*40)"
   ],
   "outputs": [
    {
     "name": "stdout",
     "output_type": "stream",
     "text": [
      "_id: 662f87582ed6dd836f4cf2af\n",
      "name: Tom Hanks\n",
      "alter: 54\n",
      "stadt: Berlin\n",
      "****************************************\n",
      "_id: 662f87582ed6dd836f4cf2b0\n",
      "name: Tina Newport\n",
      "alter: 48\n",
      "stadt: Liverpool\n",
      "****************************************\n",
      "_id: 662f87582ed6dd836f4cf2ac\n",
      "name: Anna Meier\n",
      "alter: 42\n",
      "stadt: München\n",
      "****************************************\n",
      "_id: 662f87582ed6dd836f4cf2aa\n",
      "name: Max Mustermann\n",
      "alter: 35\n",
      "stadt: Berlin\n",
      "****************************************\n",
      "_id: 662f87582ed6dd836f4cf2ad\n",
      "name: Karl Müller\n",
      "alter: 31\n",
      "stadt: Berlin\n",
      "****************************************\n",
      "_id: 662f87582ed6dd836f4cf2ab\n",
      "name: Julia Schmidt\n",
      "alter: 28\n",
      "stadt: Berlin\n",
      "****************************************\n",
      "_id: 662f87582ed6dd836f4cf2b1\n",
      "name: Sandra Johns\n",
      "alter: 25\n",
      "stadt: Hamburg\n",
      "****************************************\n",
      "_id: 662f87582ed6dd836f4cf2ae\n",
      "name: Sara Herzog\n",
      "alter: 24\n",
      "stadt: Frankfurt\n",
      "****************************************\n"
     ]
    }
   ],
   "execution_count": 37
  },
  {
   "metadata": {
    "ExecuteTime": {
     "end_time": "2024-04-29T13:30:47.006845Z",
     "start_time": "2024-04-29T13:30:47.001023Z"
    }
   },
   "cell_type": "code",
   "source": [
    "daten = collection.find().skip(2).limit(4)\n",
    "for i in daten:\n",
    "    for key, value in i.items():\n",
    "        print(f\"{key}: {value}\")\n",
    "    print(\"*\"*40)"
   ],
   "outputs": [
    {
     "name": "stdout",
     "output_type": "stream",
     "text": [
      "_id: 662f87582ed6dd836f4cf2ac\n",
      "name: Anna Meier\n",
      "alter: 42\n",
      "stadt: München\n",
      "****************************************\n",
      "_id: 662f87582ed6dd836f4cf2ad\n",
      "name: Karl Müller\n",
      "alter: 31\n",
      "stadt: Berlin\n",
      "****************************************\n",
      "_id: 662f87582ed6dd836f4cf2ae\n",
      "name: Sara Herzog\n",
      "alter: 24\n",
      "stadt: Frankfurt\n",
      "****************************************\n",
      "_id: 662f87582ed6dd836f4cf2af\n",
      "name: Tom Hanks\n",
      "alter: 54\n",
      "stadt: Berlin\n",
      "****************************************\n"
     ]
    }
   ],
   "execution_count": 38
  },
  {
   "cell_type": "markdown",
   "source": [
    "#### Schritt 3:\n",
    "\n",
    "Bitte aktualisieren Sie ein Kundendokument."
   ],
   "metadata": {
    "collapsed": false
   }
  },
  {
   "cell_type": "code",
   "source": [
    "daten = collection.update_one({\"name\": \"Tina Kandelaki\"},{\"$set\": {\"name\": \"Tina Newport\"}})\n",
    "print(daten)\n"
   ],
   "metadata": {
    "collapsed": false,
    "ExecuteTime": {
     "end_time": "2024-04-29T13:07:09.719323Z",
     "start_time": "2024-04-29T13:07:09.712830Z"
    }
   },
   "outputs": [
    {
     "name": "stdout",
     "output_type": "stream",
     "text": [
      "UpdateResult({'n': 1, 'nModified': 1, 'ok': 1.0, 'updatedExisting': True}, acknowledged=True)\n"
     ]
    }
   ],
   "execution_count": 32
  },
  {
   "metadata": {
    "ExecuteTime": {
     "end_time": "2024-04-29T13:15:33.815344Z",
     "start_time": "2024-04-29T13:15:33.808387Z"
    }
   },
   "cell_type": "code",
   "source": [
    "daten = collection.update_many({\"$and\": [{\"alter\": {\"$gte\": 28}}, {\"alter\": {\"$lte\": 40}}]},{\"$set\": {\"stadt\": \"Berlin\"}})\n",
    "\n",
    "result = collection.find()\n",
    "for i in result:\n",
    "    for key, value in i.items():\n",
    "        print(f\"{key}: {value}\")\n",
    "    print(\"*\"*40)"
   ],
   "outputs": [
    {
     "name": "stdout",
     "output_type": "stream",
     "text": [
      "_id: 662f87582ed6dd836f4cf2aa\n",
      "name: Max Mustermann\n",
      "alter: 35\n",
      "stadt: Berlin\n",
      "****************************************\n",
      "_id: 662f87582ed6dd836f4cf2ab\n",
      "name: Julia Schmidt\n",
      "alter: 28\n",
      "stadt: Berlin\n",
      "****************************************\n",
      "_id: 662f87582ed6dd836f4cf2ac\n",
      "name: Anna Meier\n",
      "alter: 42\n",
      "stadt: München\n",
      "****************************************\n",
      "_id: 662f87582ed6dd836f4cf2ad\n",
      "name: Karl Müller\n",
      "alter: 31\n",
      "stadt: Berlin\n",
      "****************************************\n",
      "_id: 662f87582ed6dd836f4cf2ae\n",
      "name: Sara Herzog\n",
      "alter: 24\n",
      "stadt: Frankfurt\n",
      "****************************************\n",
      "_id: 662f87582ed6dd836f4cf2af\n",
      "name: Tom Hanks\n",
      "alter: 54\n",
      "stadt: Berlin\n",
      "****************************************\n",
      "_id: 662f87582ed6dd836f4cf2b0\n",
      "name: Tina Newport\n",
      "alter: 48\n",
      "stadt: Liverpool\n",
      "****************************************\n",
      "_id: 662f87582ed6dd836f4cf2b1\n",
      "name: Sandra Johns\n",
      "alter: 25\n",
      "stadt: Hamburg\n",
      "****************************************\n"
     ]
    }
   ],
   "execution_count": 36
  },
  {
   "cell_type": "markdown",
   "source": [
    "## Aufgabe 2:\n",
    "\n",
    "#### Schreiben Sie ihr Warenwirtschaftssystem von SQL auf MongoDB um. \n",
    "\n",
    "Tipp: Es ist keine Funktion mehr nötig, die das vorhandensein einer Datenbank überprüft, da die ja \"automatisch\" angelegt wird. :)"
   ],
   "metadata": {
    "collapsed": false
   }
  },
  {
   "cell_type": "code",
   "execution_count": null,
   "outputs": [],
   "source": [
    "import pymongo\n",
    "from pymongo import MongoClient\n",
    "\n",
    "\n",
    "def main():\n",
    "    client = MongoClient('mongodb://localhost:27017')\n",
    "    db = client[\"neueDatenbank\"]\n",
    "    collection = db[\"warenkatalog\"]\n",
    "    \n",
    "    "
   ],
   "metadata": {
    "collapsed": false
   }
  },
  {
   "cell_type": "markdown",
   "metadata": {},
   "source": [
    "<img style=\"float: center;\" src=\"img/wbs-logo.jpg\">\n",
    "\n",
    "### Abbildungs- und Quellenverzeichnis\n",
    "https://de.wikipedia.org/wiki/Python_(Programmiersprache)\n",
    "Das Python Logo ist ein eingetragenes Warenzeichen der Python Software Foundation\n",
    "Alle auf dieser Website veröffentlichten Logos sowie Marken-, Produkt- und Warenzeichen sind Eigentum der jeweiligen Unternehmen\n",
    "© WBS TRAINING AG – Alle Rechte vorbehalten\n",
    "\n",
    "### Nutzungsrechte:\n",
    "Die Nutzung dieser Dokumentation ist ausschließlich für Schulungszwecke der WBS TRAINING AG gestattet. Eine Weitergabe an Dritte, auch auszugsweise, sowie Vervielfältigungen und Verbreitungen aller Art (elektronische und andere Verfahren) inklusive Übersetzungen sind nur mit vorheriger schriftlicher Zustimmung des Rechtinhabers gestattet. Zuwiderhandlungen verpflichten zu Schadenersatz.\n",
    "\n",
    "### Herausgeber:\n",
    "\n",
    "WBS TRAINING AG\n",
    "Lorenzweg 5\n",
    "12099 Berlin\n",
    "\n",
    "### Haftungsausschluss:\n",
    "Alle Inhalte sind nach bestem Wissen korrekt und vollständig recherchiert und mit größtmöglicher Sorgfalt für die Schulungsunterlage zusammengestellt. Wir sind um die laufende Aktualisierung aller Informationen und Daten bemüht. Dennoch können Fehler (z.B. Abweichungen zur beschriebenen Hard- und Software durch kurzfristige Updates) auftreten, sodass wir für die vollständige Übereinstimmung, Richtigkeit und Aktualität keine Gewähr übernehmen. Hinweise unserer Nutzer werden konsequent weiterverfolgt.\n"
   ]
  }
 ],
 "metadata": {
  "kernelspec": {
   "display_name": "Python 3",
   "language": "python",
   "name": "python3"
  },
  "language_info": {
   "codemirror_mode": {
    "name": "ipython",
    "version": 3
   },
   "file_extension": ".py",
   "mimetype": "text/x-python",
   "name": "python",
   "nbconvert_exporter": "python",
   "pygments_lexer": "ipython3",
   "version": "3.8.5"
  }
 },
 "nbformat": 4,
 "nbformat_minor": 4
}
