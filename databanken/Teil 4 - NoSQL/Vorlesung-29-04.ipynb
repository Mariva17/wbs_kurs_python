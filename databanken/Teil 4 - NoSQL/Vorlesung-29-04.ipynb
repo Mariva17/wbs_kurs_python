{
 "cells": [
  {
   "cell_type": "markdown",
   "source": [],
   "metadata": {
    "collapsed": false
   }
  },
  {
   "cell_type": "markdown",
   "source": [
    "<img style=\"float: right;\" src=\"img/python.png\">\n",
    "\n",
    "### NoSQL am Beispiel von Mongo-DB\n",
    "Im Gegensatz zu SQL-Datenbanken wie SQLite, MySQL oder MariaDB handelt es sich bei MongoDB **NICHT um eine relationale Datenbank**.\n",
    "MongoDB ist eine **dokumentorientierte Datenbank mit einer nicht strukturierten Abfragesprache**.\n",
    "\n",
    "MongoDB ist eine beliebte NoSQL-Datenbank, die für ihre Flexibilität und Skalierbarkeit bekannt ist. In Kombination mit Python, einer der vielseitigsten Programmiersprachen, bietet sie eine leistungsstarke Plattform zur Verwaltung und Verarbeitung von Daten.\n",
    "\n",
    "Da es MongoDB auf einen Datenbank-Server basiert, muss dieser installiert sein. Der MongoDB-Server kann unter der folgenden Adresse runtergeladen werden:\n",
    "\n",
    "[Download MongoDB-Community Edition](https://www.mongodb.com/try/download/community)\n",
    "\n",
    "**Glücklicherweise ist MongoDB bereits auf unserer virtuellen Maschine installiert**.\n",
    "\n",
    "Nach der Installation kann der MongoDB Compass aufgerufen werden:\n",
    "<br>\n",
    "<img style=\"float: center;\" src=\"img/mongodb0.png\">\n",
    "<br>\n",
    "\n",
    "**Und wieder geschlossen, da wir ja in mit Python und PyCharm arbeiten**. ;-)\n",
    "\n"
   ],
   "metadata": {
    "collapsed": false
   }
  },
  {
   "cell_type": "markdown",
   "source": [
    "#### Verbindung zu Datenbank mit Hilfe von PyCharm\n",
    "\n",
    "<br>\n",
    "<img style=\"float: center;\" src=\"img/mongodb6.png\">\n",
    "<br>\n",
    "<img style=\"float: center;\" src=\"img/mongodb7.png\">\n",
    "<br>\n",
    "\n"
   ],
   "metadata": {
    "collapsed": false
   }
  },
  {
   "cell_type": "markdown",
   "source": [
    "Bei der ersten Verbindung zur Datenbank muss noch der passende Treiber installiert und unter Umständen aktualisiert werden.\n",
    "\n",
    "Zugangsdaten sind in diesen Fall nicht erforderlich, da der Server auf der virtuellen Maschine nicht geschützt ist."
   ],
   "metadata": {
    "collapsed": false
   }
  },
  {
   "cell_type": "markdown",
   "source": [
    "### Wichtig zu beachten\n",
    "\n",
    "MongoDB speichert Daten in einem Format namens **BSON**, das eine binäre Version von JSON ist.\n",
    "MongoDB ist **schemafrei**, was bedeutet, dass Dokumente in derselben Collection unterschiedliche Felder haben können.\n",
    "Die Interaktion mit MongoDB über Python erfolgt hauptsächlich durch das Arbeiten mit **Dictionaries** und **Cursors**.\n"
   ],
   "metadata": {
    "collapsed": false
   }
  },
  {
   "cell_type": "markdown",
   "source": [
    "#### Verbindung herstellen\n",
    "In unserem einfachen Beispiel ist der Login zu Datenbank nicht über Zugangsdaten geschützt. Um auf die Datenbank\n",
    "zuzugreifen nutzen wir **Mongo-Client** aus der Bibliothek \"**pymongo**\" die installiert werden muss.\n",
    "Mehr Informationen zu pymongo finden Sie unter der folgenden Adresse:\n",
    "[Pymongo-Readthedocs](https://pymongo.readthedocs.io/en/stable/tutorial.html)"
   ],
   "metadata": {
    "collapsed": false
   }
  },
  {
   "cell_type": "code",
   "source": [
    "from pymongo import MongoClient\n",
    "\n",
    "client = MongoClient('mongodb://localhost:27017')\n",
    "db = client[\"neueDatenbank\"]\n"
   ],
   "metadata": {
    "collapsed": false,
    "ExecuteTime": {
     "end_time": "2024-04-29T07:14:30.697948Z",
     "start_time": "2024-04-29T07:14:30.567802Z"
    }
   },
   "outputs": [],
   "execution_count": 2
  },
  {
   "cell_type": "markdown",
   "source": [
    "#### Daten zur Datenbank hinzufügen\n",
    "\n",
    "Mongodb unterstützt dabei folgende Datentypen:\n",
    "<br>\n",
    "<img style=\"float: center;\" src=\"img/mongodb14.png\">\n",
    "Quelle: Entwickler.press"
   ],
   "metadata": {
    "collapsed": false
   }
  },
  {
   "cell_type": "markdown",
   "source": [
    "#### String Kodierung\n",
    "Strings können beim Speichern UTF-8 kodiert sein. Mongodb verarbeitet diese automatisch. Strings müssen also nicht vorher in ASCII-Format konvertiert werden."
   ],
   "metadata": {
    "collapsed": false
   }
  },
  {
   "cell_type": "markdown",
   "source": [
    "#### Datensatz einer Collection hinzufügen\n",
    "\n",
    "Sobald Sie Daten in eine Collection einfügen, wird die Datenbank (in diesem Fall **neueDatenbank**) erstellt."
   ],
   "metadata": {
    "collapsed": false
   }
  },
  {
   "cell_type": "code",
   "source": [
    "collection = db[\"meineCollection\"]\n",
    "collection.insert_one({\"name\": \"Max Mustermann\",\n",
    "                       \"alter\": 28,\n",
    "                       \"rolle\": \"PythonDozentIn\"})"
   ],
   "metadata": {
    "collapsed": false,
    "ExecuteTime": {
     "end_time": "2024-04-29T07:25:35.891102Z",
     "start_time": "2024-04-29T07:25:35.833818Z"
    }
   },
   "outputs": [
    {
     "data": {
      "text/plain": [
       "InsertOneResult(ObjectId('662f4b6f5e0caf98497c4be4'), acknowledged=True)"
      ]
     },
     "execution_count": 3,
     "metadata": {},
     "output_type": "execute_result"
    }
   ],
   "execution_count": 3
  },
  {
   "cell_type": "markdown",
   "source": [
    "**Bingo!**\n",
    "<br>\n",
    "<img style=\"float: center;\" src=\"img/neue_Datenbank.PNG\">\n",
    "<br>\n",
    "<img style=\"float: center;\" src=\"img/mongodb8.png\">"
   ],
   "metadata": {
    "collapsed": false
   }
  },
  {
   "cell_type": "markdown",
   "source": [
    "#### Embedded Documents\n",
    "Es ist auch möglich Teildokumente in Top-Level-Dokumente einzufügen. Man könnte diese auch unendlich untereinander verschachteln.\n",
    "In der Regel würde das aber den Aufwand, um an die Daten zu kommen erhöhen."
   ],
   "metadata": {
    "collapsed": false
   }
  },
  {
   "cell_type": "markdown",
   "source": [
    "#### Erfolgskontrolle, alle Datenbanken auflisten:"
   ],
   "metadata": {
    "collapsed": false
   }
  },
  {
   "cell_type": "code",
   "source": "print(client.list_database_names())",
   "metadata": {
    "collapsed": false,
    "ExecuteTime": {
     "end_time": "2024-04-29T08:41:08.347327Z",
     "start_time": "2024-04-29T08:41:08.341985Z"
    }
   },
   "outputs": [
    {
     "name": "stdout",
     "output_type": "stream",
     "text": [
      "['admin', 'config', 'local', 'neueDatenbank']\n"
     ]
    }
   ],
   "execution_count": 4
  },
  {
   "cell_type": "markdown",
   "source": [
    "Dieser Code zeigt alle Datenbanknamen in Ihrer MongoDB-Instanz an. Sobald die erste Dateneinfügung erfolgt ist, sollte neueDatenbank in dieser Liste erscheinen.\n",
    "\n",
    "Denken Sie daran, dass in MongoDB eine Datenbank oder eine Collection **nicht physisch erstellt wird, bis Daten darin gespeichert werden**. Dies unterscheidet MongoDB von traditionellen relationalen Datenbanksystemen."
   ],
   "metadata": {
    "collapsed": false
   }
  },
  {
   "cell_type": "markdown",
   "source": [
    "#### Mehrere Elemente der Datenbank hinzufügen"
   ],
   "metadata": {
    "collapsed": false
   }
  },
  {
   "cell_type": "code",
   "source": [
    "addList = [\n",
    "    {\n",
    "        \"name\": \"Tony Tester\",\n",
    "        \"alter\": 30  \n",
    "    },\n",
    "    {\n",
    "        \"name\": \"Tanja Tester\",\n",
    "        \"alter\": 25,\n",
    "        \"rolle\": \"Python-Dozentin\"\n",
    "    }\n",
    "]\n",
    "\n",
    "collection.insert_many(addList)"
   ],
   "metadata": {
    "collapsed": false,
    "ExecuteTime": {
     "end_time": "2024-04-29T08:45:00.283738Z",
     "start_time": "2024-04-29T08:45:00.274753Z"
    }
   },
   "outputs": [
    {
     "data": {
      "text/plain": [
       "InsertManyResult([ObjectId('662f5e0c5e0caf98497c4be5'), ObjectId('662f5e0c5e0caf98497c4be6')], acknowledged=True)"
      ]
     },
     "execution_count": 5,
     "metadata": {},
     "output_type": "execute_result"
    }
   ],
   "execution_count": 5
  },
  {
   "cell_type": "markdown",
   "source": [
    "Wie Ihnen sicher aufgefallen ist, brauchen Tabellen, anders als bei SQL-Datenbanken, nicht erweitert werden, um einen Datensatz hinzuzufügen, der weitere Angaben enthält.\n",
    "Hier wurde ein neuer Datensatz angelegt, der im Gegensatz zu den anderen Datensätzen noch eine Rolle enthält:"
   ],
   "metadata": {
    "collapsed": false
   }
  },
  {
   "cell_type": "markdown",
   "source": [
    "<img style=\"float: center;\" src=\"img/mongodb9.png\">"
   ],
   "metadata": {
    "collapsed": false
   }
  },
  {
   "cell_type": "markdown",
   "source": [
    "#### Daten aus der Datenbank lesen"
   ],
   "metadata": {
    "collapsed": false
   }
  },
  {
   "cell_type": "markdown",
   "source": [
    "### find_one()"
   ],
   "metadata": {
    "collapsed": false
   }
  },
  {
   "cell_type": "code",
   "source": [
    "daten = collection.find_one({ \"name\": \"Tony Tester\" })\n",
    "print(daten)"
   ],
   "metadata": {
    "collapsed": false,
    "ExecuteTime": {
     "end_time": "2024-04-29T09:00:00.406562Z",
     "start_time": "2024-04-29T09:00:00.394169Z"
    }
   },
   "outputs": [
    {
     "name": "stdout",
     "output_type": "stream",
     "text": [
      "{'_id': ObjectId('662f5e0c5e0caf98497c4be5'), 'name': 'Tony Tester', 'alter': 30}\n"
     ]
    }
   ],
   "execution_count": 6
  },
  {
   "cell_type": "markdown",
   "source": [
    "Wie Sie sicher  bemerkt haben, erfolgt die Ausgabe als **Dictionary**."
   ],
   "metadata": {
    "collapsed": false
   }
  },
  {
   "cell_type": "code",
   "source": [
    "daten = collection.find_one({ \"name\": \"Tony Tester\" })\n",
    "\n",
    "for key, value in daten.items():\n",
    "    print(f\"{key}: {value}\")\n",
    "    \n",
    "print()\n",
    "print(\"Möglichkeit2: \")\n",
    "\n",
    "print(daten[\"name\"])\n",
    "print(daten[\"alter\"])\n",
    "\n",
    "daten2 = collection.find_one({ \"name\": \"Tanja Tester\" })\n",
    "print(daten2)"
   ],
   "metadata": {
    "collapsed": false,
    "ExecuteTime": {
     "end_time": "2024-04-29T09:09:10.352970Z",
     "start_time": "2024-04-29T09:09:10.346817Z"
    }
   },
   "outputs": [
    {
     "name": "stdout",
     "output_type": "stream",
     "text": [
      "_id: 662f5e0c5e0caf98497c4be5\n",
      "name: Tony Tester\n",
      "alter: 30\n",
      "\n",
      "Möglichkeit2: \n",
      "Tony Tester\n",
      "30\n",
      "{'_id': ObjectId('662f5e0c5e0caf98497c4be6'), 'name': 'Tanja Tester', 'alter': 25, 'rolle': 'Python-Dozentin'}\n"
     ]
    }
   ],
   "execution_count": 12
  },
  {
   "cell_type": "markdown",
   "source": [
    "#### Die Objectid\n",
    "\n",
    "<img style=\"float: center;\" src=\"img/mongodb15.png\">\n",
    "<br>\n",
    "<br>\n",
    "Die Objectid wird vom Client Driver oder der Datenbank automatisch generiert.\n",
    "Falls gewünscht kann der Entwickler eine eigene Objectid generieren. Diese darf allerdings nur einmal vorkommen:\n"
   ],
   "metadata": {
    "collapsed": false
   }
  },
  {
   "cell_type": "markdown",
   "source": [
    "#### Mehrere Suchparameter\n",
    "Natürlich können auch mehrere Suchparameter kombiniert werden:"
   ],
   "metadata": {
    "collapsed": false
   }
  },
  {
   "cell_type": "code",
   "source": [
    "daten2 = collection.find_one({ \"name\": \"Tanja Tester\", \"rolle\": \"Python-Dozentin\" })\n",
    "print(daten2)"
   ],
   "metadata": {
    "collapsed": false,
    "ExecuteTime": {
     "end_time": "2024-04-29T09:10:24.315261Z",
     "start_time": "2024-04-29T09:10:24.310858Z"
    }
   },
   "outputs": [
    {
     "name": "stdout",
     "output_type": "stream",
     "text": [
      "{'_id': ObjectId('662f5e0c5e0caf98497c4be6'), 'name': 'Tanja Tester', 'alter': 25, 'rolle': 'Python-Dozentin'}\n"
     ]
    }
   ],
   "execution_count": 13
  },
  {
   "cell_type": "markdown",
   "source": [
    "### Nach Werten filtern:"
   ],
   "metadata": {
    "collapsed": false
   }
  },
  {
   "metadata": {
    "ExecuteTime": {
     "end_time": "2024-04-29T09:16:32.090166Z",
     "start_time": "2024-04-29T09:16:32.084932Z"
    }
   },
   "cell_type": "code",
   "source": [
    "daten = collection.find({\"alter\": {\"$gte\": 28}})\n",
    "\n",
    "for i in daten:\n",
    "    print(i)"
   ],
   "outputs": [
    {
     "name": "stdout",
     "output_type": "stream",
     "text": [
      "{'_id': ObjectId('662f4b6f5e0caf98497c4be4'), 'name': 'Max Mustermann', 'alter': 28, 'rolle': 'PythonDozentIn'}\n",
      "{'_id': ObjectId('662f5e0c5e0caf98497c4be5'), 'name': 'Tony Tester', 'alter': 30}\n"
     ]
    }
   ],
   "execution_count": 18
  },
  {
   "cell_type": "code",
   "source": [
    "daten = collection.find({\"alter\": {\"$gte\": 28}})\n",
    "\n",
    "for i in daten:\n",
    "    for key, value in i.items():\n",
    "        print(f\"{key}: {value}\")\n",
    "    print(\"*\"*40)\n"
   ],
   "metadata": {
    "collapsed": false,
    "ExecuteTime": {
     "end_time": "2024-04-29T09:15:56.295036Z",
     "start_time": "2024-04-29T09:15:56.288914Z"
    }
   },
   "outputs": [
    {
     "name": "stdout",
     "output_type": "stream",
     "text": [
      "_id: 662f4b6f5e0caf98497c4be4\n",
      "name: Max Mustermann\n",
      "alter: 28\n",
      "rolle: PythonDozentIn\n",
      "****************************************\n",
      "_id: 662f5e0c5e0caf98497c4be5\n",
      "name: Tony Tester\n",
      "alter: 30\n",
      "****************************************\n"
     ]
    }
   ],
   "execution_count": 17
  },
  {
   "cell_type": "markdown",
   "source": [
    "### Weitere Filter- und Vergleichsmöglichkeiten:\n",
    "\n",
    "\\begin{tabular}{lll}\n",
    "\\texttt{\\$eq} & : & \\texttt{Gleich. Vergleicht, ob der angegebene Wert dem im Dokument enthaltenen Wert entspricht.} \\\\\n",
    "\\texttt{\\$ne} & : & \\texttt{Nicht gleich. Vergleicht, ob der angegebene Wert nicht dem im Dokument enthaltenen Wert entspricht.} \\\\\n",
    "\\texttt{\\$gt} & : & \\texttt{Größer als. Vergleicht, ob der im Dokument enthaltene Wert größer als der angegebene Wert ist.} \\\\\n",
    "\\texttt{\\$gte} & : & \\texttt{Größer als oder gleich. Vergleicht, ob der im Dokument enthaltene Wert größer oder gleich dem angegebenen Wert ist.} \\\\\n",
    "\\texttt{\\$lt} & : & \\texttt{Kleiner als. Vergleicht, ob der im Dokument enthaltene Wert kleiner als der angegebene Wert ist.} \\\\\n",
    "\\texttt{\\$lte} & : & \\texttt{Kleiner oder gleich. Vergleicht, ob der im Dokument enthaltene Wert kleiner oder gleich dem angegebenen Wert ist.} \\\\\n",
    "\\texttt{\\$in} & : & \\texttt{In. Überprüft, ob der im Dokument enthaltene Wert in einem angegebenen Array enthalten ist.} \\\\\n",
    "\\texttt{\\$nin} & : & \\texttt{Nicht in. Überprüft, ob der im Dokument enthaltene Wert nicht in einem angegebenen Array enthalten ist.}\n",
    "\\end{tabular}"
   ],
   "metadata": {
    "collapsed": false
   }
  },
  {
   "metadata": {},
   "cell_type": "markdown",
   "source": "Nach Teil des Names suchen"
  },
  {
   "metadata": {
    "ExecuteTime": {
     "end_time": "2024-04-29T09:53:42.165138Z",
     "start_time": "2024-04-29T09:53:42.159239Z"
    }
   },
   "cell_type": "code",
   "source": "\n",
   "outputs": [
    {
     "name": "stdout",
     "output_type": "stream",
     "text": [
      "{'_id': ObjectId('662f5e0c5e0caf98497c4be5'), 'name': 'Tony Tester', 'alter': 30}\n"
     ]
    }
   ],
   "execution_count": 31
  },
  {
   "metadata": {},
   "cell_type": "markdown",
   "source": "Daten suchen mit regex\n"
  },
  {
   "metadata": {},
   "cell_type": "code",
   "outputs": [],
   "execution_count": null,
   "source": ""
  },
  {
   "metadata": {
    "ExecuteTime": {
     "end_time": "2024-04-29T09:50:52.600353Z",
     "start_time": "2024-04-29T09:50:52.594904Z"
    }
   },
   "cell_type": "code",
   "source": [
    "import pymongo\n",
    "\n",
    "collection = db[\"meineCollection\"]\n",
    "# Teil des Namens, nach dem du suchen möchtest\n",
    "teil_des_namens = \"Tester\"\n",
    "\n",
    "# Regulärer Ausdruck für die Suche nach einem Teil des Namens\n",
    "regex_pattern = {\"$regex\": \".*\" + teil_des_namens + \".*\"}\n",
    "\n",
    "# Die Suche durchführen\n",
    "ergebnisse = collection.find({\"name\": regex_pattern})\n",
    "\n",
    "# Ergebnisse ausgeben\n",
    "for ergebnis in ergebnisse:\n",
    "    print(ergebnis)\n",
    "\n"
   ],
   "outputs": [
    {
     "name": "stdout",
     "output_type": "stream",
     "text": [
      "{'_id': ObjectId('662f5e0c5e0caf98497c4be5'), 'name': 'Tony Tester', 'alter': 30}\n",
      "{'_id': ObjectId('662f5e0c5e0caf98497c4be6'), 'name': 'Tanja Tester', 'alter': 25, 'rolle': 'Python-Dozentin'}\n"
     ]
    }
   ],
   "execution_count": 30
  },
  {
   "cell_type": "markdown",
   "source": [
    "#### Alle Daten der Datenbank anzeigen mit find():"
   ],
   "metadata": {
    "collapsed": false
   }
  },
  {
   "cell_type": "code",
   "source": [
    "daten = collection.find()\n",
    "for i in daten:\n",
    "    for key, value in i.items():\n",
    "        print(f\"{key}: {value}\")\n",
    "    print(\"*\"*40)\n"
   ],
   "metadata": {
    "collapsed": false,
    "ExecuteTime": {
     "end_time": "2024-04-29T10:12:28.513742Z",
     "start_time": "2024-04-29T10:12:28.507993Z"
    }
   },
   "outputs": [
    {
     "name": "stdout",
     "output_type": "stream",
     "text": [
      "_id: 662f4b6f5e0caf98497c4be4\n",
      "name: Max Mustermann\n",
      "alter: 28\n",
      "rolle: PythonDozentIn\n",
      "****************************************\n",
      "_id: 662f5e0c5e0caf98497c4be5\n",
      "name: Tony Tester\n",
      "alter: 30\n",
      "****************************************\n",
      "_id: 662f5e0c5e0caf98497c4be6\n",
      "name: Tanja Tester\n",
      "alter: 25\n",
      "rolle: Python-Dozentin\n",
      "****************************************\n",
      "_id: 662f7035063f0f7011879533\n",
      "name: Berny New\n",
      "alter: 15\n",
      "rolle: TesterPython\n",
      "****************************************\n",
      "_id: 662f7204c20b6ad1bdbe74d5\n",
      "name: Ann\n",
      "alter: 21\n",
      "rolle: Beste Freundin\n",
      "anstellung: festvertrag\n",
      "****************************************\n"
     ]
    }
   ],
   "execution_count": 34
  },
  {
   "cell_type": "markdown",
   "source": [
    "Der Syntax von find():\n",
    "find(query, fields, num-docs, skip-docs)"
   ],
   "metadata": {
    "collapsed": false
   }
  },
  {
   "cell_type": "markdown",
   "source": [
    "#### Anzahl der Dokumente in einer Datenbank"
   ],
   "metadata": {
    "collapsed": false
   }
  },
  {
   "cell_type": "code",
   "source": [
    "print(collection.count_documents({}))"
   ],
   "metadata": {
    "collapsed": false,
    "ExecuteTime": {
     "end_time": "2024-04-29T09:56:37.228727Z",
     "start_time": "2024-04-29T09:56:37.201031Z"
    }
   },
   "outputs": [
    {
     "name": "stdout",
     "output_type": "stream",
     "text": [
      "3\n"
     ]
    }
   ],
   "execution_count": 33
  },
  {
   "cell_type": "markdown",
   "source": [
    "#### Ein kleines Skript zum Hinzufügen neuer Benutzer (Übung)"
   ],
   "metadata": {
    "collapsed": false
   }
  },
  {
   "cell_type": "code",
   "execution_count": 38,
   "outputs": [
    {
     "data": {
      "text/plain": "InsertOneResult(ObjectId('6582fc6278252ccbe9056e0d'), acknowledged=True)"
     },
     "execution_count": 38,
     "metadata": {},
     "output_type": "execute_result"
    }
   ],
   "source": [
    "from pymongo import MongoClient\n",
    "\n",
    "client = MongoClient('mongodb://localhost:27017')\n",
    "db = client[\"neueDatenbank\"]\n",
    "collection = db[\"meineCollection\"]\n",
    "\n",
    "name = input(\"Bitte geben Sie einen Namen ein: \")\n",
    "alter = int(input(\"Bitte geben Sie das Alter ein: \"))\n",
    "rolle = input(\"Bitte geben Sie die Rolle ein: \")\n",
    "\n",
    "nutzerInfo = {\"name\": name, \"alter\": alter, \"rolle\": rolle}\n",
    "\n",
    "try:\n",
    "    collection.insert_one(nutzerInfo)\n",
    "except Exception as e:\n",
    "    print(\"Es ist folgende Fehler aufgetreten\", e)\n",
    "finally:\n",
    "    client.close()"
   ],
   "metadata": {
    "collapsed": false,
    "ExecuteTime": {
     "end_time": "2023-12-20T14:38:27.008445800Z",
     "start_time": "2023-12-20T14:38:05.594816200Z"
    }
   }
  },
  {
   "cell_type": "markdown",
   "source": [
    "#### Ein kleines Skript zum Suchen eines Eintrages (gemeinsame Übung)"
   ],
   "metadata": {
    "collapsed": false
   }
  },
  {
   "cell_type": "code",
   "source": [
    "from pymongo import MongoClient\n",
    "\n",
    "client = MongoClient('mongodb://localhost:27017')\n",
    "db = client[\"neueDatenbank\"]\n",
    "collection = db[\"meineCollection\"]\n",
    "\n",
    "name = input(\"Bitte geben Sie einen Namen ein: \")\n",
    "\n",
    "daten = {\"name\": {\"$regex\": f\".*{name}.*\"}}\n",
    "\n",
    "try:\n",
    "    ergebnis = collection.find(daten)\n",
    "    for i in ergebnis:\n",
    "        print(i)\n",
    "except Exception as e:\n",
    "    print(\"Es ist folgende Fehler aufgetreten\", e)\n",
    "#finally:\n",
    "#    client.close()"
   ],
   "metadata": {
    "collapsed": false,
    "pycharm": {
     "is_executing": true
    },
    "ExecuteTime": {
     "end_time": "2024-04-29T10:28:16.718575Z",
     "start_time": "2024-04-29T10:28:07.713565Z"
    }
   },
   "outputs": [
    {
     "name": "stdout",
     "output_type": "stream",
     "text": [
      "{'_id': ObjectId('662f5e0c5e0caf98497c4be5'), 'name': 'Tony Tester', 'alter': 30}\n",
      "{'_id': ObjectId('662f5e0c5e0caf98497c4be6'), 'name': 'Tanja Tester', 'alter': 25, 'rolle': 'Python-Dozentin'}\n"
     ]
    }
   ],
   "execution_count": 35
  },
  {
   "cell_type": "markdown",
   "source": [
    "#### Wie viele Python-DozenInnen befinden sich in der Datenbank?"
   ],
   "metadata": {
    "collapsed": false
   }
  },
  {
   "cell_type": "code",
   "source": [
    "from pymongo import MongoClient\n",
    "\n",
    "client = MongoClient('mongodb://localhost:27017')\n",
    "db = client[\"neueDatenbank\"]\n",
    "collection = db[\"meineCollection\"]\n",
    "print(collection.count_documents({\"rolle\": \"Python-DozentIn\"}))"
   ],
   "metadata": {
    "collapsed": false,
    "ExecuteTime": {
     "end_time": "2024-04-29T10:32:56.249304Z",
     "start_time": "2024-04-29T10:32:56.236942Z"
    }
   },
   "outputs": [
    {
     "name": "stdout",
     "output_type": "stream",
     "text": [
      "2\n"
     ]
    }
   ],
   "execution_count": 37
  },
  {
   "cell_type": "markdown",
   "source": [
    "### Daten ändern\n",
    "Jede Datenbank muss nicht nur aufgerufen, sondern auch gepflegt werden (OK, vielleicht nicht alle, aber die meisten).\n",
    "Zum Ändern von Daten wird die **update()**-Methode verwendet.\n",
    "Naturgemäß erwartet die Methode **2**, oder **maximal 4** Parameter.\n",
    "\n",
    "Syntax:\n",
    "update(query, new-document/update-document, upsert, multiple)\n",
    "<br>\n",
    "\n",
    "<img style=\"float: center;\" src=\"img/mongodb19.png\">\n",
    "\n",
    "\n"
   ],
   "metadata": {
    "collapsed": false
   }
  },
  {
   "cell_type": "code",
   "source": [
    "from pymongo import MongoClient\n",
    "\n",
    "client = MongoClient('mongodb://localhost:27017')\n",
    "db = client[\"neueDatenbank\"]\n",
    "collection = db[\"meineCollection\"]\n",
    "\n",
    "daten = collection.find_one({\"name\": \"Tony Tester\" })\n",
    "\n",
    "print(\"Vorher: \")\n",
    "print(daten[\"name\"])\n",
    "print(daten[\"rolle\"])\n",
    "print(\"*\"*40)\n",
    "\n",
    "collection.update_one({\"name\": \"Tony Tester\" }, {\"$set\": {\"rolle\": \"Teilnehmer\"}})\n",
    "daten = collection.find_one({ \"name\": \"Tony Tester\" })\n",
    "\n",
    "print(\"Hinterher: \")\n",
    "print(daten[\"name\"])\n",
    "print(daten[\"rolle\"])\n"
   ],
   "metadata": {
    "collapsed": false,
    "ExecuteTime": {
     "end_time": "2024-04-30T06:24:22.415428Z",
     "start_time": "2024-04-30T06:24:22.388194Z"
    }
   },
   "outputs": [
    {
     "name": "stdout",
     "output_type": "stream",
     "text": [
      "Vorher: \n",
      "Tony Tester\n",
      "Python-DozentIn\n",
      "****************************************\n",
      "Hinterher: \n",
      "Tony Tester\n",
      "Teilnehmer\n"
     ]
    }
   ],
   "execution_count": 4
  },
  {
   "cell_type": "markdown",
   "source": [
    "### Daten löschen\n",
    "#### Einen Eintrag löschen\n",
    "\n",
    "Wir löschen den Eintrag von Tony Tester:"
   ],
   "metadata": {
    "collapsed": false
   }
  },
  {
   "cell_type": "code",
   "source": [
    "from pymongo import MongoClient\n",
    "\n",
    "client = MongoClient('mongodb://localhost:27017')\n",
    "db = client[\"neueDatenbank\"]\n",
    "collection = db[\"meineCollection\"]\n",
    "\n",
    "collection.delete_one({ \"name\": \"Tony Tester\" })\n",
    "\n"
   ],
   "metadata": {
    "collapsed": false,
    "ExecuteTime": {
     "end_time": "2024-04-30T06:28:37.161912Z",
     "start_time": "2024-04-30T06:28:37.129121Z"
    }
   },
   "outputs": [
    {
     "data": {
      "text/plain": [
       "DeleteResult({'n': 1, 'ok': 1.0}, acknowledged=True)"
      ]
     },
     "execution_count": 5,
     "metadata": {},
     "output_type": "execute_result"
    }
   ],
   "execution_count": 5
  },
  {
   "cell_type": "markdown",
   "source": [
    "#### Mehrere Einräge löschen\n",
    "\n",
    "Wir löschen alle Python-DozenInnen:"
   ],
   "metadata": {
    "collapsed": false
   }
  },
  {
   "cell_type": "code",
   "source": [
    "from pymongo import MongoClient\n",
    "\n",
    "client = MongoClient('mongodb://localhost:27017')\n",
    "db = client[\"neueDatenbank\"]\n",
    "collection = db[\"meineCollection\"]\n",
    "\n",
    "collection.delete_many({ \"rolle\": \"Python-DozentIn\" })"
   ],
   "metadata": {
    "collapsed": false,
    "ExecuteTime": {
     "end_time": "2024-04-30T06:30:57.007511Z",
     "start_time": "2024-04-30T06:30:56.995402Z"
    }
   },
   "outputs": [
    {
     "data": {
      "text/plain": [
       "DeleteResult({'n': 2, 'ok': 1.0}, acknowledged=True)"
      ]
     },
     "execution_count": 6,
     "metadata": {},
     "output_type": "execute_result"
    }
   ],
   "execution_count": 6
  },
  {
   "cell_type": "markdown",
   "source": [
    "Natürlich funktionieren auch Filter:"
   ],
   "metadata": {
    "collapsed": false
   }
  },
  {
   "cell_type": "code",
   "source": "collection.delete_many({\"alter\": {\"$gte\": 20}})",
   "metadata": {
    "collapsed": false,
    "ExecuteTime": {
     "end_time": "2024-04-30T06:34:28.235737Z",
     "start_time": "2024-04-30T06:34:28.228706Z"
    }
   },
   "outputs": [
    {
     "data": {
      "text/plain": [
       "DeleteResult({'n': 1, 'ok': 1.0}, acknowledged=True)"
      ]
     },
     "execution_count": 8,
     "metadata": {},
     "output_type": "execute_result"
    }
   ],
   "execution_count": 8
  },
  {
   "cell_type": "markdown",
   "source": [
    "#### Indizierung:\n",
    "Wie bei relationalen Datenbanken ist die Indizierung in MongoDB entscheidend für die Leistungsfähigkeit bei Abfragen. Sie können Indizes auf Collections erstellen, um die Abfragegeschwindigkeit zu verbessern."
   ],
   "metadata": {
    "collapsed": false
   }
  },
  {
   "cell_type": "code",
   "source": [
    "import pymongo\n",
    "collection.create_index([(\"name\", pymongo.ASCENDING)])"
   ],
   "metadata": {
    "collapsed": false,
    "ExecuteTime": {
     "end_time": "2024-04-30T06:40:57.105358Z",
     "start_time": "2024-04-30T06:40:57.098041Z"
    }
   },
   "outputs": [
    {
     "data": {
      "text/plain": [
       "'name_1'"
      ]
     },
     "execution_count": 12,
     "metadata": {},
     "output_type": "execute_result"
    }
   ],
   "execution_count": 12
  },
  {
   "cell_type": "markdown",
   "source": [
    "Jede Collection in MongoDB kann mehrere Indizes haben, die die Abfrageleistung verbessern. Sie können die Methode **index_information()** verwenden, um Details zu den Indizes einer bestimmten Collection zu erhalten.\n",
    "\n",
    "Hier ist ein Beispiel, wie Sie die Informationen zu den Indizes einer Collection in MongoDB mit Python und pymongo abrufen können:"
   ],
   "metadata": {
    "collapsed": false
   }
  },
  {
   "cell_type": "code",
   "source": [
    "indexes = collection.index_information()\n",
    "\n",
    "for index in indexes:\n",
    "    print(indexes[index])"
   ],
   "metadata": {
    "collapsed": false,
    "ExecuteTime": {
     "end_time": "2024-04-30T06:41:00.693028Z",
     "start_time": "2024-04-30T06:41:00.688257Z"
    }
   },
   "outputs": [
    {
     "name": "stdout",
     "output_type": "stream",
     "text": [
      "{'v': 2, 'key': [('_id', 1)]}\n",
      "{'v': 2, 'key': [('name', 1)]}\n"
     ]
    }
   ],
   "execution_count": 13
  },
  {
   "cell_type": "markdown",
   "source": [
    "- **index_information()** gibt ein Dictionary zurück, in dem die Schlüssel die Namen der Indizes sind und die Werte Details zu jedem Index enthalten.\n",
    "- Die Ausgabe enthält Informationen wie den Namen des Indexes, die Felder, die indiziert sind, und ob der Index in aufsteigender (1) oder absteigender (-1) Reihenfolge ist.\n",
    "- Standardmäßig hat jede Collection in MongoDB einen Index auf dem _id-Feld.\n",
    "\n",
    "Diese Methode ist nützlich, um zu verstehen, wie Ihre Daten in MongoDB organisiert und indiziert sind, was wiederum Einfluss auf die Leistung Ihrer Abfragen hat."
   ],
   "metadata": {
    "collapsed": false
   }
  },
  {
   "cell_type": "markdown",
   "source": [
    "### Wichtig!\n",
    "Das sind die Grundlagen, um mit MongoDB in Python zu arbeiten. Es gibt noch viele weitere Funktionen und Methoden, die MongoDB bietet, insbesondere im Hinblick auf Aggregationen, Indizierung, und Verwaltung großer Datenmengen."
   ],
   "metadata": {
    "collapsed": false
   }
  },
  {
   "cell_type": "markdown",
   "source": [
    "<img style=\"float: center;\" src=\"img/wbs-logo.jpg\">\n",
    "\n",
    "\n",
    "### Abbildungs- und Quellenverzeichnis\n",
    "https://de.wikipedia.org/wiki/Python_(Programmiersprache)\n",
    "Das Python Logo ist ein eingetragenes Warenzeichen der Python Software Foundation\n",
    "Alle auf dieser Website veröffentlichten Logos sowie Marken-, Produkt- und Warenzeichen sind Eigentum der jeweiligen Unternehmen\n",
    "© WBS TRAINING AG – Alle Rechte vorbehalten\n",
    "\n",
    "### Nutzungsrechte:\n",
    "Die Nutzung dieser Dokumentation ist ausschließlich für Schulungszwecke der WBS TRAINING AG gestattet. Eine Weitergabe an Dritte, auch auszugsweise, sowie Vervielfältigungen und Verbreitungen aller Art (elektronische und andere Verfahren) inklusive Übersetzungen sind nur mit vorheriger schriftlicher Zustimmung des Rechtinhabers gestattet. Zuwiderhandlungen verpflichten zu Schadenersatz.\n",
    "\n",
    "### Herausgeber:\n",
    "\n",
    "WBS TRAINING AG\n",
    "Lorenzweg 5\n",
    "12099 Berlin\n",
    "Haftungsausschluss:\n",
    "Alle Inhalte sind nach bestem Wissen korrekt und vollständig recherchiert und mit größtmöglicher Sorgfalt für die Schulungsunterlage zusammengestellt. Wir sind um die laufende Aktualisierung aller Informationen und Daten bemüht. Dennoch können Fehler (z.B. Abweichungen zur beschriebenen Hard- und Software durch kurzfristige Updates) auftreten, sodass wir für die vollständige Übereinstimmung, Richtigkeit und Aktualität keine Gewähr übernehmen. Hinweise unserer Nutzer werden konsequent weiterverfolgt.\n"
   ],
   "metadata": {
    "collapsed": false
   }
  }
 ],
 "metadata": {
  "kernelspec": {
   "display_name": "Python 3",
   "language": "python",
   "name": "python3"
  },
  "language_info": {
   "codemirror_mode": {
    "name": "ipython",
    "version": 2
   },
   "file_extension": ".py",
   "mimetype": "text/x-python",
   "name": "python",
   "nbconvert_exporter": "python",
   "pygments_lexer": "ipython2",
   "version": "2.7.6"
  }
 },
 "nbformat": 4,
 "nbformat_minor": 0
}
