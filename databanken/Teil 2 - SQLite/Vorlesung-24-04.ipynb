{
 "cells": [
  {
   "cell_type": "markdown",
   "metadata": {},
   "source": [
    "<img style=\"float: right;\" src=\"img/python.png\">\n",
    "\n",
    "# Teil 8: Datenbanken\n",
    "\n",
    "\n",
    "## Vorbereitung:\n",
    "Wir tasten uns an das Thema Datenbanken heran, indem wir uns SQLite bedienen. Diese Datenbank funktioniert ähnlich wie eine SQL-Datenbank wie MySQL oder Mariadb.<br>\n",
    "Zur Übung können wir in diesen Fall zum warm werden erstmal eine Datenbank mithilfe von PyCharm erstellen. Gehen Sie bitte folgendermaßen vor. Fügen Sie eine Datenbank hinzu:<br>\n",
    "<img height=\"536\" src=\"img/sqlite3.png\" width=\"390\"/><br>\n",
    "Erstellen Sie bitte eine neue Datenbank, diese nennen Sie bitte \"**telefonbuch.sqlite**\".<br><br>\n",
    "<img style=\"float: right;\" src=\"img/sqlite4.png\">\n",
    "<br>\n",
    "Erstellen Sie jetzt bitte eine neue Tabelle \"Liste\" mit den folgenden Spalten:\n",
    "<br> \n",
    "<img style=\"float: right;\" src=\"img/sqlite5.png\">\n",
    "Die Datenbank soll die folgende Struktur aufweisen: <br>\n",
    "<img style=\"float: right;\" src=\"img/sqlite6.png\"><br>\n",
    "In diesem Fenster wird im unteren Bereich der SQL-Befehl angezeigt, der ausgeführt wird, \n",
    "damit die Tabellen angelegt werden:\n",
    "\n",
    "Diesen kann man an dieser Stelle gut kopieren, um ihn später im Skript zum Erstellen einer neuen Datenbank zu nutzen, sollte keine vorhanden sein.\n",
    "<br>\n",
    "<img style=\"float: right;\" src=\"img/sqlite6.png\"><br>\n",
    "<br>"
   ]
  },
  {
   "cell_type": "code",
   "execution_count": null,
   "outputs": [],
   "source": [
    "create table liste\n",
    "(\n",
    "    ID       integer\n",
    "        primary key,\n",
    "    vorname  text,\n",
    "    nachname text,\n",
    "    telefon  text\n",
    ");"
   ],
   "metadata": {
    "collapsed": false,
    "pycharm": {
     "is_executing": true
    }
   }
  },
  {
   "cell_type": "markdown",
   "source": [
    "Dieser Code kann beispielsweise dafür genutzt werden, um beim Start eines Programms bei nichtvorhandensein der Datenbank eine neue Datenbank zu erstellen. <br>\n",
    "zum Beispiel:"
   ],
   "metadata": {
    "collapsed": false
   }
  },
  {
   "metadata": {
    "ExecuteTime": {
     "end_time": "2024-04-24T14:10:07.830933Z",
     "start_time": "2024-04-24T14:10:07.577604Z"
    }
   },
   "cell_type": "code",
   "source": [
    "import sqlite3\n",
    "\n",
    "conn = sqlite3.connect(\"telefonbuch-test.db\")  # Verbindung zur Datenbank, wird erstellt, wenn nicht vorhanden\n",
    "c = conn.cursor()  # Ein cursor wird erstellt\n",
    "sql = \"\"\"create table liste\n",
    "(\n",
    "    ID       integer\n",
    "        primary key,\n",
    "    vorname  text,\n",
    "    nachname text,\n",
    "    telefon  text\n",
    ");\n",
    "\"\"\"\n",
    "\n",
    "c.execute(sql)  # SQL wird ausgeführt\n",
    "conn.commit()   # SQL-Befehl wird bestätigt\n",
    "conn.close()\n"
   ],
   "outputs": [
    {
     "ename": "OperationalError",
     "evalue": "table liste already exists",
     "output_type": "error",
     "traceback": [
      "\u001B[1;31m---------------------------------------------------------------------------\u001B[0m",
      "\u001B[1;31mOperationalError\u001B[0m                          Traceback (most recent call last)",
      "Cell \u001B[1;32mIn[1], line 15\u001B[0m\n\u001B[0;32m      4\u001B[0m c \u001B[38;5;241m=\u001B[39m conn\u001B[38;5;241m.\u001B[39mcursor()  \u001B[38;5;66;03m# Ein cursor wird erstellt\u001B[39;00m\n\u001B[0;32m      5\u001B[0m sql \u001B[38;5;241m=\u001B[39m \u001B[38;5;124m\"\"\"\u001B[39m\u001B[38;5;124mcreate table liste\u001B[39m\n\u001B[0;32m      6\u001B[0m \u001B[38;5;124m(\u001B[39m\n\u001B[0;32m      7\u001B[0m \u001B[38;5;124m    ID       integer\u001B[39m\n\u001B[1;32m   (...)\u001B[0m\n\u001B[0;32m     12\u001B[0m \u001B[38;5;124m);\u001B[39m\n\u001B[0;32m     13\u001B[0m \u001B[38;5;124m\"\"\"\u001B[39m\n\u001B[1;32m---> 15\u001B[0m \u001B[43mc\u001B[49m\u001B[38;5;241;43m.\u001B[39;49m\u001B[43mexecute\u001B[49m\u001B[43m(\u001B[49m\u001B[43msql\u001B[49m\u001B[43m)\u001B[49m  \u001B[38;5;66;03m# SQL wird ausgeführt\u001B[39;00m\n\u001B[0;32m     16\u001B[0m conn\u001B[38;5;241m.\u001B[39mcommit()   \u001B[38;5;66;03m# SQL-Befehl wird bestätigt\u001B[39;00m\n\u001B[0;32m     17\u001B[0m conn\u001B[38;5;241m.\u001B[39mclose()\n",
      "\u001B[1;31mOperationalError\u001B[0m: table liste already exists"
     ]
    }
   ],
   "execution_count": 1
  },
  {
   "metadata": {},
   "cell_type": "markdown",
   "source": "Pfard zur Datenbank erstellen (os)"
  },
  {
   "metadata": {},
   "cell_type": "code",
   "source": [
    "\n",
    "import os\n",
    "\n",
    "app_path = os.path.abspath(__file__)  # Pfad zum aktuellen Skript wird festgestellt (inkl. Dateiname)\n",
    "print(os.path.dirname(app_path))  # Der Ordner wird extrahiert\n",
    "db_path = os.path.join(app_path, 'test.db')  # Der Pfad zur Datenbank wird zusammengestellt"
   ],
   "outputs": [],
   "execution_count": null
  },
  {
   "metadata": {},
   "cell_type": "markdown",
   "source": "Pfard ermitteln mit pathlib"
  },
  {
   "metadata": {},
   "cell_type": "code",
   "outputs": [],
   "execution_count": null,
   "source": [
    "\n",
    "from pathlib import Path\n",
    "\n",
    "app_path = Path(__file__).resolve()  # Pfad zum aktuellen Skript wird festgestellt (inkl. Dateiname)\n",
    "print(app_path.parent)  # Der Ordner wird extrahiert\n",
    "db_path = app_path.parent / 'test.db'  # Der Pfad zur Datenbank wird zusammengestellt\n",
    "\n",
    "print(db_path)\n",
    "# Pfad würde so verwendet werden:\n",
    "# conn = sqlite3.connect(db_path) "
   ]
  },
  {
   "metadata": {},
   "cell_type": "markdown",
   "source": "Weitere Möglichkeit mit pathlib"
  },
  {
   "metadata": {},
   "cell_type": "code",
   "outputs": [],
   "execution_count": null,
   "source": [
    "\n",
    "from pathlib import Path\n",
    "\n",
    "# Wie ist der komplette Pfad zu meinem Skript?\n",
    "mein_skript = Path(__file__)\n",
    "print(mein_skript)  # Testausgabe\n",
    "\n",
    "# Hier finde ich heraus, wie der komplette Ordnerpfad (absoluter Pfad) ist, in dem sich \"mein_skript\" befindet\n",
    "ordner = mein_skript.parent\n",
    "\n",
    "# Hier wird ausgegeben, wie der Pfad lautet, der entsteht, wenn ich die neue Datei in gerade herausgefundenen Pfad anlege:\n",
    "zweitedatei = ordner / \"neue-datei.txt\""
   ]
  },
  {
   "metadata": {},
   "cell_type": "markdown",
   "source": "Benutzerordner expandieren\n"
  },
  {
   "metadata": {},
   "cell_type": "code",
   "outputs": [],
   "execution_count": null,
   "source": ""
  },
  {
   "cell_type": "markdown",
   "source": [
    "Wenn Sie die Datenbank vorher löschen und dann wieder mit dem letzten Skript neu erstellen, können Sie den Erfolg rechts im Datenbank Browser von PyCharm überprüfen."
   ],
   "metadata": {
    "collapsed": false
   }
  },
  {
   "metadata": {},
   "cell_type": "markdown",
   "source": ""
  },
  {
   "cell_type": "markdown",
   "source": [
    "## Erste kleine Datenbankoperationen\n",
    "\n",
    "### INSERT\n",
    "Einfügen eines Namens und einer Rufnummer in unsere niegelnagelneuen Datenbank:"
   ],
   "metadata": {
    "collapsed": false
   }
  },
  {
   "cell_type": "code",
   "source": [
    "import sqlite3\n",
    "\n",
    "conn = sqlite3.connect(\"telefonbuch.db\")\n",
    "c = conn.cursor()\n",
    "\n",
    "# Variablen erstellen\n",
    "vorname = input(\"Bitte geben Sie den Vornamen ein: \")# Ihr Code HIER!!!\n",
    "nachname = input(\"Bitte geben Sie den Nachnamen ein: \")# Ihr Code HIER!!!\n",
    "telefonnummer = input(\"Bitte geben Sie den Telefonnummer ein: \")# Ihr Code HIER!!!\n",
    "\n",
    "# params = (vorname, )  # So muss ein Parameter aussehen, wenn er nur eine Variable enthält (Tuple)\n",
    "\n",
    "params = (vorname, nachname, telefonnummer) # Parametertupel wird erstellt\n",
    "\n",
    "sql = \"\"\"INSERT INTO telefonbuch (vorname, nachname, telefonnummer) VALUES (?, ?, ?)\"\"\"\n",
    "\n",
    "c.execute(sql, params)\n",
    "conn.commit()\n",
    "conn.close()\n"
   ],
   "metadata": {
    "collapsed": false,
    "ExecuteTime": {
     "end_time": "2024-04-24T14:10:53.867689Z",
     "start_time": "2024-04-24T14:10:32.296129Z"
    }
   },
   "outputs": [],
   "execution_count": 2
  },
  {
   "cell_type": "markdown",
   "source": [
    "Vielleicht ist Ihnen aufgefallen, das wir die Variablen nicht direkt in die Abfrage schreiben, sondern als Parameter übergeben. Das hat einen Sicherheitsaspekt, dass zum Beispiel bei Webprogrammierung nicht einfach irgendwelche Werte als SQL-Injektion übergeben werden können."
   ],
   "metadata": {
    "collapsed": false
   }
  },
  {
   "cell_type": "markdown",
   "source": [
    "<br>\n",
    "Erfolgskontrolle:<br>\n",
    "<img style=\"float: right;\" src=\"img/sqlite7.png\">\n",
    "<br>\n",
    "...bingo!"
   ],
   "metadata": {
    "collapsed": false
   }
  },
  {
   "cell_type": "markdown",
   "source": [
    "### SELECT\n",
    "Damit die folgende Übung mehr Spaß macht, sollten noch ein paar Namen hinzugefügt werden (**Tipp**: Das geht ganz schnell, wenn man sich die Tabelle mit den Datenbankbrowser unter PyCharm auf macht):\n",
    "<img style=\"float: right;\" src=\"img/sqlite8.png\">\n"
   ],
   "metadata": {
    "collapsed": false
   }
  },
  {
   "cell_type": "code",
   "source": [
    "import sqlite3\n",
    "\n",
    "conn = sqlite3.connect(\"telefonbuch.db\")\n",
    "c = conn.cursor()\n",
    "\n",
    "suchbegriff = \"Trump\"\n",
    "\n",
    "params = (suchbegriff, )\n",
    "\n",
    "sql = \"\"\"SELECT * FROM telefonbuch WHERE nachname like (?)\"\"\"\n",
    "\n",
    "ergebnis = c.execute(sql, params).fetchone()\n",
    "\n",
    "# alternativ\n",
    "# ergebnis = c.execute(sql, params)\n",
    "# ergebnis = c.fetchall()\n",
    "\n",
    "print(ergebnis)\n",
    "\n",
    "\n"
   ],
   "metadata": {
    "collapsed": false,
    "pycharm": {
     "is_executing": true
    },
    "ExecuteTime": {
     "end_time": "2024-04-24T09:12:17.724901Z",
     "start_time": "2024-04-24T09:12:17.718782Z"
    }
   },
   "outputs": [
    {
     "name": "stdout",
     "output_type": "stream",
     "text": [
      "(5, 'Anna', 'Trump', '04952315')\n"
     ]
    }
   ],
   "execution_count": 11
  },
  {
   "metadata": {
    "ExecuteTime": {
     "end_time": "2024-04-24T09:02:57.972155Z",
     "start_time": "2024-04-24T09:02:57.966641Z"
    }
   },
   "cell_type": "code",
   "source": [
    "import sqlite3\n",
    "\n",
    "conn = sqlite3.connect(\"telefonbuch.db\")\n",
    "c = conn.cursor()\n",
    "\n",
    "suchbegriff = \"Trump\"\n",
    "\n",
    "params = (suchbegriff, )\n",
    "\n",
    "sql = \"\"\"SELECT * FROM telefonbuch WHERE nachname like (?)\"\"\"\n",
    "\n",
    "ergebnis = c.execute(sql, params).fetchall()\n",
    "\n",
    "print(ergebnis)"
   ],
   "outputs": [
    {
     "name": "stdout",
     "output_type": "stream",
     "text": [
      "[(5, 'Anna', 'Trump', '04952315'), (6, 'Bernd', 'Trump', '012547')]\n"
     ]
    }
   ],
   "execution_count": 5
  },
  {
   "metadata": {},
   "cell_type": "markdown",
   "source": "Wildcards"
  },
  {
   "metadata": {
    "ExecuteTime": {
     "end_time": "2024-04-24T09:18:39.025365Z",
     "start_time": "2024-04-24T09:18:39.018369Z"
    }
   },
   "cell_type": "code",
   "source": [
    "import sqlite3\n",
    "\n",
    "conn = sqlite3.connect(\"telefonbuch.db\")\n",
    "c = conn.cursor()\n",
    "\n",
    "suchbegriff = \"Trum%\"\n",
    "\n",
    "params = (suchbegriff, )\n",
    "\n",
    "sql = \"\"\"SELECT * FROM telefonbuch WHERE nachname like (?)\"\"\"\n",
    "\n",
    "ergebnis = c.execute(sql, params).fetchall()\n",
    "\n",
    "print(ergebnis)"
   ],
   "outputs": [
    {
     "name": "stdout",
     "output_type": "stream",
     "text": [
      "[(5, 'Anna', 'Trump', '04952315'), (6, 'Bernd', 'Trump', '012547'), (7, 'Alice', 'Trumping', '123456')]\n"
     ]
    }
   ],
   "execution_count": 13
  },
  {
   "cell_type": "markdown",
   "source": [
    " Die Ausgabe ist auf den ersten Blick ein wenig \"verwirrend\", auf den zweiten Blick erkennen wir (hoffentlich), das es sich um eine Liste von Tupel handelt, also iterieren wir das Ganze mal durch:"
   ],
   "metadata": {
    "collapsed": false
   }
  },
  {
   "cell_type": "code",
   "source": [
    "for i in ergebnis:\n",
    "    print(i)"
   ],
   "metadata": {
    "collapsed": false,
    "pycharm": {
     "is_executing": true
    },
    "ExecuteTime": {
     "end_time": "2024-04-24T09:03:08.229688Z",
     "start_time": "2024-04-24T09:03:08.226053Z"
    }
   },
   "outputs": [
    {
     "name": "stdout",
     "output_type": "stream",
     "text": [
      "(5, 'Anna', 'Trump', '04952315')\n",
      "(6, 'Bernd', 'Trump', '012547')\n"
     ]
    }
   ],
   "execution_count": 6
  },
  {
   "cell_type": "markdown",
   "source": [
    "Besser, aber nicht perfekt:"
   ],
   "metadata": {
    "collapsed": false
   }
  },
  {
   "cell_type": "code",
   "source": [
    "for id, vor, nach, nummer in ergebnis:\n",
    "    print(id, vor, nach, nummer)"
   ],
   "metadata": {
    "collapsed": false,
    "pycharm": {
     "is_executing": true
    },
    "ExecuteTime": {
     "end_time": "2024-04-24T09:04:06.631238Z",
     "start_time": "2024-04-24T09:04:06.624995Z"
    }
   },
   "outputs": [
    {
     "name": "stdout",
     "output_type": "stream",
     "text": [
      "5 Anna Trump 04952315\n",
      "6 Bernd Trump 012547\n"
     ]
    }
   ],
   "execution_count": 7
  },
  {
   "cell_type": "markdown",
   "source": [
    "Ohne Zeilennummer:"
   ],
   "metadata": {
    "collapsed": false
   }
  },
  {
   "cell_type": "code",
   "source": [
    "for _, vor, nach, nummer in ergebnis:\n",
    "    print(vor, nach, nummer)"
   ],
   "metadata": {
    "collapsed": false,
    "pycharm": {
     "is_executing": true
    },
    "ExecuteTime": {
     "end_time": "2024-04-24T09:05:10.743552Z",
     "start_time": "2024-04-24T09:05:10.737923Z"
    }
   },
   "outputs": [
    {
     "name": "stdout",
     "output_type": "stream",
     "text": [
      "5 Anna Trump 04952315\n",
      "6 Bernd Trump 012547\n"
     ]
    }
   ],
   "execution_count": 9
  },
  {
   "cell_type": "markdown",
   "source": [
    "## DELETE Daten löschen\n",
    "\n",
    "Daten löschen gehört in Datenbanken in der Regel dazu... <br> <br>\n",
    "Als erstes lassen wir uns nochmal den Inhalt der Tabelle \"**Liste**\" anzeigen. <br>\n",
    "Zur besseren Übersicht mal den **vollständigen** Code um den kompletten Inhalt der Datenbank anzuzeigen:"
   ],
   "metadata": {
    "collapsed": false
   }
  },
  {
   "metadata": {},
   "cell_type": "markdown",
   "source": "Jetzt löschen wir den Eintrag Müller:\n"
  },
  {
   "cell_type": "code",
   "source": [
    "import sqlite3\n",
    "\n",
    "conn = sqlite3.connect(\"telefonbuch.db\")\n",
    "c = conn.cursor()\n",
    "\n",
    "suchgriff = \"Müller\"\n",
    "params = (suchgriff, )\n",
    "\n",
    "sql = \"\"\"DELETE FROM telefonbuch WHERE nachname = ?\"\"\"\n",
    "c.execute(sql, params)\n",
    "conn.commit()\n",
    "conn.close()"
   ],
   "metadata": {
    "collapsed": false,
    "ExecuteTime": {
     "end_time": "2024-04-24T13:13:55.043321Z",
     "start_time": "2024-04-24T13:13:55.037677Z"
    }
   },
   "outputs": [],
   "execution_count": 5
  },
  {
   "cell_type": "markdown",
   "source": "",
   "metadata": {
    "collapsed": false
   }
  },
  {
   "cell_type": "code",
   "execution_count": null,
   "outputs": [],
   "source": [
    "# Ihr Code HIER!!!"
   ],
   "metadata": {
    "collapsed": false
   }
  },
  {
   "cell_type": "markdown",
   "source": [
    "Führen wir jetzt die Codezelle aus, um den Inhalt der Datenbank anzuzeigen, stellen Sie fest, das der **Eintrag 3** *fehlt*."
   ],
   "metadata": {
    "collapsed": false
   }
  },
  {
   "cell_type": "markdown",
   "source": [
    "## UPDATE\n",
    "Frau Müller hat geheiratet und heißt jetzt Meier...."
   ],
   "metadata": {
    "collapsed": false
   }
  },
  {
   "cell_type": "code",
   "source": [
    "import sqlite3\n",
    "\n",
    "conn = sqlite3.connect(\"telefonbuch.db\")\n",
    "c = conn.cursor()\n",
    "\n",
    "vorname = \"Ute\"\n",
    "nachname = \"Müller\"\n",
    "nachname_neu = \"Meier\"\n",
    "\n",
    "params = (nachname_neu, vorname, nachname)\n",
    "\n",
    "sql = \"\"\"UPDATE telefonbuch SET nachname = ? WHERE vorname = ? AND nachname = ?\"\"\"\n",
    "c.execute(sql, params)\n",
    "conn.commit()\n",
    "conn.close()\n"
   ],
   "metadata": {
    "collapsed": false,
    "ExecuteTime": {
     "end_time": "2024-04-24T09:32:23.950471Z",
     "start_time": "2024-04-24T09:32:23.929527Z"
    }
   },
   "outputs": [],
   "execution_count": 15
  },
  {
   "cell_type": "markdown",
   "source": "",
   "metadata": {
    "collapsed": false
   }
  },
  {
   "cell_type": "markdown",
   "source": [
    "## DROP Table - Tabellen löschen\n",
    "\n",
    "Als erstes erstellen wir uns schnell eine neue Tabelle, damit wir diese löschen können. ;-) <br><br>\n",
    "Diese erstellen wir in derselben Datei:"
   ],
   "metadata": {
    "collapsed": false
   }
  },
  {
   "cell_type": "code",
   "source": [
    "import sqlite3\n",
    "\n",
    "conn = sqlite3.connect(\"telefonbuch.db\")  # Verbindung zur Datenbank, wird erstellt, wenn nicht vorhanden\n",
    "c = conn.cursor()  # Ein cursor wird erstellt\n",
    "sql = \"\"\"create table if not exists haustiere\n",
    "(\n",
    "    ID       integer\n",
    "        primary key,\n",
    "    vorname  text,\n",
    "    nachname text,\n",
    "    telefon  text\n",
    ");\n",
    "\"\"\"\n",
    "\n",
    "c.execute(sql)  # SQL wird ausgeführt\n",
    "conn.commit()   # SQL-Befehl wird bestätigt\n",
    "conn.close()"
   ],
   "metadata": {
    "collapsed": false
   },
   "outputs": [],
   "execution_count": null
  },
  {
   "cell_type": "markdown",
   "source": [
    "Wie Ihnen vielleicht aufgefallen ist, nutzen wir in diesen Fall ein zusätzliches Statement \"**TABLE IF NOT EXISTS**\" Dieses Statement sorgt dafür, das die Tabelle nur dann erstellt wird, wenn diese NICHT bereits existiert.<br><br>Wenn Sie den Datenbankbrowser aktualisieren, sehen Sie die neue Datenbank: <br>\n",
    "<img style=\"float: right;\" src=\"img/sqlite9.png\"><br>\n",
    "Jetzt löschen wir diese wieder:\n"
   ],
   "metadata": {
    "collapsed": false
   }
  },
  {
   "cell_type": "code",
   "source": [
    "import sqlite3\n",
    "\n",
    "conn = sqlite3.connect(\"telefonbuch.db\")  \n",
    "c = conn.cursor()\n",
    "\n",
    "sql = \"\"\"DROP TABLE IF EXISTS haustiere\"\"\"\n",
    "c.execute(sql) \n",
    "conn.commit()   \n",
    "conn.close()\n"
   ],
   "metadata": {
    "collapsed": false,
    "ExecuteTime": {
     "end_time": "2024-04-24T10:08:57.110155Z",
     "start_time": "2024-04-24T10:08:57.089424Z"
    }
   },
   "outputs": [],
   "execution_count": 6
  },
  {
   "cell_type": "markdown",
   "source": [
    "Und schon ist die Tabelle wieder weg.<br> <br>\n"
   ],
   "metadata": {
    "collapsed": false
   }
  },
  {
   "metadata": {},
   "cell_type": "markdown",
   "source": "Eine Spalte einer Tabelle hinzufingen"
  },
  {
   "metadata": {},
   "cell_type": "code",
   "outputs": [],
   "execution_count": null,
   "source": [
    "import sqlite3\n",
    "\n",
    "# Verbindung zur SQLite-Datenbank herstellen\n",
    "conn = sqlite3.connect('telefonbuch.db')\n",
    "cursor = conn.cursor()\n",
    "\n",
    "# SQL-Befehl zum Hinzufügen einer Spalte zur Tabelle\n",
    "sql = \"\"\"\n",
    "ALTER TABLE telefonbuch\n",
    "ADD COLUMN strasse TEXT;\n",
    "\"\"\"\n",
    "\n",
    "# Hier ersetze 'telefonbuch' durch den Namen deiner vorhandenen Tabelle\n",
    "# und 'new_column_name' durch den Namen der neuen Spalte, die du hinzufügen möchtest.\n",
    "# 'TEXT' ist der Datentyp der neuen Spalte, zum Beispiel 'INTEGER', 'TEXT', 'REAL', etc.\n",
    "\n",
    "# Ausführen des SQL-Befehls\n",
    "cursor.execute(sql)\n",
    "\n",
    "# Änderungen in der Datenbank speichern\n",
    "conn.commit()\n",
    "\n",
    "# Verbindung zur Datenbank schließen\n",
    "conn.close()\n"
   ]
  },
  {
   "cell_type": "markdown",
   "source": [
    "## Fazit:\n",
    "Wie Sie sehen sind Datenbanken unter Python keine große Schwierigkeit. Natürlich können wir an einem Vormittag nicht alle Befehle durchgehen, aber das ist eine gute Basis.<br>\n",
    "In den Zusatzinformationen zu dieser Woche finden Sie einige Cheatsheets zum Thema Datenbank. Diese werden Ihnen sicherlich sehr behilflich sein."
   ],
   "metadata": {
    "collapsed": false
   }
  },
  {
   "cell_type": "markdown",
   "source": [
    "## SQLite vs. MySQL etc.\n",
    "Für diese Vorlesung und den dazugehörigen Demos reicht SQLite vollkommen aus. Auf Webservern werden Sie natürlich kein SQLite, sondern MySQL, MariaDB oder ähnliches finden. In der Nutzung unterscheidet sich da nicht sehr. \n",
    "\n",
    "Es stehen ein paar mehr Funktionen zur Verfügung.\n",
    "\n",
    "**Eine Vorlesung zum Thema MySQL folgt...**"
   ],
   "metadata": {
    "collapsed": false
   }
  },
  {
   "cell_type": "markdown",
   "metadata": {},
   "source": [
    "## Ein kleines Telefonbuch (Optional)\n",
    "\n",
    "Wir schreiben ein kleines Telefonbuch:\n",
    "\n",
    "Folgende Funktionen soll unser kleines Telefonbuch enthalten:\n",
    "* hinzufügen eines Vornamen, Nachname und dazugehörige Rufnummer\n",
    "* Nummer eines Eintrags ausgeben\n",
    "* Einträge löschen\n",
    "* das komplette Telefonbuch anzeigen lassen\n",
    "* das Ganze über ein Textmenü\n",
    "* objektorientiert\n",
    "\n",
    "Das Menü könnte folgendermaßen aussehen:\n",
    "\n",
    "Telefonbuch\n",
    "Bitte wählen Sie ...\n",
    "1 - Eintrag hinzufügen\n",
    "2 - Nummer ausgeben\n",
    "3 - Nummer löschen\n",
    "4 - Liste anzeigen\n",
    "e - Ende\n",
    "Ihre Auswahl:\n"
   ]
  },
  {
   "metadata": {
    "ExecuteTime": {
     "end_time": "2024-04-26T13:53:52.714075Z",
     "start_time": "2024-04-26T13:53:46.931208Z"
    }
   },
   "cell_type": "code",
   "source": [
    "\n",
    "import sqlite3\n",
    "\n",
    "conn = sqlite3.connect(\"telefonbuch-new.db\")  \n",
    "c = conn.cursor()\n",
    "\n",
    "sql = \"\"\"DROP TABLE IF EXISTS liste\"\"\"\n",
    "c.execute(sql) \n",
    "conn.commit()   \n",
    "conn.close()"
   ],
   "outputs": [
    {
     "ename": "OperationalError",
     "evalue": "database is locked",
     "output_type": "error",
     "traceback": [
      "\u001B[1;31m---------------------------------------------------------------------------\u001B[0m",
      "\u001B[1;31mOperationalError\u001B[0m                          Traceback (most recent call last)",
      "Cell \u001B[1;32mIn[1], line 7\u001B[0m\n\u001B[0;32m      4\u001B[0m c \u001B[38;5;241m=\u001B[39m conn\u001B[38;5;241m.\u001B[39mcursor()\n\u001B[0;32m      6\u001B[0m sql \u001B[38;5;241m=\u001B[39m \u001B[38;5;124m\"\"\"\u001B[39m\u001B[38;5;124mDROP TABLE IF EXISTS liste\u001B[39m\u001B[38;5;124m\"\"\"\u001B[39m\n\u001B[1;32m----> 7\u001B[0m \u001B[43mc\u001B[49m\u001B[38;5;241;43m.\u001B[39;49m\u001B[43mexecute\u001B[49m\u001B[43m(\u001B[49m\u001B[43msql\u001B[49m\u001B[43m)\u001B[49m \n\u001B[0;32m      8\u001B[0m conn\u001B[38;5;241m.\u001B[39mcommit()   \n\u001B[0;32m      9\u001B[0m conn\u001B[38;5;241m.\u001B[39mclose()\n",
      "\u001B[1;31mOperationalError\u001B[0m: database is locked"
     ]
    }
   ],
   "execution_count": 1
  },
  {
   "metadata": {
    "ExecuteTime": {
     "end_time": "2024-04-26T13:53:56.452831Z",
     "start_time": "2024-04-26T13:53:56.450103Z"
    }
   },
   "cell_type": "code",
   "source": "conn.close()",
   "outputs": [],
   "execution_count": 2
  },
  {
   "cell_type": "markdown",
   "source": [],
   "metadata": {
    "collapsed": false
   }
  },
  {
   "metadata": {
    "ExecuteTime": {
     "end_time": "2024-04-24T13:51:36.372725Z",
     "start_time": "2024-04-24T13:51:18.324637Z"
    }
   },
   "cell_type": "code",
   "source": [
    "import sqlite3\n",
    "\n",
    "conn = sqlite3.connect(\"telefonbuch-new.db\")\n",
    "c = conn.cursor()\n",
    "sql = \"\"\"create table IF NOT EXISTS liste\n",
    "(\n",
    "    ID       integer\n",
    "        primary key,\n",
    "    vorname  text,\n",
    "    nachname text,\n",
    "    telefon  text\n",
    "    );\n",
    "    \"\"\"\n",
    "c.execute(sql) \n",
    "\n",
    "print(\"Welcome to new phonebook! \\n If you want start press any key. \\n If you want exit from programm, type 'stop' or 'exit'.\")\n",
    "    \n",
    "while True:\n",
    "    vorname = input(\"Bitte geben Sie den Vornamen ein: \")\n",
    "    nachname = input(\"Bitte geben Sie den Nachnamen ein: \")\n",
    "    telefon = input(\"Bitte geben Sie den Telefonnummer ein: \")\n",
    "        \n",
    "    params = (vorname, nachname, telefon)\n",
    "    sql2 = \"\"\"INSERT INTO liste (vorname, nachname, telefon) VALUES (?, ?, ?)\"\"\"\n",
    "\n",
    "    c.execute(sql2, params)\n",
    "    if vorname == \"stop\":\n",
    "        break\n",
    "    \n",
    "    \n",
    "    \n",
    "conn.commit()\n",
    "conn.close()\n"
   ],
   "outputs": [
    {
     "name": "stdout",
     "output_type": "stream",
     "text": [
      "Welcome to new phonebook! \n",
      " If you want start press any key. \n",
      " If you want exit from programm, type 'stop' or 'exit'.\n"
     ]
    },
    {
     "ename": "OperationalError",
     "evalue": "database is locked",
     "output_type": "error",
     "traceback": [
      "\u001B[1;31m---------------------------------------------------------------------------\u001B[0m",
      "\u001B[1;31mOperationalError\u001B[0m                          Traceback (most recent call last)",
      "Cell \u001B[1;32mIn[1], line 26\u001B[0m\n\u001B[0;32m     23\u001B[0m params \u001B[38;5;241m=\u001B[39m (vorname, nachname, telefon)\n\u001B[0;32m     24\u001B[0m sql2 \u001B[38;5;241m=\u001B[39m \u001B[38;5;124m\"\"\"\u001B[39m\u001B[38;5;124mINSERT INTO liste (vorname, nachname, telefon) VALUES (?, ?, ?)\u001B[39m\u001B[38;5;124m\"\"\"\u001B[39m\n\u001B[1;32m---> 26\u001B[0m \u001B[43mc\u001B[49m\u001B[38;5;241;43m.\u001B[39;49m\u001B[43mexecute\u001B[49m\u001B[43m(\u001B[49m\u001B[43msql2\u001B[49m\u001B[43m,\u001B[49m\u001B[43m \u001B[49m\u001B[43mparams\u001B[49m\u001B[43m)\u001B[49m\n\u001B[0;32m     27\u001B[0m \u001B[38;5;28;01mif\u001B[39;00m vorname \u001B[38;5;241m==\u001B[39m \u001B[38;5;124m\"\u001B[39m\u001B[38;5;124mstop\u001B[39m\u001B[38;5;124m\"\u001B[39m:\n\u001B[0;32m     28\u001B[0m     \u001B[38;5;28;01mbreak\u001B[39;00m\n",
      "\u001B[1;31mOperationalError\u001B[0m: database is locked"
     ]
    }
   ],
   "execution_count": 1
  },
  {
   "metadata": {
    "ExecuteTime": {
     "end_time": "2024-04-24T13:50:03.947347Z",
     "start_time": "2024-04-24T13:50:03.943537Z"
    }
   },
   "cell_type": "code",
   "source": "conn.close()",
   "outputs": [],
   "execution_count": 2
  },
  {
   "cell_type": "code",
   "source": [
    "import sqlite3\n",
    "\n",
    "\n",
    "name_file = \"telefonbuch-new.db\"\n",
    "table_name = \"users_list\"\n",
    "#conn = sqlite3.connect(name_file)  # Verbindung zur Datenbank, wird erstellt, wenn nicht vorhanden\n",
    "#c = conn.cursor()  # Ein cursor wird erstellt\n",
    "\n",
    "def new_table(filename, table_name):\n",
    "    conn = sqlite3.connect(name_file)\n",
    "    c = conn.cursor()\n",
    "    sql = \"\"\"create table IF NOT EXISTS table_name\n",
    "    (\n",
    "        ID       integer\n",
    "        primary key,\n",
    "        vorname  text,\n",
    "        nachname text,\n",
    "        telefon  text\n",
    "    );\n",
    "    \"\"\"\n",
    "    c.execute(sql)  # SQL wird ausgeführt\n",
    "    conn.commit()\n",
    "    conn.close()# SQL-Befehl wird bestätigt\n",
    "    \n",
    "\n",
    "\n",
    "def fill_table(filename):\n",
    "    conn = sqlite3.connect(name_file)\n",
    "    c = conn.cursor()\n",
    "    print(\"Welcome to new phonebook! \\n If you want start press any key. \\n If you want exit from programm, type 'stop' or 'exit'.\")\n",
    "    stop_words = [\"stop\", \"exit\", \"quit\"]\n",
    "    ui = input()\n",
    "    while ui in stop_words:\n",
    "        vorname = input(\"Bitte geben Sie den Vornamen ein: \")# Ihr Code HIER!!!\n",
    "        nachname = input(\"Bitte geben Sie den Nachnamen ein: \")# Ihr Code HIER!!!3\n",
    "        telefonnummer = input(\"Bitte geben Sie den Telefonnummer ein: \")\n",
    "        params = (vorname, nachname, telefonnummer)\n",
    "        sql = \"\"\"INSERT INTO users_list (vorname, nachname, telefon) VALUES (?, ?, ?)\"\"\"\n",
    "\n",
    "        c.execute(sql, params)\n",
    "    else:\n",
    "        conn.commit()\n",
    "    conn.close()\n",
    "\n",
    "\n",
    "def find_number(username, filename):\n",
    "    conn = sqlite3.connect(name_file)\n",
    "    c = conn.cursor()\n",
    "    params = (username, )\n",
    "    sql = \"\"\"SELECT telefonnummer FROM filename  WHERE nachname=username;\"\"\"\n",
    "    result = c.execute(sql, params).fetchall()\n",
    "    return print(result)\n",
    "    \n",
    "def main():\n",
    "    name_file = \"telefonbuch-new.db\"\n",
    "    table_name = \"users_list\"\n",
    "    table_name1 = new_table(name_file, table_name)\n",
    "    data = fill_table(table_name1)\n",
    "    res = find_number(\"Smith\",data)\n",
    "    conn.close()\n",
    "    return res\n",
    "    \n",
    "\n",
    "main()\n",
    "    \n",
    "    "
   ],
   "metadata": {
    "collapsed": false,
    "ExecuteTime": {
     "end_time": "2024-04-24T13:31:23.493988Z",
     "start_time": "2024-04-24T13:31:19.174331Z"
    }
   },
   "outputs": [
    {
     "name": "stdout",
     "output_type": "stream",
     "text": [
      "Welcome to new phonebook! \n",
      " If you want start press any key. \n",
      " If you want exit from programm, type 'stop' or 'exit'.\n"
     ]
    },
    {
     "ename": "OperationalError",
     "evalue": "no such table: filename",
     "output_type": "error",
     "traceback": [
      "\u001B[1;31m---------------------------------------------------------------------------\u001B[0m",
      "\u001B[1;31mOperationalError\u001B[0m                          Traceback (most recent call last)",
      "Cell \u001B[1;32mIn[10], line 78\u001B[0m\n\u001B[0;32m     74\u001B[0m     conn\u001B[38;5;241m.\u001B[39mclose()\n\u001B[0;32m     75\u001B[0m     \u001B[38;5;28;01mreturn\u001B[39;00m res\n\u001B[1;32m---> 78\u001B[0m \u001B[43mmain\u001B[49m\u001B[43m(\u001B[49m\u001B[43m)\u001B[49m\n",
      "Cell \u001B[1;32mIn[10], line 73\u001B[0m, in \u001B[0;36mmain\u001B[1;34m()\u001B[0m\n\u001B[0;32m     71\u001B[0m table_name1 \u001B[38;5;241m=\u001B[39m new_table(name_file, table_name)\n\u001B[0;32m     72\u001B[0m data \u001B[38;5;241m=\u001B[39m fill_table(table_name1)\n\u001B[1;32m---> 73\u001B[0m res \u001B[38;5;241m=\u001B[39m \u001B[43mfind_number\u001B[49m\u001B[43m(\u001B[49m\u001B[38;5;124;43m\"\u001B[39;49m\u001B[38;5;124;43mSmith\u001B[39;49m\u001B[38;5;124;43m\"\u001B[39;49m\u001B[43m,\u001B[49m\u001B[43mdata\u001B[49m\u001B[43m)\u001B[49m\n\u001B[0;32m     74\u001B[0m conn\u001B[38;5;241m.\u001B[39mclose()\n\u001B[0;32m     75\u001B[0m \u001B[38;5;28;01mreturn\u001B[39;00m res\n",
      "Cell \u001B[1;32mIn[10], line 65\u001B[0m, in \u001B[0;36mfind_number\u001B[1;34m(username, filename)\u001B[0m\n\u001B[0;32m     63\u001B[0m params \u001B[38;5;241m=\u001B[39m (username, )\n\u001B[0;32m     64\u001B[0m sql \u001B[38;5;241m=\u001B[39m \u001B[38;5;124m\"\"\"\u001B[39m\u001B[38;5;124mSELECT telefonnummer FROM filename  WHERE nachname=username;\u001B[39m\u001B[38;5;124m\"\"\"\u001B[39m\n\u001B[1;32m---> 65\u001B[0m result \u001B[38;5;241m=\u001B[39m \u001B[43mc\u001B[49m\u001B[38;5;241;43m.\u001B[39;49m\u001B[43mexecute\u001B[49m\u001B[43m(\u001B[49m\u001B[43msql\u001B[49m\u001B[43m,\u001B[49m\u001B[43m \u001B[49m\u001B[43mparams\u001B[49m\u001B[43m)\u001B[49m\u001B[38;5;241m.\u001B[39mfetchall()\n\u001B[0;32m     66\u001B[0m \u001B[38;5;28;01mreturn\u001B[39;00m \u001B[38;5;28mprint\u001B[39m(result)\n",
      "\u001B[1;31mOperationalError\u001B[0m: no such table: filename"
     ]
    }
   ],
   "execution_count": 10
  },
  {
   "metadata": {
    "ExecuteTime": {
     "end_time": "2024-04-24T13:05:19.258941Z",
     "start_time": "2024-04-24T13:05:19.254415Z"
    }
   },
   "cell_type": "code",
   "source": "conn.close()",
   "outputs": [],
   "execution_count": 7
  },
  {
   "metadata": {
    "ExecuteTime": {
     "end_time": "2024-04-24T13:09:21.105808Z",
     "start_time": "2024-04-24T13:09:15.333817Z"
    }
   },
   "cell_type": "code",
   "source": [
    "import sqlite3\n",
    "\n",
    "conn = sqlite3.connect(\"telefonbuch-small.db\")  \n",
    "c = conn.cursor()\n",
    "\n",
    "sql = \"\"\"DROP TABLE IF EXISTS users_list\"\"\"\n",
    "c.execute(sql) \n",
    "conn.commit()   \n",
    "conn.close()"
   ],
   "outputs": [
    {
     "ename": "OperationalError",
     "evalue": "database is locked",
     "output_type": "error",
     "traceback": [
      "\u001B[1;31m---------------------------------------------------------------------------\u001B[0m",
      "\u001B[1;31mOperationalError\u001B[0m                          Traceback (most recent call last)",
      "Cell \u001B[1;32mIn[1], line 7\u001B[0m\n\u001B[0;32m      4\u001B[0m c \u001B[38;5;241m=\u001B[39m conn\u001B[38;5;241m.\u001B[39mcursor()\n\u001B[0;32m      6\u001B[0m sql \u001B[38;5;241m=\u001B[39m \u001B[38;5;124m\"\"\"\u001B[39m\u001B[38;5;124mDROP TABLE IF EXISTS users_list\u001B[39m\u001B[38;5;124m\"\"\"\u001B[39m\n\u001B[1;32m----> 7\u001B[0m \u001B[43mc\u001B[49m\u001B[38;5;241;43m.\u001B[39;49m\u001B[43mexecute\u001B[49m\u001B[43m(\u001B[49m\u001B[43msql\u001B[49m\u001B[43m)\u001B[49m \n\u001B[0;32m      8\u001B[0m conn\u001B[38;5;241m.\u001B[39mcommit()   \n\u001B[0;32m      9\u001B[0m conn\u001B[38;5;241m.\u001B[39mclose()\n",
      "\u001B[1;31mOperationalError\u001B[0m: database is locked"
     ]
    }
   ],
   "execution_count": 1
  },
  {
   "metadata": {
    "ExecuteTime": {
     "end_time": "2024-04-24T13:27:20.705405Z",
     "start_time": "2024-04-24T13:27:20.664628Z"
    }
   },
   "cell_type": "code",
   "source": [
    "import sqlite3\n",
    "\n",
    "name_file = \"telefonbuch-new.db\"\n",
    "table_name = \"users_list\"\n",
    "#conn = sqlite3.connect(name_file)  # Verbindung zur Datenbank, wird erstellt, wenn nicht vorhanden\n",
    "#c = conn.cursor()  # Ein cursor wird erstellt\n",
    "\n",
    "def new_table(filename, table):\n",
    "    conn = sqlite3.connect(\"telefonbuch-new.db\")\n",
    "    c = conn.cursor()\n",
    "    sql = \"\"\"create table IF NOT EXISTS users_list\n",
    "    (\n",
    "        ID       integer\n",
    "        primary key,\n",
    "        vorname  text,\n",
    "        nachname text,\n",
    "        telefon  text\n",
    "    );\n",
    "    \"\"\"\n",
    "    c.execute(sql)  # SQL wird ausgeführt\n",
    "    conn.commit()\n",
    "    conn.close()# SQL-Befehl wird bestätigt\n",
    "    \n",
    "    \n",
    "\n",
    "\n",
    "def fill_table():\n",
    "    conn = sqlite3.connect(name_file)\n",
    "    c = conn.cursor()\n",
    "    print(\"Welcome to new phonebook! \\n If you want start press any key. \\n If you want exit from programm, type 'stop' or 'exit'.\")\n",
    "    stop_words = [\"stop\", \"exit\", \"quit\"]\n",
    "    ui = input()\n",
    "    while ui in stop_words:\n",
    "        vorname = input(\"Bitte geben Sie den Vornamen ein: \")# Ihr Code HIER!!!\n",
    "        nachname = input(\"Bitte geben Sie den Nachnamen ein: \")# Ihr Code HIER!!!3\n",
    "        telefonnummer = input(\"Bitte geben Sie den Telefonnummer ein: \")\n",
    "        params = (vorname, nachname, telefonnummer)\n",
    "        sql = \"\"\"INSERT INTO users_list (vorname, nachname, telefon) VALUES (?, ?, ?)\"\"\"\n",
    "\n",
    "        c.execute(sql, params)\n",
    "    else:\n",
    "        conn.commit()\n",
    "    conn.close()\n",
    "\n",
    "\n",
    "def find_number(username, filename):\n",
    "    conn = sqlite3.connect(name_file)\n",
    "    c = conn.cursor()\n",
    "    params = (username, )\n",
    "    sql = \"\"\"SELECT telefonnummer FROM filename  WHERE nachname=username;\"\"\"\n",
    "    result = c.execute(sql, params).fetchall()\n",
    "    return print(result)\n",
    "    \n",
    "def main():\n",
    "    name_file = \"telefonbuch-small.db\"\n",
    "    table_name = \"users_list\"\n",
    "    table_name1 = new_table(name_file, table_name)\n",
    "    data = fill_table(table_name1)\n",
    "    res = find_number(\"Smith\",data)\n",
    "    conn.close()\n",
    "    return res\n",
    "    \n",
    "\n",
    "main()"
   ],
   "outputs": [
    {
     "ename": "TypeError",
     "evalue": "new_table() takes 0 positional arguments but 2 were given",
     "output_type": "error",
     "traceback": [
      "\u001B[1;31m---------------------------------------------------------------------------\u001B[0m",
      "\u001B[1;31mTypeError\u001B[0m                                 Traceback (most recent call last)",
      "Cell \u001B[1;32mIn[9], line 64\u001B[0m\n\u001B[0;32m     60\u001B[0m     conn\u001B[38;5;241m.\u001B[39mclose()\n\u001B[0;32m     61\u001B[0m     \u001B[38;5;28;01mreturn\u001B[39;00m res\n\u001B[1;32m---> 64\u001B[0m \u001B[43mmain\u001B[49m\u001B[43m(\u001B[49m\u001B[43m)\u001B[49m\n",
      "Cell \u001B[1;32mIn[9], line 57\u001B[0m, in \u001B[0;36mmain\u001B[1;34m()\u001B[0m\n\u001B[0;32m     55\u001B[0m name_file \u001B[38;5;241m=\u001B[39m \u001B[38;5;124m\"\u001B[39m\u001B[38;5;124mtelefonbuch-small.db\u001B[39m\u001B[38;5;124m\"\u001B[39m\n\u001B[0;32m     56\u001B[0m table_name \u001B[38;5;241m=\u001B[39m \u001B[38;5;124m\"\u001B[39m\u001B[38;5;124musers_list\u001B[39m\u001B[38;5;124m\"\u001B[39m\n\u001B[1;32m---> 57\u001B[0m table_name1 \u001B[38;5;241m=\u001B[39m \u001B[43mnew_table\u001B[49m\u001B[43m(\u001B[49m\u001B[43mname_file\u001B[49m\u001B[43m,\u001B[49m\u001B[43m \u001B[49m\u001B[43mtable_name\u001B[49m\u001B[43m)\u001B[49m\n\u001B[0;32m     58\u001B[0m data \u001B[38;5;241m=\u001B[39m fill_table(table_name1)\n\u001B[0;32m     59\u001B[0m res \u001B[38;5;241m=\u001B[39m find_number(\u001B[38;5;124m\"\u001B[39m\u001B[38;5;124mSmith\u001B[39m\u001B[38;5;124m\"\u001B[39m,data)\n",
      "\u001B[1;31mTypeError\u001B[0m: new_table() takes 0 positional arguments but 2 were given"
     ]
    }
   ],
   "execution_count": 9
  },
  {
   "metadata": {},
   "cell_type": "code",
   "outputs": [],
   "execution_count": null,
   "source": ""
  },
  {
   "cell_type": "markdown",
   "metadata": {},
   "source": [
    "<img style=\"float: center;\" src=\"img/wbs-logo.jpg\">\n",
    "\n",
    "\n",
    "### Abbildungs- und Quellenverzeichnis\n",
    "\n",
    "Das Python Logo ist ein eingetragenes Warenzeichen der Python Software Foundation\n",
    "Alle auf dieser Website veröffentlichten Logos sowie Marken-, Produkt- und Warenzeichen sind Eigentum der jeweiligen Unternehmen\n",
    "© WBS TRAINING AG – Alle Rechte vorbehalten\n",
    "\n",
    "### Nutzungsrechte:\n",
    "Die Nutzung dieser Dokumentation ist ausschließlich für Schulungszwecke der WBS TRAINING AG gestattet. Eine Weitergabe an Dritte, auch auszugsweise, sowie Vervielfältigungen und Verbreitungen aller Art (elektronische und andere Verfahren) inklusive Übersetzungen sind nur mit vorheriger schriftlicher Zustimmung des Rechtinhabers gestattet. Zuwiderhandlungen verpflichten zu Schadenersatz.\n",
    "\n",
    "### Herausgeber:\n",
    "\n",
    "WBS TRAINING AG\n",
    "Lorenzweg 5\n",
    "12099 Berlin\n",
    "Haftungsausschluss:\n",
    "Alle Inhalte sind nach bestem Wissen korrekt und vollständig recherchiert und mit größtmöglicher Sorgfalt für die Schulungsunterlage zusammengestellt. Wir sind um die laufende Aktualisierung aller Informationen und Daten bemüht. Dennoch können Fehler (z.B. Abweichungen zur beschriebenen Hard- und Software durch kurzfristige Updates) auftreten, sodass wir für die vollständige Übereinstimmung, Richtigkeit und Aktualität keine Gewähr übernehmen. Hinweise unserer Nutzer werden konsequent weiterverfolgt.\n"
   ]
  }
 ],
 "metadata": {
  "kernelspec": {
   "display_name": "Python 3",
   "language": "python",
   "name": "python3"
  },
  "language_info": {
   "codemirror_mode": {
    "name": "ipython",
    "version": 3
   },
   "file_extension": ".py",
   "mimetype": "text/x-python",
   "name": "python",
   "nbconvert_exporter": "python",
   "pygments_lexer": "ipython3",
   "version": "3.8.5"
  }
 },
 "nbformat": 4,
 "nbformat_minor": 4
}
