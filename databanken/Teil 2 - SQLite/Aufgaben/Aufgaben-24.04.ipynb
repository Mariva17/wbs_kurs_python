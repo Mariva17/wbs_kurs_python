{
 "cells": [
  {
   "cell_type": "markdown",
   "metadata": {},
   "source": [
    "# Aufgaben\n",
    "\n",
    "## Aufgabe 1\n",
    "\n",
    "Erstelle eine SQLite-Datenbank mit einer Tabelle namens schueler. Die Tabelle soll die folgenden Spalten enthalten:\n",
    "\n",
    "- name (Text)\n",
    "- vorname (Text)\n",
    "- gebdatum (Datum)\n",
    "- hobby (Text)\n",
    "- lieblingsfach (Text)\n",
    "\n",
    "Füge dann mindestens fünf Datensätze in die Tabelle ein."
   ]
  },
  {
   "cell_type": "markdown",
   "source": [
    "Zur Vereinfachung der Aufgabe finden Sie in der nächsten Zelle ein paar Daten. Der SQL-Befehl müsste natürlich drum herum gebaut werden."
   ],
   "metadata": {
    "collapsed": false
   }
  },
  {
   "cell_type": "code",
   "execution_count": null,
   "outputs": [],
   "source": [
    " ('Musterfrau', 'Lena', '2001-10-28', 'Musikverein', 'Mathe')\n",
    "('Mustermann', 'Max', '2002-01-01', 'Sportverein', 'Deutsch')\n",
    "('Mustermeier', 'Anna', '2003-02-02', 'Lesen', 'Englisch')\n",
    "('Mustersohn', 'Jan', '2004-03-03', 'Spielen', 'Physik')\n",
    "('Mustertochter', 'Lisa', '2005-04-04', 'Basteln', 'Chemie')"
   ],
   "metadata": {
    "collapsed": false
   }
  },
  {
   "cell_type": "code",
   "metadata": {
    "ExecuteTime": {
     "end_time": "2024-04-23T12:53:49.832209Z",
     "start_time": "2024-04-23T12:53:09.517605Z"
    }
   },
   "source": [
    "import sqlite3\n",
    "\n",
    "conn = sqlite3.connect(\"schule.db\")\n",
    "c = conn.cursor()\n",
    "\n",
    "sql = \"\"\"create table if not exists schueler (\n",
    "    ID       integer\n",
    "            primary key,\n",
    "    Nachname  text,\n",
    "    vorname text,\n",
    "    gebdatum datum,\n",
    "    hobby  text,\n",
    "    lieblingsfach text\n",
    "    \n",
    ");\"\"\"\n",
    "c.execute(sql)\n",
    "\n",
    "nachname = input(\"Bitte geben Sie den Nachnamen ein: \")\n",
    "vorname = input(\"Bitte geben Sie den Vornamen ein: \")\n",
    "gebdatum = input(\"Bitte geben Sie den Gebdatum ein: \")\n",
    "hobby = input(\"Bitte geben Sie ein Hobby ein: \")\n",
    "lieblingsfach = input(\"Bitte geben Sie ein Lieblingsfach ein: \")\n",
    "\n",
    "params = (nachname, vorname, gebdatum, hobby, lieblingsfach)\n",
    "\n",
    "sql2 = \"\"\"INSERT INTO schueler (nachname, vorname, gebdatum, hobby, lieblingsfach) VALUES (?, ?, ?, ?, ?);\"\"\"\n",
    "\n",
    "c.execute(sql2, params)\n",
    "conn.commit()\n",
    "conn.close()\n",
    "\n"
   ],
   "outputs": [],
   "execution_count": 11
  },
  {
   "cell_type": "markdown",
   "source": [
    "## Aufgabe 2\n",
    "\n",
    "Schreibe ein Python-Programm, das alle Datensätze aus der Tabelle schuelern ausgibt, die das Hobby \"Musikverein\" haben."
   ],
   "metadata": {
    "collapsed": false
   }
  },
  {
   "cell_type": "code",
   "source": [
    "import sqlite3\n",
    "conn = sqlite3.connect(\"schule.db\")\n",
    "c = conn.cursor()\n",
    "\n",
    "sql = \"\"\"SELECT * FROM schueler WHERE hobby=\"Musikverein\";\"\"\"\n",
    "result = c.execute(sql).fetchall()\n",
    "print(result)\n"
   ],
   "metadata": {
    "collapsed": false,
    "ExecuteTime": {
     "end_time": "2024-04-24T08:56:40.388296Z",
     "start_time": "2024-04-24T08:56:40.380513Z"
    }
   },
   "outputs": [
    {
     "name": "stdout",
     "output_type": "stream",
     "text": [
      "[(1, 'Kraus', 'Lena', '12-01-2007', 'Musikverein', 'Mathe')]\n"
     ]
    }
   ],
   "execution_count": 2
  },
  {
   "metadata": {
    "ExecuteTime": {
     "end_time": "2024-04-24T09:24:36.457469Z",
     "start_time": "2024-04-24T09:24:36.451880Z"
    }
   },
   "cell_type": "code",
   "source": [
    "import sqlite3\n",
    "conn = sqlite3.connect(\"schule.db\")\n",
    "c = conn.cursor()\n",
    "\n",
    "find_el = \"Musikverein\"\n",
    "params = (find_el,)\n",
    "sql = \"\"\"SELECT * FROM schueler WHERE hobby=?;\"\"\"\n",
    "result = c.execute(sql, params).fetchall()\n",
    "print(result)"
   ],
   "outputs": [
    {
     "name": "stdout",
     "output_type": "stream",
     "text": [
      "[(1, 'Kraus', 'Lena', '12-01-2007', 'Musikverein', 'Mathe')]\n"
     ]
    }
   ],
   "execution_count": 3
  },
  {
   "cell_type": "markdown",
   "source": [
    "## Aufgabe 3\n",
    "\n",
    "Ändere den Lieblingsfach-Eintrag des Datensatzes mit der ID 1 von \"Mathe\" in \"Informatik\"."
   ],
   "metadata": {
    "collapsed": false
   }
  },
  {
   "cell_type": "code",
   "source": [
    "import sqlite3\n",
    "conn = sqlite3.connect(\"schule.db\")\n",
    "c = conn.cursor()\n",
    "\n",
    "lieblingsfach = \"Mathe\"\n",
    "neu_lieblingsfach = \"Informatik\"\n",
    "params = (neu_lieblingsfach, lieblingsfach)\n",
    "sql = \"\"\"UPDATE schueler SET lieblingsfach = ? WHERE lieblingsfach = ?\"\"\"\n",
    "c.execute(sql, params)\n",
    "conn.commit()\n",
    "conn.close()"
   ],
   "metadata": {
    "collapsed": false,
    "ExecuteTime": {
     "end_time": "2024-04-24T11:25:06.643008Z",
     "start_time": "2024-04-24T11:25:06.613571Z"
    }
   },
   "outputs": [],
   "execution_count": 3
  },
  {
   "cell_type": "markdown",
   "source": [
    "## Aufgabe 4\n",
    "\n",
    "Lösche den Datensatz mit der ID 2."
   ],
   "metadata": {
    "collapsed": false
   }
  },
  {
   "cell_type": "code",
   "source": [
    "import sqlite3\n",
    "conn = sqlite3.connect(\"schule.db\")\n",
    "c = conn.cursor()\n",
    "\n",
    "find_el = 2\n",
    "\n",
    "params = (find_el, )\n",
    "sql = \"\"\"DELETE FROM schueler  WHERE ID = ?\"\"\"\n",
    "c.execute(sql, params)\n",
    "conn.commit()\n",
    "conn.close()"
   ],
   "metadata": {
    "collapsed": false,
    "ExecuteTime": {
     "end_time": "2024-04-24T11:32:53.740641Z",
     "start_time": "2024-04-24T11:32:53.713854Z"
    }
   },
   "outputs": [],
   "execution_count": 5
  },
  {
   "cell_type": "markdown",
   "source": [
    "## Aufgabe 5\n",
    "\n",
    "Schreibe ein Python-Programm, das alle Datensätze aus der Tabelle schueler in alphabetischer Reihenfolge nach dem Nachnamen ausgibt."
   ],
   "metadata": {
    "collapsed": false
   }
  },
  {
   "cell_type": "code",
   "source": [
    "import sqlite3\n",
    "conn = sqlite3.connect(\"schule.db\")\n",
    "c = conn.cursor()\n",
    "\n",
    "sql = \"\"\"SELECT * FROM schueler ORDER BY nachname DESC LIMIT 1;\"\"\"\n",
    "result = c.execute(sql).fetchall()\n",
    "print(result)"
   ],
   "metadata": {
    "collapsed": false,
    "ExecuteTime": {
     "end_time": "2024-04-24T11:48:54.843836Z",
     "start_time": "2024-04-24T11:48:54.837860Z"
    }
   },
   "outputs": [
    {
     "name": "stdout",
     "output_type": "stream",
     "text": [
      "[(3, 'Vogel', 'Anna', '26-11-2006', 'Lesen', 'Englisch')]\n"
     ]
    }
   ],
   "execution_count": 7
  },
  {
   "cell_type": "markdown",
   "metadata": {},
   "source": [
    "<img style=\"float: center;\" src=\"img/wbs-logo.jpg\">\n",
    "\n",
    "### Abbildungs- und Quellenverzeichnis\n",
    "https://de.wikipedia.org/wiki/Python_(Programmiersprache)\n",
    "Das Python Logo ist ein eingetragenes Warenzeichen der Python Software Foundation\n",
    "Alle auf dieser Website veröffentlichten Logos sowie Marken-, Produkt- und Warenzeichen sind Eigentum der jeweiligen Unternehmen\n",
    "© WBS TRAINING AG – Alle Rechte vorbehalten\n",
    "\n",
    "### Nutzungsrechte:\n",
    "Die Nutzung dieser Dokumentation ist ausschließlich für Schulungszwecke der WBS TRAINING AG gestattet. Eine Weitergabe an Dritte, auch auszugsweise, sowie Vervielfältigungen und Verbreitungen aller Art (elektronische und andere Verfahren) inklusive Übersetzungen sind nur mit vorheriger schriftlicher Zustimmung des Rechtinhabers gestattet. Zuwiderhandlungen verpflichten zu Schadenersatz.\n",
    "\n",
    "### Herausgeber:\n",
    "\n",
    "WBS TRAINING AG\n",
    "Lorenzweg 5\n",
    "12099 Berlin\n",
    "\n",
    "### Haftungsausschluss:\n",
    "Alle Inhalte sind nach bestem Wissen korrekt und vollständig recherchiert und mit größtmöglicher Sorgfalt für die Schulungsunterlage zusammengestellt. Wir sind um die laufende Aktualisierung aller Informationen und Daten bemüht. Dennoch können Fehler (z.B. Abweichungen zur beschriebenen Hard- und Software durch kurzfristige Updates) auftreten, sodass wir für die vollständige Übereinstimmung, Richtigkeit und Aktualität keine Gewähr übernehmen. Hinweise unserer Nutzer werden konsequent weiterverfolgt.\n"
   ]
  }
 ],
 "metadata": {
  "kernelspec": {
   "display_name": "Python 3",
   "language": "python",
   "name": "python3"
  },
  "language_info": {
   "codemirror_mode": {
    "name": "ipython",
    "version": 3
   },
   "file_extension": ".py",
   "mimetype": "text/x-python",
   "name": "python",
   "nbconvert_exporter": "python",
   "pygments_lexer": "ipython3",
   "version": "3.8.5"
  }
 },
 "nbformat": 4,
 "nbformat_minor": 4
}
